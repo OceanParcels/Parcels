{
 "cells": [
  {
   "cell_type": "markdown",
   "metadata": {},
   "source": [
    "# The impact of grid and velocity interpolation scheme on trajectories"
   ]
  },
  {
   "cell_type": "markdown",
   "metadata": {},
   "source": [
    "The notebook below shows how sensitive trajectories are to the combination of grid and velocity interpolation schemes. We will use the Peninsula example (also discussed in the [Quickstart to Parcels tutorial](https://docs.oceanparcels.org/en/latest/examples/parcels_tutorial.html#Sampling-a-Field-with-Particles)), and carefully compare how trajectories on the [A-grid and C-grid](https://docs.oceanparcels.org/en/latest/examples/documentation_indexing.html) version of this flow differ. To enhance the differences, we deliberately use a very coarse-resolution grid."
   ]
  },
  {
   "cell_type": "code",
   "execution_count": null,
   "metadata": {},
   "outputs": [],
   "source": [
    "from dataclasses import dataclass\n",
    "from typing import Literal\n",
    "\n",
    "import matplotlib.pyplot as plt\n",
    "import numpy as np\n",
    "import scipy\n",
    "import xarray as xr\n",
    "from matplotlib.lines import Line2D\n",
    "\n",
    "import parcels"
   ]
  },
  {
   "cell_type": "markdown",
   "metadata": {},
   "source": [
    "We start with defining the `FieldSet` for the Peninsula flow and the grid. Note that on the A-grid we can directly calculate the velocities on the grid points from the streamfunction `P`. On the C-grid, we need to differentiate the streamfunction `P` to get the velocities on the staggered `U` and `V` grid points."
   ]
  },
  {
   "cell_type": "code",
   "execution_count": null,
   "metadata": {},
   "outputs": [],
   "source": [
    "def peninsula_fieldset(xdim=14, ydim=16, grid_type=\"A\", interp_method=\"linear\"):\n",
    "    domainsizeX, domainsizeY = (1.0e5, 5.0e4)\n",
    "    lon = np.linspace(0, domainsizeX, xdim, dtype=np.float32)\n",
    "    lat = np.linspace(0, domainsizeY, ydim, dtype=np.float32)\n",
    "\n",
    "    u0 = 1\n",
    "    x0 = domainsizeX / 2\n",
    "    R = 0.32 * domainsizeX / 2\n",
    "\n",
    "    x, y = np.meshgrid(lon, lat, sparse=True, indexing=\"xy\")\n",
    "    P = u0 * R**2 * y / ((x - x0) ** 2 + y**2) - u0 * y\n",
    "    landpoints = P >= 0.0\n",
    "    P[landpoints] = 0.0\n",
    "\n",
    "    if grid_type == \"A\":\n",
    "        U = u0 - u0 * R**2 * ((x - x0) ** 2 - y**2) / (((x - x0) ** 2 + y**2) ** 2)\n",
    "        V = -2 * u0 * R**2 * ((x - x0) * y) / (((x - x0) ** 2 + y**2) ** 2)\n",
    "        U[landpoints] = 0.0\n",
    "        V[landpoints] = 0.0\n",
    "    elif grid_type == \"C\":\n",
    "        U = np.zeros(P.shape)\n",
    "        V = np.zeros(P.shape)\n",
    "        V[:, 1:] = (P[:, 1:] - P[:, :-1]) / (lon[1] - lon[0])\n",
    "        U[1:, :] = -(P[1:, :] - P[:-1, :]) / (lat[1] - lat[0])\n",
    "\n",
    "    data = {\"U\": U, \"V\": V, \"P\": P}\n",
    "    dimensions = {\"lon\": lon, \"lat\": lat}\n",
    "\n",
    "    fieldset = parcels.FieldSet.from_data(data, dimensions, mesh=\"flat\")\n",
    "    fieldset.U.interp_method = interp_method\n",
    "    fieldset.V.interp_method = interp_method\n",
    "    return fieldset"
   ]
  },
  {
   "cell_type": "markdown",
   "metadata": {},
   "source": [
    "Next, we define some helper Kernels and the ParticleType."
   ]
  },
  {
   "cell_type": "code",
   "execution_count": null,
   "metadata": {},
   "outputs": [],
   "source": [
    "def SampleP(particle, fieldset, time):\n",
    "    particle.p = fieldset.P[time, particle.lon, particle.lat, particle.depth]\n",
    "\n",
    "\n",
    "def DeleteParticle(particle, fieldset, time):\n",
    "    if particle.state >= 50:\n",
    "        particle.delete()\n",
    "\n",
    "\n",
    "ptype = parcels.Particle.add_variables({\"p\": np.float32})"
   ]
  },
  {
   "cell_type": "markdown",
   "metadata": {},
   "source": [
    "Now we run six different experiments, each with a different combination of grid type (\"A\" or \"C\") and velocity interpolation scheme ([\"linear\"](https://docs.oceanparcels.org/en/latest/examples/tutorial_interpolation.html), [\"freeslip\"](https://docs.oceanparcels.org/en/latest/examples/documentation_unstuck_Agrid.html#3.-Slip-boundary-conditions), [\"cgrid_velocity\"](https://docs.oceanparcels.org/en/latest/examples/documentation_indexing.html) and [\"analytical\"](https://docs.oceanparcels.org/en/latest/examples/tutorial_analyticaladvection.html))."
   ]
  },
  {
   "cell_type": "code",
   "execution_count": null,
   "metadata": {},
   "outputs": [],
   "source": [
    "@dataclass\n",
    "class Experiment:\n",
    "    \"\"\"Utility class to consolidate experiment parameters.\"\"\"\n",
    "\n",
    "    grid_type: Literal[\"A\", \"C\"]\n",
    "    interp_method: Literal[\"linear\", \"freeslip\", \"cgrid_velocity\", \"analytical\"]\n",
    "\n",
    "    @property\n",
    "    def fieldset_interp_method(self):\n",
    "        \"\"\"Which FieldSet interpolation method to use for each experiment.\"\"\"\n",
    "        if self.interp_method == \"analytical\":\n",
    "            return \"cgrid_velocity\"\n",
    "        return self.interp_method\n",
    "\n",
    "    @property\n",
    "    def advection_kernel(self):\n",
    "        if self.interp_method == \"analytical\":\n",
    "            return parcels.AdvectionAnalytical\n",
    "        return parcels.AdvectionRK4\n",
    "\n",
    "    @property\n",
    "    def file_name(self):\n",
    "        return f\"Trajs_{self.grid_type}_{self.interp_method}.zarr\"\n",
    "\n",
    "    @property\n",
    "    def plot_title(self):\n",
    "        if self.interp_method == \"analytical\":\n",
    "            interp_name = \"analytical advection\"\n",
    "        else:\n",
    "            interp_name = f\"{self.interp_method.replace('_velocity', '')} interpolation\"\n",
    "        return f\"{self.grid_type}grid & {interp_name}\"\n",
    "\n",
    "\n",
    "exps = [\n",
    "    Experiment(\"A\", \"linear\"),\n",
    "    Experiment(\"A\", \"freeslip\"),\n",
    "    Experiment(\"C\", \"cgrid_velocity\"),\n",
    "    Experiment(\"C\", \"analytical\"),\n",
    "    Experiment(\"A\", \"cgrid_velocity\"),\n",
    "    Experiment(\"C\", \"linear\"),\n",
    "]\n",
    "\n",
    "dt = 1e3  # setting output and execution timestep to same value\n",
    "\n",
    "for exp in exps:\n",
    "    fieldset = peninsula_fieldset(\n",
    "        grid_type=exp.grid_type, interp_method=exp.fieldset_interp_method\n",
    "    )\n",
    "\n",
    "    pset = parcels.ParticleSet.from_line(\n",
    "        fieldset, pclass=ptype, size=7, start=(1e3, 1e3), finish=(1e3, 10e3)\n",
    "    )\n",
    "    outfile = pset.ParticleFile(name=exp.file_name, outputdt=dt)\n",
    "\n",
    "    pset.execute(\n",
    "        [exp.advection_kernel, SampleP, DeleteParticle],\n",
    "        endtime=1e5,\n",
    "        dt=dt,\n",
    "        output_file=outfile,\n",
    "    )"
   ]
  },
  {
   "cell_type": "markdown",
   "metadata": {},
   "source": [
    "We carefully compute the landmask (i.e. where the peninsula field has land), which is important for the interpretation of land that is consistent with Parcels (see also the [Preventing stuck particles tutorial](https://docs.oceanparcels.org/en/latest/examples/documentation_unstuck_Agrid.html#2.-Displacement))."
   ]
  },
  {
   "cell_type": "code",
   "execution_count": null,
   "metadata": {},
   "outputs": [],
   "source": [
    "landmask = np.ma.masked_values(fieldset.U.data[0, :, :], 0)\n",
    "landmask = landmask.mask.astype(\"int\")\n",
    "\n",
    "lonplot, latplot = np.meshgrid(fieldset.U.lon, fieldset.U.lat)\n",
    "\n",
    "fl = scipy.interpolate.RectBivariateSpline(\n",
    "    fieldset.U.lat, fieldset.U.lon, landmask, kx=1, ky=1\n",
    ")\n",
    "x = fieldset.U.lon[:-1] + np.diff(fieldset.U.lon) / 2\n",
    "y = fieldset.U.lat[:-1] + np.diff(fieldset.U.lat) / 2\n",
    "lon_centers, lat_centers = np.meshgrid(x, y)\n",
    "l_centers = fl(lat_centers[:, 0], lon_centers[0, :])\n",
    "lmask = np.ma.masked_values(l_centers, 1)"
   ]
  },
  {
   "cell_type": "markdown",
   "metadata": {},
   "source": [
    "Finally, we plot the trajectories for all six experiments. We see that the trajectories are very sensitive to the combination of grid and velocity interpolation scheme. Note for example that using `cgrid_velocity` interpolation on an A-grid (fifth panel) leads to particles getting grounded on the land, which is not physical."
   ]
  },
  {
   "cell_type": "code",
   "execution_count": null,
   "metadata": {},
   "outputs": [],
   "source": [
    "fig, axs = plt.subplots(1, len(exps), figsize=(15, 4), sharey=\"row\")\n",
    "\n",
    "\n",
    "def plot_experiment(ax, exp: Experiment) -> None:\n",
    "    ds = xr.open_zarr(exp.file_name)\n",
    "    ax.pcolormesh(lonplot, latplot, lmask.mask, cmap=\"Blues\")\n",
    "    ax.scatter(\n",
    "        lonplot,\n",
    "        latplot,\n",
    "        c=landmask,\n",
    "        s=20,\n",
    "        cmap=\"Blues\",\n",
    "        vmin=-0.05,\n",
    "        vmax=0.05,\n",
    "        edgecolors=\"k\",\n",
    "    )\n",
    "    ax.plot(ds[\"lon\"].T, ds[\"lat\"].T, linewidth=2)\n",
    "    ax.set_title(exp.plot_title)\n",
    "\n",
    "    # Set the same limits for all subplots\n",
    "    ax.set_xlim([fieldset.U.lon.min(), fieldset.U.lon.max()])\n",
    "    ax.set_ylim([0, 23e3])\n",
    "    m2km = lambda x, _: f\"{x / 1000:.1f}\"\n",
    "    ax.xaxis.set_major_formatter(m2km)\n",
    "    ax.yaxis.set_major_formatter(m2km)\n",
    "    ax.set_xlabel(\"x [km]\")\n",
    "\n",
    "\n",
    "for i, (ax, exp) in enumerate(zip(axs, exps)):\n",
    "    if i == 0:\n",
    "        ax.set_ylabel(\"y [km]\")\n",
    "    plot_experiment(ax, exp)\n",
    "\n",
    "plt.tight_layout()\n",
    "plt.show()"
   ]
  },
  {
   "cell_type": "markdown",
   "metadata": {},
   "source": [
    "Because we know that particles must follow lines of constant streamfunction, we can also plot the streamlines of the flow field. When we overlay the \"Agrid & linear interpolation\" and \"Cgrid & cgrid interpolation\" trajectories onto these streamlines, we see that they are subtly different."
   ]
  },
  {
   "cell_type": "code",
   "execution_count": null,
   "metadata": {},
   "outputs": [],
   "source": [
    "fig, ax = plt.subplots(1, 1, figsize=(5, 4))\n",
    "ax.pcolormesh(lonplot, latplot, lmask.mask, cmap=\"Blues\")\n",
    "ax.scatter(\n",
    "    lonplot,\n",
    "    latplot,\n",
    "    c=landmask,\n",
    "    s=20,\n",
    "    cmap=\"Blues\",\n",
    "    vmin=-0.05,\n",
    "    vmax=0.05,\n",
    "    edgecolors=\"k\",\n",
    ")\n",
    "ax.contour(lonplot, latplot, fieldset.P.data[0, :, :], colors=\"k\", levels=50)\n",
    "\n",
    "exps_of_interest = filter(\n",
    "    lambda exp: exp.plot_title\n",
    "    in [\"Agrid & linear interpolation\", \"Cgrid & cgrid interpolation\"],\n",
    "    exps,\n",
    ")\n",
    "handles = []\n",
    "for i, exp in enumerate(exps_of_interest):\n",
    "    ds = xr.open_zarr(exp.file_name)\n",
    "    ax.plot(\n",
    "        ds[\"lon\"].T,\n",
    "        ds[\"lat\"].T,\n",
    "        linewidth=2,\n",
    "        color=f\"C{i:02d}\",\n",
    "    )\n",
    "    # Manually save label for legend\n",
    "    handles.append(Line2D([0], [0], label=exp.plot_title, color=f\"C{i:02d}\"))\n",
    "\n",
    "ax.legend(handles=handles)\n",
    "ax.set_xlim([fieldset.U.lon.min(), fieldset.U.lon.max()])\n",
    "ax.set_ylim([0, 23e3])\n",
    "ax.set_ylabel(\"y [km]\")\n",
    "ax.set_xlabel(\"x [km]\")\n",
    "m2km = lambda x, _: f\"{x / 1000:.1f}\"\n",
    "ax.xaxis.set_major_formatter(m2km)\n",
    "ax.yaxis.set_major_formatter(m2km)\n",
    "\n",
    "plt.tight_layout()\n",
    "plt.show()"
   ]
  },
  {
   "cell_type": "markdown",
   "metadata": {},
   "source": [
    "To further investigate the differences, we can also plot the change in the streamfunction value sampled by the particle (`particle.p`) between the final and start location for each experiment. We see that the difference is larger for particles that start farther south and thus get closer to the peninsula. The difference in streamfunction change for the particle that started farthest north is very close to zero for all of the first four experiments; and much larger for the fifth and sixth experiments (where the grid and interpolation scheme do not match up). "
   ]
  },
  {
   "cell_type": "code",
   "execution_count": null,
   "metadata": {},
   "outputs": [],
   "source": [
    "fig, ax = plt.subplots(1, 1, figsize=(6, 4))\n",
    "\n",
    "for i, exp in enumerate(exps):\n",
    "    ds = xr.open_zarr(exp.file_name)\n",
    "    ax.plot(\n",
    "        ds.lat[2:, 0] / 1e3 + i / 10,\n",
    "        ds.p[2:, -1] - ds.p[2:, 0],\n",
    "        \"o\",\n",
    "        alpha=0.7,\n",
    "        label=exp.plot_title,\n",
    "        markeredgecolor=\"k\",\n",
    "    )\n",
    "ax.legend(loc=\"lower right\")\n",
    "ax.hlines(0, 3, 11, linestyles=\"--\", color=\"k\")\n",
    "ax.set_xlabel(\"y-location at start [km]\")\n",
    "ax.set_xlim([3, 11])\n",
    "ax.set_ylabel(\"$p_{end} - p_{start}$\")\n",
    "plt.tight_layout()\n",
    "plt.show()"
   ]
  },
  {
   "cell_type": "markdown",
   "metadata": {},
   "source": [
    "This clearly shows why it is important to consider the combination of grid and interpolation scheme when running Parcels simulations."
   ]
  }
 ],
 "metadata": {
  "kernelspec": {
   "display_name": "parcels",
   "language": "python",
   "name": "python3"
  },
  "language_info": {
   "codemirror_mode": {
    "name": "ipython",
    "version": 3
   },
   "file_extension": ".py",
   "mimetype": "text/x-python",
   "name": "python",
   "nbconvert_exporter": "python",
   "pygments_lexer": "ipython3",
   "version": "3.12.3"
  }
 },
 "nbformat": 4,
 "nbformat_minor": 2
}
