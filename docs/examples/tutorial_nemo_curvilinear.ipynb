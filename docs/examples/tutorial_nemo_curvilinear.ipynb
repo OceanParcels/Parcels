{
 "cells": [
  {
   "attachments": {},
   "cell_type": "markdown",
   "metadata": {},
   "source": [
    "# Curvilinear grids\n"
   ]
  },
  {
   "attachments": {},
   "cell_type": "markdown",
   "metadata": {},
   "source": [
    "Parcels also supports [curvilinear grids](https://www.nemo-ocean.eu/doc/node108.html) such as those used in the [NEMO models](https://www.nemo-ocean.eu/).\n",
    "\n",
    "We will be using the example data in the `NemoCurvilinear_data/` directory. These fields are a purely zonal flow on an aqua-planet (so zonal-velocity is 1 m/s and meridional-velocity is 0 m/s everywhere, and no land). However, because of the curvilinear grid, the `U` and `V` fields vary north of 20N.\n"
   ]
  },
  {
   "cell_type": "code",
   "execution_count": null,
   "metadata": {},
   "outputs": [],
   "source": [
    "from datetime import timedelta\n",
    "\n",
    "import matplotlib.pyplot as plt\n",
    "import numpy as np\n",
    "import xarray as xr\n",
    "\n",
    "import parcels"
   ]
  },
  {
   "attachments": {},
   "cell_type": "markdown",
   "metadata": {},
   "source": [
    "We can create a `FieldSet` just like we do for normal grids.\n",
    "Note that NEMO is discretised on a C-grid. U and V velocities are not located on the same nodes (see https://www.nemo-ocean.eu/doc/node19.html ).\n",
    "\n",
    "```\n",
    " __V1__\n",
    "|      |\n",
    "U0     U1\n",
    "|__V0__|\n",
    "```\n",
    "\n",
    "To interpolate U, V velocities on the C-grid, Parcels needs to read the f-nodes, which are located on the corners of the cells (for indexing details: https://www.nemo-ocean.eu/doc/img360.png ).\n"
   ]
  },
  {
   "cell_type": "code",
   "execution_count": null,
   "metadata": {},
   "outputs": [],
   "source": [
    "example_dataset_folder = parcels.download_example_dataset(\"NemoCurvilinear_data\")\n",
    "filenames = {\n",
    "    \"U\": {\n",
    "        \"lon\": f\"{example_dataset_folder}/mesh_mask.nc4\",\n",
    "        \"lat\": f\"{example_dataset_folder}/mesh_mask.nc4\",\n",
    "        \"data\": f\"{example_dataset_folder}/U_purely_zonal-ORCA025_grid_U.nc4\",\n",
    "    },\n",
    "    \"V\": {\n",
    "        \"lon\": f\"{example_dataset_folder}/mesh_mask.nc4\",\n",
    "        \"lat\": f\"{example_dataset_folder}/mesh_mask.nc4\",\n",
    "        \"data\": f\"{example_dataset_folder}/V_purely_zonal-ORCA025_grid_V.nc4\",\n",
    "    },\n",
    "}\n",
    "variables = {\"U\": \"U\", \"V\": \"V\"}\n",
    "\n",
    "dimensions = {\"lon\": \"glamf\", \"lat\": \"gphif\", \"time\": \"time_counter\"}\n",
    "\n",
    "fieldset = parcels.FieldSet.from_nemo(\n",
    "    filenames, variables, dimensions, allow_time_extrapolation=True\n",
    ")"
   ]
  },
  {
   "attachments": {},
   "cell_type": "markdown",
   "metadata": {},
   "source": [
    "And we can plot the `U` field.\n"
   ]
  },
  {
   "cell_type": "code",
   "execution_count": null,
   "metadata": {},
   "outputs": [],
   "source": [
    "plt.pcolormesh(\n",
    "    fieldset.U.grid.lon,\n",
    "    fieldset.U.grid.lat,\n",
    "    fieldset.U.data[0, :, :],\n",
    "    vmin=0,\n",
    "    vmax=1,\n",
    ")\n",
    "plt.colorbar()\n",
    "plt.show()"
   ]
  },
  {
   "attachments": {},
   "cell_type": "markdown",
   "metadata": {},
   "source": [
    "As you see above, the `U` field indeed is 1 m/s south of 20N, but varies with longitude and latitude north of that. We can confirm by doing a field evaluation at (60N, 50E):"
   ]
  },
  {
   "cell_type": "code",
   "execution_count": null,
   "metadata": {},
   "outputs": [],
   "source": [
    "u, v = fieldset.UV.eval(0, 0, 60, 50, applyConversion=False)\n",
    "print(f\"(u, v) = ({u:.3f}, {v:.3f})\")\n",
    "assert np.isclose(u, 1.0, atol=1e-3)"
   ]
  },
  {
   "cell_type": "markdown",
   "metadata": {},
   "source": [
    "Now we can run particles as normal. Parcels will take care to rotate the `U` and `V` fields."
   ]
  },
  {
   "cell_type": "code",
   "execution_count": null,
   "metadata": {},
   "outputs": [],
   "source": [
    "# Start 20 particles on a meridional line at 180W\n",
    "npart = 20\n",
    "lonp = -180 * np.ones(npart)\n",
    "latp = [i for i in np.linspace(-70, 85, npart)]\n",
    "\n",
    "pset = parcels.ParticleSet.from_list(fieldset, parcels.Particle, lon=lonp, lat=latp)\n",
    "pfile = parcels.ParticleFile(\"nemo_particles\", pset, outputdt=timedelta(days=1))\n",
    "\n",
    "pset.execute(\n",
    "    parcels.AdvectionRK4,\n",
    "    runtime=timedelta(days=30),\n",
    "    dt=timedelta(hours=6),\n",
    "    output_file=pfile,\n",
    ")"
   ]
  },
  {
   "attachments": {},
   "cell_type": "markdown",
   "metadata": {},
   "source": [
    "And then we can plot these trajectories. As expected, all trajectories go exactly zonal and due to the curvature of the earth, ones at higher latitude move more degrees eastward (even though the distance in km is equal for all particles).\n"
   ]
  },
  {
   "cell_type": "code",
   "execution_count": null,
   "metadata": {},
   "outputs": [],
   "source": [
    "ds = xr.open_zarr(\"nemo_particles.zarr\")\n",
    "\n",
    "plt.plot(ds.lon.T, ds.lat.T, \".-\")\n",
    "plt.show()"
   ]
  },
  {
   "attachments": {},
   "cell_type": "markdown",
   "metadata": {},
   "source": [
    "## Speeding up `ParticleSet` initialisation by efficiently finding particle start-locations on the `Grid`\n",
    "\n",
    "On a Curvilinear grid, determining the location of each `Particle` on the grid is more complicated and therefore takes longer than on a Rectilinear grid. Since Parcels version 2.2.2, a function is available on the `ParticleSet` class, that speeds up the look-up. After creating the `ParticleSet`, but before running the `ParticleSet.execute()`, simply call the function `ParticleSet.populate_indices()`.\n"
   ]
  },
  {
   "cell_type": "code",
   "execution_count": null,
   "metadata": {},
   "outputs": [],
   "source": [
    "pset = parcels.ParticleSet.from_list(fieldset, parcels.Particle, lon=lonp, lat=latp)\n",
    "pset.populate_indices()"
   ]
  }
 ],
 "metadata": {
  "kernelspec": {
   "display_name": "parcels",
   "language": "python",
   "name": "python3"
  },
  "language_info": {
   "codemirror_mode": {
    "name": "ipython",
    "version": 3
   },
   "file_extension": ".py",
   "mimetype": "text/x-python",
   "name": "python",
   "nbconvert_exporter": "python",
   "pygments_lexer": "ipython3",
   "version": "3.12.3"
  }
 },
 "nbformat": 4,
 "nbformat_minor": 4
}
