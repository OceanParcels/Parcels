{
 "cells": [
  {
   "attachments": {},
   "cell_type": "markdown",
   "metadata": {},
   "source": [
    "# Interpolation\n"
   ]
  },
  {
   "attachments": {},
   "cell_type": "markdown",
   "metadata": {},
   "source": [
    "Parcels support a range of different interpolation methods for tracers, such as temperature. Here, we will show how these work, in an idealised example.\n",
    "\n",
    "We first import the relevant modules\n"
   ]
  },
  {
   "cell_type": "code",
   "execution_count": null,
   "metadata": {},
   "outputs": [],
   "source": [
    "import matplotlib.pyplot as plt\n",
    "import numpy as np\n",
    "from matplotlib import cm\n",
    "\n",
    "import parcels"
   ]
  },
  {
   "attachments": {},
   "cell_type": "markdown",
   "metadata": {},
   "source": [
    "We create a small 2D grid where `P` is a tracer that we want to interpolate. In each grid cell, `P` has a random value between 0.1 and 1.1. We then set `P[1,1]` to `0`, which for Parcels specifies that this is a land cell\n"
   ]
  },
  {
   "cell_type": "code",
   "execution_count": null,
   "metadata": {},
   "outputs": [],
   "source": [
    "dims = [5, 4]\n",
    "dx, dy = 1.0 / dims[0], 1.0 / dims[1]\n",
    "dimensions = {\n",
    "    \"lat\": np.linspace(0.0, 1.0, dims[0], dtype=np.float32),\n",
    "    \"lon\": np.linspace(0.0, 1.0, dims[1], dtype=np.float32),\n",
    "}\n",
    "data = {\n",
    "    \"U\": np.zeros(dims, dtype=np.float32),\n",
    "    \"V\": np.zeros(dims, dtype=np.float32),\n",
    "    \"P\": np.random.rand(dims[0], dims[1]) + 0.1,\n",
    "}\n",
    "data[\"P\"][1, 1] = 0.0\n",
    "fieldset = parcels.FieldSet.from_data(data, dimensions, mesh=\"flat\")"
   ]
  },
  {
   "attachments": {},
   "cell_type": "markdown",
   "metadata": {},
   "source": [
    "We create a Particle class that can sample this field\n"
   ]
  },
  {
   "cell_type": "code",
   "execution_count": null,
   "metadata": {},
   "outputs": [],
   "source": [
    "SampleParticle = parcels.Particle.add_variable(\"p\", dtype=np.float32)\n",
    "\n",
    "\n",
    "def SampleP(particle, fieldset, time):\n",
    "    particle.p = fieldset.P[time, particle.depth, particle.lat, particle.lon]"
   ]
  },
  {
   "attachments": {},
   "cell_type": "markdown",
   "metadata": {},
   "source": [
    "Now, we perform four different interpolation on `P`, which we can control by setting `fieldset.P.interp_method`. Note that this can always be done _after_ the `FieldSet` creation. We store the results of each interpolation method in an entry in the dictionary `pset`.\n"
   ]
  },
  {
   "cell_type": "code",
   "execution_count": null,
   "metadata": {},
   "outputs": [],
   "source": [
    "pset = {}\n",
    "interp_methods = [\"linear\", \"linear_invdist_land_tracer\", \"nearest\", \"cgrid_tracer\"]\n",
    "for p_interp in interp_methods:\n",
    "    fieldset.P.interp_method = (\n",
    "        p_interp  # setting the interpolation method for fieldset.P\n",
    "    )\n",
    "\n",
    "    xv, yv = np.meshgrid(np.linspace(0, 1, 8), np.linspace(0, 1, 8))\n",
    "    pset[p_interp] = parcels.ParticleSet(\n",
    "        fieldset, pclass=SampleParticle, lon=xv.flatten(), lat=yv.flatten()\n",
    "    )\n",
    "    pset[p_interp].execute(SampleP, endtime=1, dt=1)"
   ]
  },
  {
   "attachments": {},
   "cell_type": "markdown",
   "metadata": {},
   "source": [
    "And then we can show each of the four interpolation methods, by plotting the interpolated values on the `Particle` locations (circles) on top of the `Field` values (background colors)\n"
   ]
  },
  {
   "cell_type": "code",
   "execution_count": null,
   "metadata": {},
   "outputs": [],
   "source": [
    "fig, ax = plt.subplots(1, 4, figsize=(18, 5))\n",
    "for i, p in enumerate(pset.keys()):\n",
    "    data = fieldset.P.data[0, :, :]\n",
    "    data[1, 1] = np.nan\n",
    "    x = np.linspace(-dx / 2, 1 + dx / 2, dims[0] + 1)\n",
    "    y = np.linspace(-dy / 2, 1 + dy / 2, dims[1] + 1)\n",
    "    if p == \"cgrid_tracer\":\n",
    "        for lat in fieldset.P.grid.lat:\n",
    "            ax[i].axhline(lat, color=\"k\", linestyle=\"--\")\n",
    "        for lon in fieldset.P.grid.lon:\n",
    "            ax[i].axvline(lon, color=\"k\", linestyle=\"--\")\n",
    "    ax[i].pcolormesh(y, x, data, vmin=0.1, vmax=1.1)\n",
    "    ax[i].scatter(\n",
    "        pset[p].lon, pset[p].lat, c=pset[p].p, edgecolors=\"k\", s=50, vmin=0.1, vmax=1.1\n",
    "    )\n",
    "    xp, yp = np.meshgrid(fieldset.P.lon, fieldset.P.lat)\n",
    "    ax[i].plot(xp, yp, \"kx\")\n",
    "    ax[i].set_title(f\"Using interp_method='{p}'\")\n",
    "plt.show()"
   ]
  },
  {
   "attachments": {},
   "cell_type": "markdown",
   "metadata": {},
   "source": [
    "The white box is here the 'land' point where the tracer is set to zero and the crosses are the locations of the grid points. As you see, the interpolated value is always equal to the field value if the particle is exactly on the grid point (circles on crosses).\n",
    "\n",
    "For `interp_method='nearest'`, the particle values are the same for all particles in a grid cell. They are also the same for `interp_method='cgrid_tracer'`, but the grid cells have then shifted. That is because in a C-grid, the tracer grid cell is on the top-right corner (black dashed lines in right-most panel).\n",
    "\n",
    "For `interp_method='linear_invdist_land_tracer'`, we see that values are the same as `interp_method='linear'` for grid cells that don't border the land point. For grid cells that do border the land cell, the `linear_invdist_land_tracer` interpolation method gives higher values, as also shown in the difference plot below\n"
   ]
  },
  {
   "cell_type": "code",
   "execution_count": null,
   "metadata": {},
   "outputs": [],
   "source": [
    "plt.scatter(\n",
    "    pset[\"linear\"].lon,\n",
    "    pset[\"linear\"].lat,\n",
    "    c=pset[\"linear_invdist_land_tracer\"].p - pset[\"linear\"].p,\n",
    "    edgecolors=\"k\",\n",
    "    s=50,\n",
    "    cmap=cm.bwr,\n",
    "    vmin=-0.25,\n",
    "    vmax=0.25,\n",
    ")\n",
    "plt.colorbar()\n",
    "plt.title(\n",
    "    \"Difference between 'interp_method=linear' \"\n",
    "    \"and 'interp_method=linear_invdist_land_tracer'\"\n",
    ")\n",
    "plt.show()"
   ]
  },
  {
   "attachments": {},
   "cell_type": "markdown",
   "metadata": {},
   "source": [
    "So in summary, Parcels has four different interpolation schemes for tracers:\n",
    "\n",
    "1. `interp_method=linear`: compute linear interpolation\n",
    "2. `interp_method=linear_invdist_land_tracer`: compute linear interpolation except near land (where field value is zero). In that case, inverse distance weighting interpolation is computed, weighting by squares of the distance.\n",
    "3. `interp_method=nearest`: return nearest field value\n",
    "4. `interp_method=cgrid_tracer`: return nearest field value supposing C cells\n"
   ]
  }
 ],
 "metadata": {
  "kernelspec": {
   "display_name": "Python 3",
   "language": "python",
   "name": "python3"
  },
  "language_info": {
   "codemirror_mode": {
    "name": "ipython",
    "version": 3
   },
   "file_extension": ".py",
   "mimetype": "text/x-python",
   "name": "python",
   "nbconvert_exporter": "python",
   "pygments_lexer": "ipython3",
   "version": "3.11.6"
  }
 },
 "nbformat": 4,
 "nbformat_minor": 4
}
