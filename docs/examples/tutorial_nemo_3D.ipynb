{
 "cells": [
  {
   "attachments": {},
   "cell_type": "markdown",
   "metadata": {},
   "source": [
    "# Nemo 3D tutorial\n"
   ]
  },
  {
   "attachments": {},
   "cell_type": "markdown",
   "metadata": {},
   "source": [
    "One of the features of Parcels is that it can directly and natively work with `Field` data discretised on C-grids. These C grids are very popular in OGCMs, so velocity fields outputted by OGCMs are often provided on such grids, except if they have been firstly re-interpolated on a A grid.\n",
    "\n",
    "More information about C-grid interpolation can be found in [Delandmeter et al., 2019](https://www.geosci-model-dev-discuss.net/gmd-2018-339/).\n",
    "An example of such a discretisation is the NEMO model, which is one of the models supported in Parcels. A tutorial teaching how to [interpolate 2D data on a NEMO grid](https://docs.oceanparcels.org/en/latest/examples/tutorial_nemo_curvilinear.html) is available within Parcels.\n",
    "\n",
    "Here, we focus on 3D fields. Basically, it is a straightforward extension of the 2D example, but it is very easy to do a mistake in the setup of the vertical discretisation that would affect the interpolation scheme.\n",
    "\n",
    "## Preliminary comments\n",
    "\n",
    "_How to know if your data is discretised on a C grid?_ The best way is to read the documentation that comes with the data. Alternatively, an easy check is to assess the coordinates of the U, V and W fields: for an A grid, U, V and W are distributed on the same nodes, such that the coordinates are the same. For a C grid, there is a shift of half a cell between the different variables.\n",
    "\n",
    "_What about grid indexing?_ Since the C-grid variables are not located on the same nodes, there is not one obvious way to define the indexing, i.e. where is `u[k,j,i]` compared to `v[k,j,i]` and `w[k,j,i]`. In Parcels, we use the same notation as in NEMO: see [horizontal indexing](https://www.nemo-ocean.eu/doc/img360.png) and [vertical indexing](https://www.nemo-ocean.eu/doc/img362.png).\n",
    "It is important that you check if your data is following the same notation. Otherwise, you should re-index your data properly (this can be done within Parcels, there is no need to regenerate new netcdf files).\n",
    "\n",
    "_What about the accuracy?_ By default in Parcels, particle coordinates (i.e. longitude, latitude and depth) are stored using single-precision `np.float32` numbers. The advantage of this is that it saves some memory resources for the computation. In some applications, especially where particles travel very close to the coast, the single precision accuracy can lead to uncontrolled particle beaching, due to numerical rounding errors. In such case, you may want to double the coordinate precision to `np.float64`. This can be done by adding the parameter `lonlatdepth_dtype=np.float64` to the ParticleSet constructor. Note that for C-grid fieldsets such as in NEMO, the coordinates precision is set by default to `np.float64`.\n",
    "\n",
    "## How to create a 3D NEMO `dimensions` dictionary?\n",
    "\n",
    "In the following, we will show how to create the `dimensions` dictionary for 3D NEMO simulations. What you require is a 'mesh_mask' file, which in our case is called `coordinates.nc` but in some other versions of NEMO has a different name. In any case, it will have to contain the variables `glamf`, `gphif` and `depthw`, which are the longitude, latitude and depth of the mesh nodes, respectively. Note that `depthw` is not part of the mesh_mask file, but is in the same file as the w data (`wfiles[0]`).\n",
    "\n",
    "For the C-grid interpolation in Parcels to work properly, it is important that `U`, `V` and `W` are on the same grid. \n",
    "\n",
    "All other tracers (e.g. `temperature`, `salinity`) should also be on this same grid. So even though these tracers are computed by NEMO on the T-points, Parcels expects them on the f-points (`glamf`, `gphif` and `depthw`). Parcels then under the hood makes sure the interpolation of these tracers is done correctly.\n",
    "\n",
    "The code below is an example of how to create a 3D simulation with particles, starting in the mouth of the river Rhine at 1m depth, and advecting them through the North Sea using the `AdvectionRK4_3D`\n"
   ]
  },
  {
   "cell_type": "code",
   "execution_count": null,
   "metadata": {},
   "outputs": [],
   "source": [
    "import warnings\n",
    "from datetime import timedelta\n",
    "from glob import glob\n",
    "\n",
    "import matplotlib.pyplot as plt\n",
    "import xarray as xr\n",
    "\n",
    "import parcels\n",
    "from parcels import FileWarning\n",
    "\n",
    "# Add a filter for the xarray decoding warning\n",
    "warnings.simplefilter(\"ignore\", FileWarning)\n",
    "\n",
    "example_dataset_folder = parcels.download_example_dataset(\n",
    "    \"NemoNorthSeaORCA025-N006_data\"\n",
    ")\n",
    "ufiles = sorted(glob(f\"{example_dataset_folder}/ORCA*U.nc\"))\n",
    "vfiles = sorted(glob(f\"{example_dataset_folder}/ORCA*V.nc\"))\n",
    "wfiles = sorted(glob(f\"{example_dataset_folder}/ORCA*W.nc\"))\n",
    "# tfiles = sorted(glob(f\"{example_dataset_folder}/ORCA*T.nc\"))  # Not used in this example\n",
    "mesh_mask = f\"{example_dataset_folder}/coordinates.nc\"\n",
    "\n",
    "filenames = {\n",
    "    \"U\": {\"lon\": mesh_mask, \"lat\": mesh_mask, \"depth\": wfiles[0], \"data\": ufiles},\n",
    "    \"V\": {\"lon\": mesh_mask, \"lat\": mesh_mask, \"depth\": wfiles[0], \"data\": vfiles},\n",
    "    \"W\": {\"lon\": mesh_mask, \"lat\": mesh_mask, \"depth\": wfiles[0], \"data\": wfiles},\n",
    "    # \"T\": {\"lon\": mesh_mask, \"lat\": mesh_mask, \"depth\": wfiles[0], \"data\": tfiles},  # Not used in this example\n",
    "}\n",
    "\n",
    "variables = {\n",
    "    \"U\": \"uo\",\n",
    "    \"V\": \"vo\",\n",
    "    \"W\": \"wo\",\n",
    "    # \"T\": \"thetao\",  # Not used in this example\n",
    "}\n",
    "\n",
    "# Note that all variables need the same dimensions in a C-Grid\n",
    "c_grid_dimensions = {\n",
    "    \"lon\": \"glamf\",\n",
    "    \"lat\": \"gphif\",\n",
    "    \"depth\": \"depthw\",\n",
    "    \"time\": \"time_counter\",\n",
    "}\n",
    "dimensions = {\n",
    "    \"U\": c_grid_dimensions,\n",
    "    \"V\": c_grid_dimensions,\n",
    "    \"W\": c_grid_dimensions,\n",
    "    # \"T\": c_grid_dimensions,  # Not used in this example\n",
    "}\n",
    "\n",
    "fieldset = parcels.FieldSet.from_nemo(filenames, variables, dimensions)\n",
    "\n",
    "pset = parcels.ParticleSet.from_line(\n",
    "    fieldset=fieldset,\n",
    "    pclass=parcels.Particle,\n",
    "    size=10,\n",
    "    start=(1.9, 52.5),\n",
    "    finish=(3.4, 51.6),\n",
    "    depth=1,\n",
    ")\n",
    "\n",
    "kernels = pset.Kernel(parcels.AdvectionRK4_3D)\n",
    "pset.execute(kernels, runtime=timedelta(days=4), dt=timedelta(hours=6))"
   ]
  },
  {
   "cell_type": "code",
   "execution_count": null,
   "metadata": {},
   "outputs": [],
   "source": [
    "depth_level = 8\n",
    "print(\n",
    "    f\"Level[{int(depth_level)}] depth is: \"\n",
    "    f\"[{fieldset.W.grid.depth[depth_level]:g} \"\n",
    "    f\"{fieldset.W.grid.depth[depth_level+1]:g}]\"\n",
    ")\n",
    "\n",
    "plt.pcolormesh(\n",
    "    fieldset.U.grid.lon, fieldset.U.grid.lat, fieldset.U.data[0, depth_level, :, :]\n",
    ")\n",
    "plt.show()"
   ]
  },
  {
   "attachments": {},
   "cell_type": "markdown",
   "metadata": {},
   "source": [
    "## Adding other fields like cell edges\n",
    "\n",
    "It is quite straightforward to add other gridded data, on the same curvilinear or any other type of grid, to the fieldset. Because it is good practice to make no changes to a `FieldSet` once a `ParticleSet` has been defined in it, we redefine the fieldset and add the fields with the cell edges from the coordinates file using `FieldSet.add_field()`.\n",
    "\n",
    "Note that including tracers like `temperature` and `salinity` needs to be done at the f-points, so on the same grid as the velocity fields. See also the section above.\n"
   ]
  },
  {
   "cell_type": "code",
   "execution_count": null,
   "metadata": {},
   "outputs": [],
   "source": [
    "from parcels import Field"
   ]
  },
  {
   "cell_type": "code",
   "execution_count": null,
   "metadata": {},
   "outputs": [],
   "source": [
    "fieldset = parcels.FieldSet.from_nemo(filenames, variables, dimensions)"
   ]
  },
  {
   "cell_type": "code",
   "execution_count": null,
   "metadata": {},
   "outputs": [],
   "source": [
    "e1u = Field.from_netcdf(\n",
    "    filenames=mesh_mask,\n",
    "    variable=\"e1u\",\n",
    "    dimensions={\"lon\": \"glamu\", \"lat\": \"gphiu\"},\n",
    "    interp_method=\"nearest\",\n",
    ")\n",
    "e2u = Field.from_netcdf(\n",
    "    filenames=mesh_mask,\n",
    "    variable=\"e2u\",\n",
    "    dimensions={\"lon\": \"glamu\", \"lat\": \"gphiu\"},\n",
    "    interp_method=\"nearest\",\n",
    ")\n",
    "e1v = Field.from_netcdf(\n",
    "    filenames=mesh_mask,\n",
    "    variable=\"e1v\",\n",
    "    dimensions={\"lon\": \"glamv\", \"lat\": \"gphiv\"},\n",
    "    interp_method=\"nearest\",\n",
    ")\n",
    "e2v = Field.from_netcdf(\n",
    "    filenames=mesh_mask,\n",
    "    variable=\"e2v\",\n",
    "    dimensions={\"lon\": \"glamv\", \"lat\": \"gphiv\"},\n",
    "    interp_method=\"nearest\",\n",
    ")\n",
    "fieldset.add_field(e1u)\n",
    "fieldset.add_field(e2u)\n",
    "fieldset.add_field(e1v)\n",
    "fieldset.add_field(e2v)"
   ]
  }
 ],
 "metadata": {
  "kernelspec": {
   "display_name": "parcels",
   "language": "python",
   "name": "python3"
  },
  "language_info": {
   "codemirror_mode": {
    "name": "ipython",
    "version": 3
   },
   "file_extension": ".py",
   "mimetype": "text/x-python",
   "name": "python",
   "nbconvert_exporter": "python",
   "pygments_lexer": "ipython3",
   "version": "3.12.3"
  }
 },
 "nbformat": 4,
 "nbformat_minor": 4
}
