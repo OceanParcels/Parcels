{
 "cells": [
  {
   "attachments": {},
   "cell_type": "markdown",
   "metadata": {},
   "source": [
    "# Field Sampling\n"
   ]
  },
  {
   "attachments": {},
   "cell_type": "markdown",
   "metadata": {},
   "source": [
    "The particle trajectories allow us to study fields like temperature, plastic concentration or chlorophyll from a Lagrangian perspective.\n",
    "\n",
    "In this tutorial we will go through how particles can sample `Fields`, using temperature as an example. Along the way we will get to know the parcels class `Variable` (see [here](https://parcels.readthedocs.io/en/latest/reference/particles.html#parcels.particle.Variable) for the documentation) and some of its methods. This tutorial covers several applications of a sampling setup:\n",
    "\n",
    "- [**Basic along trajectory sampling**](#Basic-sampling)\n",
    "- [**Sampling velocity fields**](#Sampling-velocity-fields)\n",
    "- [**Sampling initial conditions**](#Sampling-initial-values)\n"
   ]
  },
  {
   "attachments": {},
   "cell_type": "markdown",
   "metadata": {},
   "source": [
    "## Basic sampling\n",
    "\n",
    "We import both the packages that we need to set up the simulation, as well as the parcels package.\n"
   ]
  },
  {
   "cell_type": "code",
   "execution_count": null,
   "metadata": {},
   "outputs": [],
   "source": [
    "# Modules needed for the Parcels simulation\n",
    "from datetime import timedelta\n",
    "\n",
    "import matplotlib as mpl\n",
    "import matplotlib.pyplot as plt\n",
    "import numpy as np\n",
    "\n",
    "# To open and look at the temperature data\n",
    "import xarray as xr\n",
    "\n",
    "import parcels"
   ]
  },
  {
   "attachments": {},
   "cell_type": "markdown",
   "metadata": {},
   "source": [
    "Suppose we want to study the environmental temperature for plankton drifting around a peninsula. We have a dataset with surface ocean velocities and the corresponding sea surface temperature stored in netcdf files in the folder `\"Peninsula_data\"`. Besides the velocity fields, we load the temperature field using `extra_fields={'T': 'T'}`. The particles are released on the left hand side of the domain.\n"
   ]
  },
  {
   "cell_type": "code",
   "execution_count": null,
   "metadata": {},
   "outputs": [],
   "source": [
    "# Velocity and temperature fields\n",
    "example_dataset_folder = parcels.download_example_dataset(\"Peninsula_data\")\n",
    "filenames = {\n",
    "    \"U\": str(example_dataset_folder / \"peninsulaU.nc\"),\n",
    "    \"V\": str(example_dataset_folder / \"peninsulaV.nc\"),\n",
    "    \"T\": str(example_dataset_folder / \"peninsulaT.nc\"),\n",
    "}\n",
    "variables = {\"U\": \"vozocrtx\", \"V\": \"vomecrty\", \"T\": \"T\"}\n",
    "dimensions = {\"lon\": \"nav_lon\", \"lat\": \"nav_lat\", \"time\": \"time_counter\"}\n",
    "fieldset = parcels.FieldSet.from_netcdf(\n",
    "    filenames, variables, dimensions, allow_time_extrapolation=True\n",
    ")\n",
    "\n",
    "# Particle locations and initial time\n",
    "npart = 10  # number of particles to be released\n",
    "lon = 3e3 * np.ones(npart)\n",
    "lat = np.linspace(3e3, 45e3, npart, dtype=np.float32)\n",
    "time = (\n",
    "    np.arange(0, npart) * timedelta(hours=2).total_seconds()\n",
    ")  # release each particle two hours later\n",
    "\n",
    "# Plot temperature field and initial particle locations\n",
    "T_data = xr.open_dataset(f\"{example_dataset_folder}/peninsulaT.nc\")\n",
    "plt.figure()\n",
    "ax = plt.axes()\n",
    "T_contour = ax.contourf(\n",
    "    T_data.x.values, T_data.y.values, T_data.T.values[0, 0], cmap=plt.cm.inferno\n",
    ")\n",
    "ax.scatter(lon, lat, c=\"w\")\n",
    "plt.colorbar(T_contour, label=r\"T [$^{\\circ} C$]\")\n",
    "plt.show()"
   ]
  },
  {
   "attachments": {},
   "cell_type": "markdown",
   "metadata": {},
   "source": [
    "To sample the temperature field, we need to create a new class of particles where temperature is a `Variable`. We then also need a new Kernel `SampleT` that interpolates the temperature field at the particle location and stores that in `particle.temperature`.\n"
   ]
  },
  {
   "cell_type": "code",
   "execution_count": null,
   "metadata": {},
   "outputs": [],
   "source": [
    "SampleParticle = parcels.Particle.add_variable(\"temperature\")\n",
    "\n",
    "pset = parcels.ParticleSet(\n",
    "    fieldset=fieldset, pclass=SampleParticle, lon=lon, lat=lat, time=time\n",
    ")\n",
    "\n",
    "\n",
    "def SampleT(particle, fieldset, time):\n",
    "    particle.temperature = fieldset.T[time, particle.depth, particle.lat, particle.lon]"
   ]
  },
  {
   "attachments": {},
   "cell_type": "markdown",
   "metadata": {},
   "source": [
    "We can then sample and Advect by combining the `SampleT` and `AdvectionRK4` kernels in a list. Note that the order does not matter.\n"
   ]
  },
  {
   "cell_type": "code",
   "execution_count": null,
   "metadata": {},
   "outputs": [],
   "source": [
    "pset = parcels.ParticleSet(\n",
    "    fieldset=fieldset, pclass=SampleParticle, lon=lon, lat=lat, time=time\n",
    ")\n",
    "\n",
    "output_file = pset.ParticleFile(name=\"SampleTemp.zarr\", outputdt=timedelta(hours=1))\n",
    "\n",
    "pset.execute(\n",
    "    [parcels.AdvectionRK4, SampleT],\n",
    "    runtime=timedelta(hours=30),\n",
    "    dt=timedelta(minutes=5),\n",
    "    output_file=output_file,\n",
    ")"
   ]
  },
  {
   "attachments": {},
   "cell_type": "markdown",
   "metadata": {},
   "source": [
    "The particle dataset now contains the particle trajectories and the corresponding environmental temperature\n"
   ]
  },
  {
   "cell_type": "code",
   "execution_count": null,
   "metadata": {},
   "outputs": [],
   "source": [
    "Particle_data = xr.open_zarr(\"SampleTemp.zarr\")\n",
    "\n",
    "plt.figure()\n",
    "ax = plt.axes()\n",
    "ax.set_ylabel(\"Y\")\n",
    "ax.set_xlabel(\"X\")\n",
    "ax.set_ylim(1000, 49000)\n",
    "ax.set_xlim(1000, 99000)\n",
    "ax.plot(Particle_data.lon.transpose(), Particle_data.lat.transpose(), c=\"k\", zorder=1)\n",
    "T_scatter = ax.scatter(\n",
    "    Particle_data.lon,\n",
    "    Particle_data.lat,\n",
    "    c=Particle_data.temperature,\n",
    "    cmap=plt.cm.inferno,\n",
    "    norm=mpl.colors.Normalize(vmin=0.0, vmax=20.0),\n",
    "    edgecolor=\"k\",\n",
    "    zorder=2,\n",
    ")\n",
    "plt.colorbar(T_scatter, label=r\"T [$^{\\circ} C$]\")\n",
    "plt.show()"
   ]
  },
  {
   "attachments": {},
   "cell_type": "markdown",
   "metadata": {},
   "source": [
    "## Sampling velocity fields\n"
   ]
  },
  {
   "attachments": {},
   "cell_type": "markdown",
   "metadata": {},
   "source": [
    "Because Parcels works also for generalised curvilinear grids, you need to tread somewhat carefully when wanting to sample the velocity fields `U` and `V`. In fact, Parcels will throw a warning when directly calling a sampling of either of these fields:\n"
   ]
  },
  {
   "cell_type": "code",
   "execution_count": null,
   "metadata": {},
   "outputs": [],
   "source": [
    "def SampleVel_wrong(particle, fieldset, time):\n",
    "    u = fieldset.U[particle]\n",
    "\n",
    "\n",
    "pset = parcels.ParticleSet(\n",
    "    fieldset=fieldset, pclass=parcels.Particle, lon=lon, lat=lat, time=time\n",
    ")\n",
    "\n",
    "pset.execute(SampleVel_wrong)"
   ]
  },
  {
   "attachments": {},
   "cell_type": "markdown",
   "metadata": {},
   "source": [
    "Instead, you should use the code `u, v = fieldset.UV[...]`. With this code, the sampling is consistent with the actual velocity fields used in the advection Kernels. The difference is that on a curvilinear grid, `fieldset.U[..]` returns the velocity in the `i`-direction (the columns on the grid), while `fieldset.UV[...]` returns the velocities in the longitude and latitude direction. Furthermore, only `fieldset.UV[...]` sampling can correctly deal with boundary conditions such as `freeslip` and `partialslip` ([documentation_unstuck_Agrid](https://docs.oceanparcels.org/en/latest/examples/documentation_unstuck_Agrid.html#3.-Slip-boundary-conditions))\n"
   ]
  },
  {
   "cell_type": "code",
   "execution_count": null,
   "metadata": {},
   "outputs": [],
   "source": [
    "def SampleVel_correct(particle, fieldset, time):\n",
    "    u, v = fieldset.UV[particle]\n",
    "\n",
    "\n",
    "pset = parcels.ParticleSet(\n",
    "    fieldset=fieldset, pclass=parcels.Particle, lon=lon, lat=lat, time=time\n",
    ")\n",
    "\n",
    "pset.execute(SampleVel_correct)"
   ]
  },
  {
   "attachments": {},
   "cell_type": "markdown",
   "metadata": {},
   "source": [
    "To sample U and V as part of a larger script the following code could be used:"
   ]
  },
  {
   "cell_type": "code",
   "execution_count": null,
   "metadata": {},
   "outputs": [],
   "source": [
    "SampleParticle = parcels.Particle.add_variables(\n",
    "    [\n",
    "        parcels.Variable(\"U\", dtype=np.float32, initial=np.nan),\n",
    "        parcels.Variable(\"V\", dtype=np.float32, initial=np.nan),\n",
    "    ]\n",
    ")\n",
    "\n",
    "\n",
    "def SampleVel_correct(particle, fieldset, time):\n",
    "    # attention: samples particle velocity in units of the mesh (deg/s or m/s)\n",
    "    particle.U, particle.V = fieldset.UV[\n",
    "        time, particle.depth, particle.lat, particle.lon, particle\n",
    "    ]"
   ]
  },
  {
   "cell_type": "markdown",
   "metadata": {},
   "source": [
    "<div class=\"alert alert-info\">\n",
    "\n",
    "Note that the Kernels above return the value of `U` and `V` in the units of the grid. That means that for a spherical grid, the velocities are in **degrees/s**. To convert these to **m/s**, see the [UnitConversion tutorial](https://docs.oceanparcels.org/en/latest/examples/tutorial_unitconverters.html).\n",
    "</div>"
   ]
  },
  {
   "cell_type": "markdown",
   "metadata": {},
   "source": [
    "## Sampling initial values\n"
   ]
  },
  {
   "attachments": {},
   "cell_type": "markdown",
   "metadata": {},
   "source": [
    "In some simulations only the particles initial value within the field is of interest: the variable does not need to be known along the entire trajectory. To reduce computing we can specify the `to_write` argument to the temperature `Variable`. This argument can have three values: `True`, `False` or `'once'`. It determines whether to write the `Variable` to the output file. If we want to know only the initial value, we can enter `'once'` and only the first value will be written to the output file.\n"
   ]
  },
  {
   "cell_type": "code",
   "execution_count": null,
   "metadata": {},
   "outputs": [],
   "source": [
    "SampleParticleOnce = parcels.Particle.add_variable(\n",
    "    \"temperature\", initial=0, to_write=\"once\"\n",
    ")\n",
    "\n",
    "pset = parcels.ParticleSet(\n",
    "    fieldset=fieldset, pclass=SampleParticleOnce, lon=lon, lat=lat, time=time\n",
    ")"
   ]
  },
  {
   "cell_type": "code",
   "execution_count": null,
   "metadata": {},
   "outputs": [],
   "source": [
    "output_file = pset.ParticleFile(name=\"WriteOnce.zarr\", outputdt=timedelta(hours=1))\n",
    "\n",
    "pset.execute(\n",
    "    [parcels.AdvectionRK4, SampleT],\n",
    "    runtime=timedelta(hours=24),\n",
    "    dt=timedelta(minutes=5),\n",
    "    output_file=output_file,\n",
    ")"
   ]
  },
  {
   "attachments": {},
   "cell_type": "markdown",
   "metadata": {},
   "source": [
    "Since all the particles are released at the same x-position and the temperature field is invariant in the y-direction, all particles have an initial temperature of 0.4$^\\circ$C\n"
   ]
  },
  {
   "cell_type": "code",
   "execution_count": null,
   "metadata": {},
   "outputs": [],
   "source": [
    "Particle_data = xr.open_zarr(\"WriteOnce.zarr\")\n",
    "\n",
    "plt.figure()\n",
    "ax = plt.axes()\n",
    "ax.set_ylabel(\"Y\")\n",
    "ax.set_xlabel(\"X\")\n",
    "ax.set_ylim(1000, 49000)\n",
    "ax.set_xlim(1000, 99000)\n",
    "ax.plot(Particle_data.lon.transpose(), Particle_data.lat.transpose(), c=\"k\", zorder=1)\n",
    "T_scatter = ax.scatter(\n",
    "    Particle_data.lon,\n",
    "    Particle_data.lat,\n",
    "    c=np.tile(Particle_data.temperature, (Particle_data.lon.shape[1], 1)).T,\n",
    "    cmap=plt.cm.inferno,\n",
    "    norm=mpl.colors.Normalize(vmin=0.0, vmax=1.0),\n",
    "    edgecolor=\"k\",\n",
    "    zorder=2,\n",
    ")\n",
    "plt.colorbar(T_scatter, label=r\"Initial T [$^{\\circ} C$]\")\n",
    "plt.show()"
   ]
  }
 ],
 "metadata": {
  "celltoolbar": "Raw-celnotatie",
  "kernelspec": {
   "display_name": "parcels",
   "language": "python",
   "name": "python3"
  },
  "language_info": {
   "codemirror_mode": {
    "name": "ipython",
    "version": 3
   },
   "file_extension": ".py",
   "mimetype": "text/x-python",
   "name": "python",
   "nbconvert_exporter": "python",
   "pygments_lexer": "ipython3",
   "version": "3.12.3"
  },
  "pycharm": {
   "stem_cell": {
    "cell_type": "raw",
    "metadata": {
     "collapsed": false
    },
    "source": []
   }
  }
 },
 "nbformat": 4,
 "nbformat_minor": 4
}
