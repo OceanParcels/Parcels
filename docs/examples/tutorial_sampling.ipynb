{
 "cells": [
  {
   "attachments": {},
   "cell_type": "markdown",
   "metadata": {},
   "source": [
    "# Field Sampling\n"
   ]
  },
  {
   "attachments": {},
   "cell_type": "markdown",
   "metadata": {},
   "source": [
    "The particle trajectories allow us to study fields like temperature, plastic concentration or chlorophyll from a Lagrangian perspective.\n",
    "\n",
    "In this tutorial we will go through how particles can sample `Fields`, using temperature as an example. Along the way we will get to know the parcels class `Variable` (see [here](https://parcels.readthedocs.io/en/latest/reference/particles.html#parcels.particle.Variable) for the documentation) and some of its methods. This tutorial covers several applications of a sampling setup:\n",
    "\n",
    "- [**Basic along trajectory sampling**](#Basic-sampling)\n",
    "- [**Sampling velocity fields**](#Sampling-velocity-fields)\n",
    "- [**Sampling initial conditions**](#Sampling-initial-values)\n"
   ]
  },
  {
   "attachments": {},
   "cell_type": "markdown",
   "metadata": {},
   "source": [
    "## Basic sampling\n",
    "\n",
    "We import both the packages that we need to set up the simulation, as well as the parcels package.\n"
   ]
  },
  {
   "cell_type": "code",
   "execution_count": null,
   "metadata": {},
   "outputs": [],
   "source": [
    "# Modules needed for the Parcels simulation\n",
    "from datetime import timedelta\n",
    "\n",
    "import matplotlib as mpl\n",
    "import matplotlib.pyplot as plt\n",
    "import numpy as np\n",
    "\n",
    "# To open and look at the temperature data\n",
    "import xarray as xr\n",
    "\n",
    "import parcels"
   ]
  },
  {
   "attachments": {},
   "cell_type": "markdown",
   "metadata": {},
   "source": [
    "Suppose we want to study the environmental temperature for plankton drifting in the Agulhas current. We have a CopernicusMarine dataset with surface ocean velocities and the corresponding potential temperature stored in netcdf files in the [parcels example dataset repository](https://github.com/OceanParcels/parcels-data). Loading in the FieldSet, parcels detects U and V because they have CF standard names and tells us that they are assumed as the velocity fields to be used in the simulation.\n"
   ]
  },
  {
   "cell_type": "code",
   "execution_count": null,
   "metadata": {},
   "outputs": [],
   "source": [
    "# Load the CopernicusMarine data in the Agulhas region from the example_datasets\n",
    "example_dataset_folder = parcels.download_example_dataset(\n",
    "    \"CopernicusMarine_data_for_Argo_tutorial\"\n",
    ")\n",
    "\n",
    "ds = xr.open_mfdataset(f\"{example_dataset_folder}/*.nc\", combine=\"by_coords\")\n",
    "ds.load()  # load the dataset into memory\n",
    "\n",
    "fieldset = parcels.FieldSet.from_copernicusmarine(ds)"
   ]
  },
  {
   "cell_type": "markdown",
   "metadata": {},
   "source": [
    " Ten particles are initialized at the surface in the center of our domain, at the initial time step."
   ]
  },
  {
   "cell_type": "code",
   "execution_count": null,
   "metadata": {},
   "outputs": [],
   "source": [
    "# Particle locations and initial time\n",
    "npart = 10  # number of particles to be released\n",
    "lon = 32 * np.ones(npart)\n",
    "lat = np.linspace(-32.5, -30.5, npart, dtype=np.float32)\n",
    "time = np.repeat(ds.time.values[0], npart)  # release all particles at the same time\n",
    "# time = (\n",
    "#     ds.time.values[0]+np.arange(0, npart) * np.timedelta64(2,'h')\n",
    "# )  # release each particle two hours later\n",
    "depth = np.repeat(ds.depth.values[0], npart)\n",
    "\n",
    "# Plot temperature field and initial particle locations\n",
    "plt.figure()\n",
    "ax = plt.axes()\n",
    "T_contour = ax.contourf(\n",
    "    ds.longitude.values,\n",
    "    ds.latitude.values,\n",
    "    ds.thetao.values[0, 0],\n",
    "    cmap=plt.cm.inferno,\n",
    "    vmin=20,\n",
    "    vmax=27,\n",
    ")\n",
    "ax.scatter(lon, lat, c=\"w\")\n",
    "plt.colorbar(T_contour, label=r\"T [$^{\\circ} C$]\")\n",
    "plt.show()"
   ]
  },
  {
   "attachments": {},
   "cell_type": "markdown",
   "metadata": {},
   "source": [
    "To sample the temperature field, we need to create a new class of particles where temperature is a `Variable`. We then also need a new Kernel `SampleT` that interpolates the temperature field at the particle location and stores that in `particle.temperature`.\n"
   ]
  },
  {
   "cell_type": "code",
   "execution_count": null,
   "metadata": {},
   "outputs": [],
   "source": [
    "SampleParticle = parcels.Particle.add_variable(\n",
    "    parcels.Variable(\"temperature\", dtype=np.float32, initial=np.nan)\n",
    ")\n",
    "\n",
    "\n",
    "def SampleT(particles, fieldset):\n",
    "    particles.temperature = fieldset.thetao[\n",
    "        particles.time, particles.depth, particles.lat, particles.lon\n",
    "    ]"
   ]
  },
  {
   "attachments": {},
   "cell_type": "markdown",
   "metadata": {},
   "source": [
    "We can then sample and Advect by combining the `SampleT` and `AdvectionRK4` kernels in a list. Note that the order does not matter.\n"
   ]
  },
  {
   "cell_type": "code",
   "execution_count": null,
   "metadata": {},
   "outputs": [],
   "source": [
    "pset = parcels.ParticleSet(\n",
    "    fieldset=fieldset, pclass=SampleParticle, lon=lon, lat=lat, time=time, depth=depth\n",
    ")\n",
    "\n",
    "output_file = parcels.ParticleFile(\"SampleTemp.zarr\", outputdt=timedelta(hours=1))\n",
    "\n",
    "pset.execute(\n",
    "    [parcels.kernels.AdvectionRK4, SampleT],\n",
    "    runtime=timedelta(hours=30),\n",
    "    dt=timedelta(minutes=5),\n",
    "    output_file=output_file,\n",
    ")"
   ]
  },
  {
   "attachments": {},
   "cell_type": "markdown",
   "metadata": {},
   "source": [
    "The particle dataset now contains the particle trajectories and the corresponding environmental temperature\n"
   ]
  },
  {
   "cell_type": "code",
   "execution_count": null,
   "metadata": {},
   "outputs": [],
   "source": [
    "Particle_data = xr.open_zarr(\"SampleTemp.zarr\", decode_times=False)\n",
    "\n",
    "plt.figure()\n",
    "ax = plt.axes()\n",
    "ax.set_ylabel(\"Latitude\")\n",
    "ax.set_xlabel(\"Longitude\")\n",
    "# ax.set_ylim(-33, -30)\n",
    "# ax.set_xlim(31, 33)\n",
    "ax.plot(Particle_data.lon.transpose(), Particle_data.lat.transpose(), c=\"k\", zorder=1)\n",
    "T_scatter = ax.scatter(\n",
    "    Particle_data.lon,\n",
    "    Particle_data.lat,\n",
    "    c=Particle_data.temperature,\n",
    "    cmap=plt.cm.inferno,\n",
    "    norm=mpl.colors.Normalize(vmin=22.0, vmax=24.0),\n",
    "    edgecolor=\"k\",\n",
    "    zorder=2,\n",
    ")\n",
    "plt.colorbar(T_scatter, label=r\"T [$^{\\circ} C$]\")\n",
    "plt.show()"
   ]
  },
  {
   "attachments": {},
   "cell_type": "markdown",
   "metadata": {},
   "source": [
    "## Sampling velocity fields\n"
   ]
  },
  {
   "attachments": {},
   "cell_type": "markdown",
   "metadata": {},
   "source": [
    "Because Parcels works also for generalised curvilinear grids, you need to tread somewhat carefully when wanting to sample the velocity fields `U` and `V`. In fact, Parcels will throw a warning when directly calling a sampling of either of these fields:\n"
   ]
  },
  {
   "cell_type": "code",
   "execution_count": null,
   "metadata": {},
   "outputs": [],
   "source": [
    "def SampleVel_wrong(particles, fieldset):\n",
    "    u = fieldset.U[particles]\n",
    "\n",
    "\n",
    "pset = parcels.ParticleSet(\n",
    "    fieldset=fieldset, pclass=parcels.Particle, lon=lon, lat=lat, time=time, depth=depth\n",
    ")\n",
    "\n",
    "pset.execute(\n",
    "    SampleVel_wrong,\n",
    "    runtime=timedelta(hours=30),\n",
    "    dt=timedelta(minutes=5),\n",
    ")"
   ]
  },
  {
   "attachments": {},
   "cell_type": "markdown",
   "metadata": {},
   "source": [
    "Instead, you should use the code `u, v = fieldset.UV[...]`. With this code, the sampling is consistent with the actual velocity fields used in the advection Kernels. The difference is that on a curvilinear grid, `fieldset.U[..]` returns the velocity in the `i`-direction (the columns on the grid), while `fieldset.UV[...]` returns the velocities in the longitude and latitude direction. Furthermore, only `fieldset.UV[...]` sampling can correctly deal with boundary conditions such as `freeslip` and `partialslip` ([documentation_unstuck_Agrid](https://docs.oceanparcels.org/en/latest/examples/documentation_unstuck_Agrid.html#3.-Slip-boundary-conditions))\n"
   ]
  },
  {
   "cell_type": "code",
   "execution_count": null,
   "metadata": {},
   "outputs": [],
   "source": [
    "def SampleVel_correct(particles, fieldset):\n",
    "    u, v = fieldset.UV[particles]\n",
    "\n",
    "\n",
    "pset = parcels.ParticleSet(\n",
    "    fieldset=fieldset, pclass=parcels.Particle, lon=lon, lat=lat, time=time, depth=depth\n",
    ")\n",
    "\n",
    "pset.execute(SampleVel_correct, runtime=timedelta(hours=30), dt=timedelta(minutes=5))"
   ]
  },
  {
   "attachments": {},
   "cell_type": "markdown",
   "metadata": {},
   "source": [
    "To sample U and V as part of a larger script the following code could be used:"
   ]
  },
  {
   "cell_type": "code",
   "execution_count": null,
   "metadata": {},
   "outputs": [],
   "source": [
    "SampleParticle = parcels.Particle.add_variable(\n",
    "    [\n",
    "        parcels.Variable(\"U\", dtype=np.float32, initial=np.nan),\n",
    "        parcels.Variable(\"V\", dtype=np.float32, initial=np.nan),\n",
    "    ]\n",
    ")\n",
    "\n",
    "\n",
    "def SampleVel_correct(particles, fieldset):\n",
    "    # attention: samples particle velocity in units of the mesh (deg/s or m/s)\n",
    "    particles.U, particles.V = fieldset.UV[particles]"
   ]
  },
  {
   "cell_type": "markdown",
   "metadata": {},
   "source": [
    "<div class=\"alert alert-info\">\n",
    "\n",
    "Note that the Kernels above return the value of `U` and `V` in the units of the grid. That means that for a spherical grid, the velocities are in **degrees/s**. To convert these to **m/s**, see the [UnitConversion tutorial](https://docs.oceanparcels.org/en/latest/examples/tutorial_unitconverters.html).\n",
    "</div>"
   ]
  },
  {
   "cell_type": "markdown",
   "metadata": {},
   "source": [
    "## Sampling initial values\n"
   ]
  },
  {
   "attachments": {},
   "cell_type": "markdown",
   "metadata": {},
   "source": [
    "In some simulations only the particles initial value within the field is of interest: the variable does not need to be known along the entire trajectory. To reduce computing we can specify the `to_write` argument to the temperature `Variable`. This argument can have three values: `True`, `False` or `'once'`. It determines whether to write the `Variable` to the output file. If we want to know only the initial value, we can enter `'once'` and only the first value will be written to the output file.\n"
   ]
  },
  {
   "cell_type": "code",
   "execution_count": null,
   "metadata": {},
   "outputs": [],
   "source": [
    "SampleParticleOnce = parcels.Particle.add_variable(\n",
    "    parcels.Variable(\"temperature\", initial=np.nan, to_write=\"once\")\n",
    ")\n",
    "\n",
    "pset = parcels.ParticleSet(\n",
    "    fieldset=fieldset,\n",
    "    pclass=SampleParticleOnce,\n",
    "    lon=lon,\n",
    "    lat=lat,\n",
    "    time=time,\n",
    "    depth=depth,\n",
    ")"
   ]
  },
  {
   "cell_type": "code",
   "execution_count": null,
   "metadata": {},
   "outputs": [],
   "source": [
    "output_file = parcels.ParticleFile(\"WriteOnce.zarr\", outputdt=timedelta(hours=1))\n",
    "\n",
    "pset.execute(\n",
    "    [parcels.kernels.AdvectionRK4, SampleT],\n",
    "    runtime=timedelta(hours=30),\n",
    "    dt=timedelta(minutes=5),\n",
    "    output_file=output_file,\n",
    ")"
   ]
  },
  {
   "cell_type": "markdown",
   "metadata": {},
   "source": [
    "We can compare the output where only the initial value is written to output, with the original simulation, where the temperature at each outputdt is written:"
   ]
  },
  {
   "cell_type": "code",
   "execution_count": null,
   "metadata": {},
   "outputs": [],
   "source": [
    "plt.figure()\n",
    "ax = plt.axes()\n",
    "ax.set_ylabel(\"Temperature [$^{\\\\circ}$C]\")\n",
    "ax.set_xlabel(\"Observation Number (-)\")\n",
    "ax.set_ylim(22.2, 24.5)\n",
    "# ax.set_xlim(31, 33)\n",
    "l1 = ax.plot(Particle_data.obs, Particle_data.temperature.T, color=\"red\")\n",
    "l2 = ax.plot(\n",
    "    Particle_data_once.obs,\n",
    "    np.tile(Particle_data_once.temperature, (Particle_data_once.lon.shape[1], 1)),\n",
    "    color=\"tab:blue\",\n",
    ")\n",
    "ax.legend([l1[0], l2[0]], [\"Write every outputdt\", \"Write once\"])\n",
    "plt.show()"
   ]
  },
  {
   "cell_type": "code",
   "execution_count": null,
   "metadata": {},
   "outputs": [],
   "source": []
  }
 ],
 "metadata": {
  "celltoolbar": "Raw-celnotatie",
  "kernelspec": {
   "display_name": "test-notebooks",
   "language": "python",
   "name": "python3"
  },
  "language_info": {
   "codemirror_mode": {
    "name": "ipython",
    "version": 3
   },
   "file_extension": ".py",
   "mimetype": "text/x-python",
   "name": "python",
   "nbconvert_exporter": "python",
   "pygments_lexer": "ipython3",
   "version": "3.12.11"
  },
  "pycharm": {
   "stem_cell": {
    "cell_type": "raw",
    "metadata": {
     "collapsed": false
    },
    "source": []
   }
  }
 },
 "nbformat": 4,
 "nbformat_minor": 4
}
