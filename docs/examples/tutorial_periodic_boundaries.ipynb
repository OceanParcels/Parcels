{
 "cells": [
  {
   "attachments": {},
   "cell_type": "markdown",
   "metadata": {},
   "source": [
    "# Periodic boundaries\n"
   ]
  },
  {
   "attachments": {},
   "cell_type": "markdown",
   "metadata": {},
   "source": [
    "This tutorial will show how to implement Periodic boundary conditions (where particles that leave the domain on one side enter again on the other side) can be implemented in Parcels\n"
   ]
  },
  {
   "attachments": {},
   "cell_type": "markdown",
   "metadata": {},
   "source": [
    "In case you have a global model on a C-grid, then there is typically not much that needs to be done. The only thing you have to be aware of, is that there is no 'gap' between the longitude values on the right side of the grid and on the left side of the grid (modulo 360). In other words, that\n",
    "\n",
    "```python\n",
    "fieldset.U.lon[:, 0] >= fieldset.U.lon[:, -1]\n",
    "```\n",
    "\n",
    "This is the case for most [curvilinear NEMO model outputs on a C-grid](https://docs.oceanparcels.org/en/latest/examples/tutorial_nemo_curvilinear.html), so that periodic boundary conditions work out of the box, without any special code required.\n",
    "\n",
    "For [Hycom models](https://github.com/OceanParcels/parcels/issues/1240), we have found that it can help to add an extra column of longitudes at the end of the longitude array:\n",
    "\n",
    "```python\n",
    "lon_c = np.expand_dims(fieldset.U.grid.lon[:, 0], axis=1)\n",
    "fieldset.U.grid.lon = np.hstack((fieldset.U.grid.lon, lon_c))\n",
    "```\n"
   ]
  },
  {
   "attachments": {},
   "cell_type": "markdown",
   "metadata": {},
   "source": [
    "If you have a 'simple' `Rectilinear` A-grid, you can create periodic boundaries in Parcels in two steps:\n",
    "\n",
    "1. Extend the fieldset with a small 'halo'\n",
    "2. Add a periodic boundary kernel to the `.execute`\n"
   ]
  },
  {
   "attachments": {},
   "cell_type": "markdown",
   "metadata": {},
   "source": [
    "We'll start by importing the relevant modules\n"
   ]
  },
  {
   "cell_type": "code",
   "execution_count": null,
   "metadata": {},
   "outputs": [],
   "source": [
    "import math\n",
    "from datetime import timedelta\n",
    "\n",
    "import matplotlib.pyplot as plt\n",
    "import xarray as xr\n",
    "\n",
    "import parcels"
   ]
  },
  {
   "attachments": {},
   "cell_type": "markdown",
   "metadata": {},
   "source": [
    "We import the Peninsula fieldset; note that we need to set `allow_time_extrapolation` because the Peninsula fieldset has only one time snapshot.\n"
   ]
  },
  {
   "cell_type": "code",
   "execution_count": null,
   "metadata": {},
   "outputs": [],
   "source": [
    "example_dataset_folder = parcels.download_example_dataset(\"Peninsula_data\")\n",
    "fieldset = parcels.FieldSet.from_parcels(\n",
    "    f\"{example_dataset_folder}/peninsula\", allow_time_extrapolation=True\n",
    ")"
   ]
  },
  {
   "attachments": {},
   "cell_type": "markdown",
   "metadata": {},
   "source": [
    "Extending the fieldset with a halo is very simply done using the `add_periodic_halo()` method. Halos can be added either in the zonal direction, the meridional direction, or both, by setting `zonal` and/or `meridional` to `True`.\n",
    "\n",
    "But before we apply the halo, we first define two new fieldset constants `halo_east` and `halo_west`. They store the original zonal extend of the grid (so _before_ adding the halo) and will be used later in the `periodicBC` kernel.\n",
    "\n",
    "**_Note that some hydrodynamic data, such as the global ORCA grid used in NEMO, already has a halo._** In these cases, **do not** extent the fieldset with the halo but only add the periodic boundary kernel, where you use the explicit values for halo_east and halo_west\n"
   ]
  },
  {
   "cell_type": "code",
   "execution_count": null,
   "metadata": {},
   "outputs": [],
   "source": [
    "fieldset.add_constant(\"halo_west\", fieldset.U.grid.lon[0])\n",
    "fieldset.add_constant(\"halo_east\", fieldset.U.grid.lon[-1])\n",
    "\n",
    "fieldset.add_periodic_halo(zonal=True)"
   ]
  },
  {
   "attachments": {},
   "cell_type": "markdown",
   "metadata": {},
   "source": [
    "The other item we need is a custom Kernel that can move the particle from one side of the domain to the other.\n"
   ]
  },
  {
   "cell_type": "code",
   "execution_count": null,
   "metadata": {},
   "outputs": [],
   "source": [
    "def periodicBC(particle, fieldset, time):\n",
    "    if particle.lon < fieldset.halo_west:\n",
    "        particle_dlon += fieldset.halo_east - fieldset.halo_west\n",
    "    elif particle.lon > fieldset.halo_east:\n",
    "        particle_dlon -= fieldset.halo_east - fieldset.halo_west"
   ]
  },
  {
   "attachments": {},
   "cell_type": "markdown",
   "metadata": {},
   "source": [
    "Now define a particle set and execute it as usual\n"
   ]
  },
  {
   "cell_type": "code",
   "execution_count": null,
   "metadata": {},
   "outputs": [],
   "source": [
    "pset = parcels.ParticleSet.from_line(\n",
    "    fieldset,\n",
    "    pclass=parcels.Particle,\n",
    "    size=10,\n",
    "    start=(20e3, 3e3),\n",
    "    finish=(20e3, 45e3),\n",
    ")\n",
    "\n",
    "output_file = pset.ParticleFile(name=\"PeriodicParticle\", outputdt=timedelta(hours=1))\n",
    "\n",
    "pset.execute(\n",
    "    [parcels.AdvectionRK4, periodicBC],\n",
    "    runtime=timedelta(hours=24),\n",
    "    dt=timedelta(minutes=5),\n",
    "    output_file=output_file,\n",
    ")"
   ]
  },
  {
   "attachments": {},
   "cell_type": "markdown",
   "metadata": {},
   "source": [
    "And finally plot the particle trajectories\n"
   ]
  },
  {
   "cell_type": "code",
   "execution_count": null,
   "metadata": {},
   "outputs": [],
   "source": [
    "ds = xr.open_zarr(\"PeriodicParticle.zarr\")\n",
    "\n",
    "plt.plot(ds.lon.T, ds.lat.T, \".-\")\n",
    "plt.xlabel(\"Zonal distance (m)\")\n",
    "plt.ylabel(\"Meridional distance (m)\")\n",
    "plt.show()"
   ]
  },
  {
   "attachments": {},
   "cell_type": "markdown",
   "metadata": {},
   "source": [
    "We can see that the particles start at 20,000m, move eastward, and once they hit the boundary at 90,000m, they jump to the other side of the domain (the horizontal lines). So we have periodic boundary conditions!\n"
   ]
  },
  {
   "attachments": {},
   "cell_type": "markdown",
   "metadata": {},
   "source": [
    "As a note, one may ask \"why do we need the halo? Why can't we use simply the `PeriodicBC` kernel?\" This is because, if the particle is close to the edge of the fieldset (but still in it), `AdvectionRK4` will need to interpolate velocities that may lay outside the fieldset domain. With the halo, we make sure `AdvectionRK4` can access these values.\n"
   ]
  }
 ],
 "metadata": {
  "kernelspec": {
   "display_name": "parcels",
   "language": "python",
   "name": "python3"
  },
  "language_info": {
   "codemirror_mode": {
    "name": "ipython",
    "version": 3
   },
   "file_extension": ".py",
   "mimetype": "text/x-python",
   "name": "python",
   "nbconvert_exporter": "python",
   "pygments_lexer": "ipython3",
   "version": "3.12.3"
  }
 },
 "nbformat": 4,
 "nbformat_minor": 1
}
