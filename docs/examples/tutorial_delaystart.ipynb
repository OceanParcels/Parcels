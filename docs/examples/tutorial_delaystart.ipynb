{
 "cells": [
  {
   "attachments": {},
   "cell_type": "markdown",
   "metadata": {},
   "source": [
    "# Delayed starts\n"
   ]
  },
  {
   "attachments": {},
   "cell_type": "markdown",
   "metadata": {},
   "source": [
    "In many applications, it is needed to 'delay' the start of particle advection. For example because particles need to be released at different times throughout an experiment. Or because particles need to be released at a constant rate from the same set of locations.\n",
    "\n",
    "This tutorial will show how this can be done. We start with importing the relevant modules.\n"
   ]
  },
  {
   "cell_type": "code",
   "execution_count": null,
   "metadata": {},
   "outputs": [],
   "source": [
    "from datetime import timedelta\n",
    "\n",
    "import matplotlib.pyplot as plt\n",
    "import numpy as np\n",
    "import xarray as xr\n",
    "from IPython.display import HTML\n",
    "from matplotlib.animation import FuncAnimation\n",
    "\n",
    "import parcels"
   ]
  },
  {
   "attachments": {},
   "cell_type": "markdown",
   "metadata": {},
   "source": [
    "First import a `FieldSet` (from the Peninsula example, in this case)\n"
   ]
  },
  {
   "cell_type": "code",
   "execution_count": null,
   "metadata": {},
   "outputs": [],
   "source": [
    "example_dataset_folder = parcels.download_example_dataset(\"Peninsula_data\")\n",
    "filenames = {\n",
    "    \"U\": str(example_dataset_folder / \"peninsulaU.nc\"),\n",
    "    \"V\": str(example_dataset_folder / \"peninsulaV.nc\"),\n",
    "}\n",
    "variables = {\"U\": \"vozocrtx\", \"V\": \"vomecrty\"}\n",
    "dimensions = {\"lon\": \"nav_lon\", \"lat\": \"nav_lat\", \"time\": \"time_counter\"}\n",
    "fieldset = parcels.FieldSet.from_netcdf(\n",
    "    filenames, variables, dimensions, allow_time_extrapolation=True\n",
    ")"
   ]
  },
  {
   "attachments": {},
   "cell_type": "markdown",
   "metadata": {},
   "source": [
    "Now, there are two ways to delay the start of particles. Either by defining the whole `ParticleSet` at initialisation and giving each particle its own `time`. Or by using the `repeatdt` argument. We will show both options here\n"
   ]
  },
  {
   "attachments": {},
   "cell_type": "markdown",
   "metadata": {},
   "source": [
    "## Assigning each particle its own `time`\n"
   ]
  },
  {
   "attachments": {},
   "cell_type": "markdown",
   "metadata": {},
   "source": [
    "The simplest way to delay the start of a particle is to use the `time` argument for each particle\n"
   ]
  },
  {
   "cell_type": "code",
   "execution_count": null,
   "metadata": {},
   "outputs": [],
   "source": [
    "npart = 10  # number of particles to be released\n",
    "lon = 3e3 * np.ones(npart)\n",
    "lat = np.linspace(3e3, 45e3, npart, dtype=np.float32)\n",
    "\n",
    "# release every particle one hour later\n",
    "time = np.arange(0, npart) * timedelta(hours=1).total_seconds()\n",
    "\n",
    "pset = parcels.ParticleSet(\n",
    "    fieldset=fieldset, pclass=parcels.Particle, lon=lon, lat=lat, time=time\n",
    ")"
   ]
  },
  {
   "attachments": {},
   "cell_type": "markdown",
   "metadata": {},
   "source": [
    "Then we can execute the `pset` as usual\n"
   ]
  },
  {
   "cell_type": "code",
   "execution_count": null,
   "metadata": {},
   "outputs": [],
   "source": [
    "output_file = pset.ParticleFile(\n",
    "    name=\"DelayParticle_time.zarr\", outputdt=timedelta(hours=1)\n",
    ")\n",
    "\n",
    "pset.execute(\n",
    "    parcels.AdvectionRK4,\n",
    "    runtime=timedelta(hours=24),\n",
    "    dt=timedelta(minutes=5),\n",
    "    output_file=output_file,\n",
    ")"
   ]
  },
  {
   "attachments": {},
   "cell_type": "markdown",
   "metadata": {},
   "source": [
    "And then finally, we can show a movie of the particles. Note that the southern-most particles start to move first.\n"
   ]
  },
  {
   "cell_type": "code",
   "execution_count": null,
   "metadata": {},
   "outputs": [],
   "source": [
    "%%capture\n",
    "\n",
    "ds = xr.open_zarr(\"DelayParticle_time.zarr\")\n",
    "\n",
    "fig = plt.figure(figsize=(7, 5), constrained_layout=True)\n",
    "ax = fig.add_subplot()\n",
    "\n",
    "ax.set_ylabel(\"Meridional distance [m]\")\n",
    "ax.set_xlabel(\"Zonal distance [m]\")\n",
    "ax.set_xlim(0, 9e4)\n",
    "ax.set_ylim(0, 5e4)\n",
    "\n",
    "timerange = np.unique(ds[\"time\"].values[np.isfinite(ds[\"time\"])])\n",
    "\n",
    "# Indices of the data where time = 0\n",
    "time_id = np.where(ds[\"time\"] == timerange[0])\n",
    "\n",
    "sc = ax.scatter(ds[\"lon\"].values[time_id], ds[\"lat\"].values[time_id])\n",
    "\n",
    "t = str(timerange[0].astype(\"timedelta64[h]\"))\n",
    "title = ax.set_title(f\"Particles at t = {t}\")\n",
    "\n",
    "\n",
    "def animate(i):\n",
    "    t = str(timerange[i].astype(\"timedelta64[h]\"))\n",
    "    title.set_text(f\"Particles at t = {t}\")\n",
    "\n",
    "    time_id = np.where(ds[\"time\"] == timerange[i])\n",
    "    sc.set_offsets(np.c_[ds[\"lon\"].values[time_id], ds[\"lat\"].values[time_id]])\n",
    "\n",
    "\n",
    "anim = FuncAnimation(fig, animate, frames=len(timerange), interval=100)"
   ]
  },
  {
   "cell_type": "code",
   "execution_count": null,
   "metadata": {},
   "outputs": [],
   "source": [
    "HTML(anim.to_jshtml())"
   ]
  },
  {
   "attachments": {},
   "cell_type": "markdown",
   "metadata": {},
   "source": [
    "## Using the `repeatdt` argument\n"
   ]
  },
  {
   "attachments": {},
   "cell_type": "markdown",
   "metadata": {},
   "source": [
    "The second method to delay the start of particle releases is to use the `repeatdt` argument when constructing a `ParticleSet`. This is especially useful if you want to repeatedly release particles from the same set of locations.\n"
   ]
  },
  {
   "cell_type": "code",
   "execution_count": null,
   "metadata": {},
   "outputs": [],
   "source": [
    "npart = 10  # number of particles to be released\n",
    "lon = 3e3 * np.ones(npart)\n",
    "lat = np.linspace(3e3, 45e3, npart, dtype=np.float32)\n",
    "repeatdt = timedelta(hours=3)  # release from the same set of locations every 3h\n",
    "\n",
    "pset = parcels.ParticleSet(\n",
    "    fieldset=fieldset, pclass=parcels.Particle, lon=lon, lat=lat, repeatdt=repeatdt\n",
    ")"
   ]
  },
  {
   "attachments": {},
   "cell_type": "markdown",
   "metadata": {},
   "source": [
    "Now we again define an output file and execute the `pset` as usual.\n"
   ]
  },
  {
   "cell_type": "code",
   "execution_count": null,
   "metadata": {},
   "outputs": [],
   "source": [
    "output_file = pset.ParticleFile(\n",
    "    name=\"DelayParticle_releasedt\", outputdt=timedelta(hours=1)\n",
    ")\n",
    "\n",
    "pset.execute(\n",
    "    parcels.AdvectionRK4,\n",
    "    runtime=timedelta(hours=24),\n",
    "    dt=timedelta(minutes=5),\n",
    "    output_file=output_file,\n",
    ")"
   ]
  },
  {
   "attachments": {},
   "cell_type": "markdown",
   "metadata": {},
   "source": [
    "And we get an animation where a new particle is released every 3 hours from each start location\n"
   ]
  },
  {
   "cell_type": "code",
   "execution_count": null,
   "metadata": {},
   "outputs": [],
   "source": [
    "%%capture\n",
    "\n",
    "ds = xr.open_zarr(\"DelayParticle_releasedt.zarr\")\n",
    "\n",
    "fig = plt.figure(figsize=(7, 5), constrained_layout=True)\n",
    "ax = fig.add_subplot()\n",
    "\n",
    "ax.set_ylabel(\"Meridional distance [m]\")\n",
    "ax.set_xlabel(\"Zonal distance [m]\")\n",
    "ax.set_xlim(0, 9e4)\n",
    "ax.set_ylim(0, 5e4)\n",
    "\n",
    "timerange = np.unique(ds[\"time\"].values[np.isfinite(ds[\"time\"])])\n",
    "\n",
    "# Indices of the data where time = 0\n",
    "time_id = np.where(ds[\"time\"] == timerange[0])\n",
    "\n",
    "sc = ax.scatter(ds[\"lon\"].values[time_id], ds[\"lat\"].values[time_id])\n",
    "\n",
    "t = str(timerange[0].astype(\"timedelta64[h]\"))\n",
    "title = ax.set_title(f\"Particles at t = {t}\")\n",
    "\n",
    "\n",
    "def animate(i):\n",
    "    t = str(timerange[i].astype(\"timedelta64[h]\"))\n",
    "    title.set_text(f\"Particles at t = {t}\")\n",
    "\n",
    "    time_id = np.where(ds[\"time\"] == timerange[i])\n",
    "    sc.set_offsets(np.c_[ds[\"lon\"].values[time_id], ds[\"lat\"].values[time_id]])\n",
    "\n",
    "\n",
    "anim = FuncAnimation(fig, animate, frames=len(timerange), interval=100)"
   ]
  },
  {
   "cell_type": "code",
   "execution_count": null,
   "metadata": {},
   "outputs": [],
   "source": [
    "HTML(anim.to_jshtml())"
   ]
  },
  {
   "attachments": {},
   "cell_type": "markdown",
   "metadata": {},
   "source": [
    "Note that, if you want to if you want to at some point stop the repeatdt, the easiest implementation is to use two calls to `pset.execute()`. For example, if in the above example you only want four releases of the pset, you could do the following\n"
   ]
  },
  {
   "cell_type": "code",
   "execution_count": null,
   "metadata": {},
   "outputs": [],
   "source": [
    "pset = parcels.ParticleSet(\n",
    "    fieldset=fieldset, pclass=parcels.Particle, lon=lon, lat=lat, repeatdt=repeatdt\n",
    ")\n",
    "output_file = pset.ParticleFile(\n",
    "    name=\"DelayParticle_releasedt_9hrs\", outputdt=timedelta(hours=1)\n",
    ")\n",
    "\n",
    "# first run for 3 * 3 hrs\n",
    "pset.execute(\n",
    "    parcels.AdvectionRK4,\n",
    "    runtime=timedelta(hours=9),\n",
    "    dt=timedelta(minutes=5),\n",
    "    output_file=output_file,\n",
    ")\n",
    "\n",
    "# now stop the repeated release\n",
    "pset.repeatdt = None\n",
    "\n",
    "# now continue running for the remaining 15 hours\n",
    "pset.execute(\n",
    "    parcels.AdvectionRK4,\n",
    "    runtime=timedelta(hours=15),\n",
    "    dt=timedelta(minutes=5),\n",
    "    output_file=output_file,\n",
    ")"
   ]
  },
  {
   "cell_type": "code",
   "execution_count": null,
   "metadata": {},
   "outputs": [],
   "source": [
    "%%capture\n",
    "\n",
    "ds = xr.open_zarr(\"DelayParticle_releasedt_9hrs.zarr\")\n",
    "\n",
    "fig = plt.figure(figsize=(7, 5), constrained_layout=True)\n",
    "ax = fig.add_subplot()\n",
    "\n",
    "ax.set_ylabel(\"Meridional distance [m]\")\n",
    "ax.set_xlabel(\"Zonal distance [m]\")\n",
    "ax.set_xlim(0, 9e4)\n",
    "ax.set_ylim(0, 5e4)\n",
    "\n",
    "timerange = np.unique(ds[\"time\"].values[np.isfinite(ds[\"time\"])])\n",
    "\n",
    "# Indices of the data where time = 0\n",
    "time_id = np.where(ds[\"time\"] == timerange[0])\n",
    "\n",
    "sc = ax.scatter(ds[\"lon\"].values[time_id], ds[\"lat\"].values[time_id])\n",
    "\n",
    "t = str(timerange[0].astype(\"timedelta64[h]\"))\n",
    "title = ax.set_title(f\"Particles at t = {t}\")\n",
    "\n",
    "\n",
    "def animate(i):\n",
    "    t = str(timerange[i].astype(\"timedelta64[h]\"))\n",
    "    title.set_text(f\"Particles at t = {t}\")\n",
    "\n",
    "    time_id = np.where(ds[\"time\"] == timerange[i])\n",
    "    sc.set_offsets(np.c_[ds[\"lon\"].values[time_id], ds[\"lat\"].values[time_id]])\n",
    "\n",
    "\n",
    "anim = FuncAnimation(fig, animate, frames=len(timerange), interval=100)"
   ]
  },
  {
   "cell_type": "code",
   "execution_count": null,
   "metadata": {},
   "outputs": [],
   "source": [
    "HTML(anim.to_jshtml())"
   ]
  },
  {
   "attachments": {},
   "cell_type": "markdown",
   "metadata": {},
   "source": [
    "## Synced `time` in the output file\n",
    "\n",
    "Note that, because the `outputdt` variable controls the Kernel-loop, all particles are written _at the same time_, even when they start at a non-multiple of `outputdt`.\n",
    "\n",
    "For example, if your particles start at `time=[0, 1, 2]` and `outputdt=2`, then the times written (for `dt=1` and `endtime=4`) will be\n"
   ]
  },
  {
   "cell_type": "code",
   "execution_count": null,
   "metadata": {},
   "outputs": [],
   "source": [
    "outtime_expected = np.array(\n",
    "    [[0, 2, 4], [2, 4, np.datetime64(\"NaT\")], [2, 4, np.datetime64(\"NaT\")]],\n",
    "    dtype=\"timedelta64[s]\",\n",
    ")\n",
    "print(outtime_expected)"
   ]
  },
  {
   "cell_type": "code",
   "execution_count": null,
   "metadata": {},
   "outputs": [],
   "source": [
    "outfilepath = \"DelayParticle_nonmatchingtime.zarr\"\n",
    "\n",
    "pset = parcels.ParticleSet(\n",
    "    fieldset=fieldset,\n",
    "    pclass=parcels.Particle,\n",
    "    lat=[3e3] * 3,\n",
    "    lon=[3e3] * 3,\n",
    "    time=[0, 1, 2],\n",
    ")\n",
    "\n",
    "output_file = pset.ParticleFile(name=outfilepath, outputdt=2)\n",
    "pset.execute(\n",
    "    parcels.AdvectionRK4,\n",
    "    endtime=4,\n",
    "    dt=1,\n",
    "    output_file=output_file,\n",
    ")\n",
    "\n",
    "# Note that we also need to write the final time to the file\n",
    "output_file.write_latest_locations(pset, 4)"
   ]
  },
  {
   "attachments": {},
   "cell_type": "markdown",
   "metadata": {},
   "source": [
    "And indeed, the `time` values in the NetCDF output file are as expected\n"
   ]
  },
  {
   "cell_type": "code",
   "execution_count": null,
   "metadata": {},
   "outputs": [],
   "source": [
    "outtime_infile = xr.open_zarr(outfilepath).time.values[:]\n",
    "print(outtime_infile.astype(\"timedelta64[s]\"))\n",
    "\n",
    "assert (\n",
    "    outtime_expected[np.isfinite(outtime_expected)]\n",
    "    == outtime_infile[np.isfinite(outtime_infile)]\n",
    ").all()"
   ]
  },
  {
   "attachments": {},
   "cell_type": "markdown",
   "metadata": {},
   "source": [
    "Now, for some applications, this behavior may be undesirable; for example when particles need to be analyzed at a same age (instead of at a same time). In that case, we recommend either changing `outputdt` so that it is a common divisor of all start times; or doing multiple Parcels runs with subsets of the original `ParticleSet` (e.g., in the example above, one run with the Particles that start at `time=[0, 2]` and one with the Particle at `time=[1]`). In that case, you will get two files:\n"
   ]
  },
  {
   "cell_type": "code",
   "execution_count": null,
   "metadata": {},
   "outputs": [],
   "source": [
    "for times in [[0, 2], [1]]:\n",
    "    pset = parcels.ParticleSet(\n",
    "        fieldset=fieldset,\n",
    "        pclass=parcels.Particle,\n",
    "        lat=[3e3] * len(times),\n",
    "        lon=[3e3] * len(times),\n",
    "        time=times,\n",
    "    )\n",
    "    output_file = pset.ParticleFile(name=outfilepath, outputdt=2)\n",
    "    pset.execute(\n",
    "        parcels.AdvectionRK4,\n",
    "        endtime=4,\n",
    "        dt=1,\n",
    "        output_file=output_file,\n",
    "    )\n",
    "    # Note that we also need to write the final time to the file\n",
    "    output_file.write_latest_locations(pset, 4)\n",
    "    print(xr.open_zarr(outfilepath).time.values[:].astype(\"timedelta64[s]\"))"
   ]
  },
  {
   "attachments": {},
   "cell_type": "markdown",
   "metadata": {},
   "source": [
    "## Adding new particles to a ParticleSet during runtime\n"
   ]
  },
  {
   "attachments": {},
   "cell_type": "markdown",
   "metadata": {},
   "source": [
    "In the examples above, all particles were defined at the start of the simulation. There are use-cases, though, where it is important to be able to add particles 'on-the-fly', during the runtime of a Parcels simulation.\n",
    "\n",
    "Unfortuantely, Parcels does not (yet) support adding new particles _within_ a `Kernel`. A workaround is to temporarily leave the `execution()` call to add particles via the `ParticleSet.add()` method, before continuing with `execution()`.\n",
    "\n",
    "See the example below, where we add 'mass' to a particle each timestep, based on a probablistic condition, and then split the particle once its 'mass' is larger than 5\n"
   ]
  },
  {
   "cell_type": "code",
   "execution_count": null,
   "metadata": {},
   "outputs": [],
   "source": [
    "GrowingParticle = parcels.Particle.add_variables(\n",
    "    [\n",
    "        parcels.Variable(\"mass\", initial=0),\n",
    "        parcels.Variable(\"splittime\", initial=-1),\n",
    "        parcels.Variable(\"splitmass\", initial=0),\n",
    "    ]\n",
    ")\n",
    "\n",
    "\n",
    "def GrowParticles(particle, fieldset, time):\n",
    "    import random\n",
    "\n",
    "    # 25% chance per timestep for particle to grow\n",
    "    if random.random() < 0.25:\n",
    "        particle.mass += 1.0\n",
    "    if (particle.mass >= 5.0) and (particle.splittime < 0):\n",
    "        particle.splittime = time\n",
    "        particle.splitmass = particle.mass / 2.0\n",
    "        particle.mass = particle.mass / 2.0\n",
    "\n",
    "\n",
    "pset = parcels.ParticleSet(fieldset=fieldset, pclass=GrowingParticle, lon=0, lat=0)\n",
    "outfile = parcels.ParticleFile(\"growingparticles.zarr\", pset, outputdt=1)\n",
    "\n",
    "for t in range(40):\n",
    "    pset.execute(\n",
    "        GrowParticles, runtime=1, dt=1, output_file=outfile, verbose_progress=False\n",
    "    )\n",
    "    for p in pset:\n",
    "        if p.splittime > 0:\n",
    "            pset.add(\n",
    "                parcels.ParticleSet(\n",
    "                    fieldset=fieldset,\n",
    "                    pclass=GrowingParticle,\n",
    "                    lon=0,\n",
    "                    lat=0,\n",
    "                    time=p.splittime,\n",
    "                    mass=p.splitmass,\n",
    "                )\n",
    "            )\n",
    "            p.splittime = -1  # reset splittime"
   ]
  },
  {
   "attachments": {},
   "cell_type": "markdown",
   "metadata": {},
   "source": [
    "The 'trick' is that we place the `pset.execute()` call in a for-loop, so that we leave the Kernel-loop and can add Particles to the ParticleSet.\n",
    "\n",
    "Indeed, if we plot the mass of particles as a function of time, we see that new particles are created every time a particle reaches a mass of 5.\n"
   ]
  },
  {
   "cell_type": "code",
   "execution_count": null,
   "metadata": {},
   "outputs": [],
   "source": [
    "ds = xr.open_zarr(\"growingparticles.zarr\")\n",
    "plt.plot(ds.time.values[:].astype(\"timedelta64[s]\").T, ds.mass.T)\n",
    "plt.grid()\n",
    "plt.xlabel(\"Time\")\n",
    "plt.ylabel(\"Particle 'mass'\")\n",
    "plt.show()"
   ]
  }
 ],
 "metadata": {
  "kernelspec": {
   "display_name": "parcels",
   "language": "python",
   "name": "python3"
  },
  "language_info": {
   "codemirror_mode": {
    "name": "ipython",
    "version": 3
   },
   "file_extension": ".py",
   "mimetype": "text/x-python",
   "name": "python",
   "nbconvert_exporter": "python",
   "pygments_lexer": "ipython3",
   "version": "3.12.3"
  }
 },
 "nbformat": 4,
 "nbformat_minor": 1
}
