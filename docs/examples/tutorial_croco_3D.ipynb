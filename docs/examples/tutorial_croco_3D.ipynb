{
 "cells": [
  {
   "cell_type": "markdown",
   "metadata": {},
   "source": [
    "# CROCO 3D tutorial"
   ]
  },
  {
   "cell_type": "markdown",
   "metadata": {},
   "source": [
    "This tutorial will show how to run a 3D simulation with output from the CROCO model."
   ]
  },
  {
   "cell_type": "markdown",
   "metadata": {},
   "source": [
    "## Example setup"
   ]
  },
  {
   "cell_type": "markdown",
   "metadata": {},
   "source": [
    "We start with loading the relevant modules and the data."
   ]
  },
  {
   "cell_type": "code",
   "execution_count": null,
   "metadata": {},
   "outputs": [],
   "source": [
    "import os\n",
    "\n",
    "import matplotlib.pyplot as plt\n",
    "import numpy as np\n",
    "import xarray as xr\n",
    "\n",
    "import parcels\n",
    "\n",
    "example_dataset_folder = parcels.download_example_dataset(\"CROCOidealized_data\")\n",
    "file = os.path.join(example_dataset_folder, \"CROCO_idealized.nc\")"
   ]
  },
  {
   "cell_type": "markdown",
   "metadata": {},
   "source": [
    "The simulation will be a very simple, idealised flow: a purely zonal flow over a sloping bottom. This flow (which is somewhat unrealistic of course) nicely showcases that particles stay on their initial depth levels, even though the sigma-layers slope down. \n",
    "\n",
    "This flow has been created by first running the example from the [Shelf front example on the CROCO website](https://croco-ocean.gitlabpages.inria.fr/croco_doc/model/model.test_cases.shelfront.html). Then, we took the restart file are manually replaced all the `u`-velocities with `1` m/s and all the `v`-velocities with `0` m/s. This way we get a purely zonal flow. We then started a new simulation from the restart file, and CROCO then automatically calculated the `w` velocities to match the new zonal field. We saved the `time=0` snapshot from this new run and use it below."
   ]
  },
  {
   "cell_type": "markdown",
   "metadata": {},
   "source": [
    "Now we create a FieldSet object using the `FieldSet.from_croco()` method. Note that CROCO is a C-grid (with similar indexing at MITgcm), so we need to provide the longitudes and latitudes of the $\\rho$-points of the grid (`lon_rho` and `lat_rho`). We also need to provide the sigma levels at the depth points (`s_w`). Finally, it is important to also provide the bathymetry field (`h`), which is needed to convert the depth levels of the particles to sigma-coordinates."
   ]
  },
  {
   "cell_type": "markdown",
   "metadata": {},
   "source": [
    "<div class=\"alert alert-info\">\n",
    "\n",
    "__Note__ that in the code below we use the `w` velocity field for vertical velocity. However, it is unclear whether this is always the right choice. CROCO (and ROMS) also output an `omega` field, which may be more appropriate to use. The idealised simulation below only works when using `w`, though. In other simulations, it is recommended to test whether `omega` provides more realistic results. See https://github.com/OceanParcels/Parcels/discussions/1728 for more information.\n",
    "</div>"
   ]
  },
  {
   "cell_type": "code",
   "execution_count": null,
   "metadata": {},
   "outputs": [],
   "source": [
    "variables = {\"U\": \"u\", \"V\": \"v\", \"W\": \"w\", \"H\": \"h\", \"Zeta\": \"zeta\", \"Cs_w\": \"Cs_w\"}\n",
    "\n",
    "lon_rho = \"x_rho\"  # Note, this would be \"lon_rho\" for a dataset on a spherical grid\n",
    "lat_rho = \"y_rho\"  # Note ,this would be \"lat_rho\" for a dataset on a spherical grid\n",
    "\n",
    "dimensions = {\n",
    "    \"U\": {\"lon\": lon_rho, \"lat\": lat_rho, \"depth\": \"s_w\", \"time\": \"time\"},\n",
    "    \"V\": {\"lon\": lon_rho, \"lat\": lat_rho, \"depth\": \"s_w\", \"time\": \"time\"},\n",
    "    \"W\": {\"lon\": lon_rho, \"lat\": lat_rho, \"depth\": \"s_w\", \"time\": \"time\"},\n",
    "    \"H\": {\"lon\": lon_rho, \"lat\": lat_rho},\n",
    "    \"Zeta\": {\"lon\": lon_rho, \"lat\": lat_rho, \"time\": \"time\"},\n",
    "    \"Cs_w\": {\"depth\": \"s_w\"},\n",
    "}\n",
    "fieldset = parcels.FieldSet.from_croco(\n",
    "    file,\n",
    "    variables,\n",
    "    dimensions,\n",
    "    hc=xr.open_dataset(\n",
    "        file\n",
    "    ).hc.values,  # Note this stretching parameter is needed for the vertical grid\n",
    "    allow_time_extrapolation=True,  # Note, this is only needed for this specific example dataset, that has only one snapshot\n",
    "    mesh=\"flat\",  # Note, this is only needed for this specific example dataset, that has been created on a 'flat' mesh (i.e. in km instead of in degrees)\n",
    ")"
   ]
  },
  {
   "cell_type": "markdown",
   "metadata": {},
   "source": [
    "Now we can use this Fieldset to advect particles as we would normally do. Note that the particle depths should be provided in (negative) meters, not in sigma-coordinates."
   ]
  },
  {
   "cell_type": "code",
   "execution_count": null,
   "metadata": {},
   "outputs": [],
   "source": [
    "X, Z = np.meshgrid(\n",
    "    [40e3, 80e3, 120e3],\n",
    "    [100, -10, -130, -250, -400, -850, -1400, -1550],\n",
    ")\n",
    "Y = np.ones(X.size) * fieldset.U.grid.lat[25]\n",
    "\n",
    "\n",
    "def DeleteParticle(particle, fieldset, time):\n",
    "    if particle.state >= 50:\n",
    "        particle.delete()\n",
    "\n",
    "\n",
    "pset = parcels.ParticleSet(\n",
    "    fieldset=fieldset, pclass=parcels.Particle, lon=X, lat=Y, depth=Z\n",
    ")\n",
    "\n",
    "outputfile = pset.ParticleFile(name=\"croco_particles3D.zarr\", outputdt=5000)\n",
    "\n",
    "pset.execute(\n",
    "    [parcels.AdvectionRK4_3D, DeleteParticle],\n",
    "    runtime=5e4,\n",
    "    dt=100,\n",
    "    output_file=outputfile,\n",
    ")"
   ]
  },
  {
   "cell_type": "markdown",
   "metadata": {},
   "source": [
    "Now we plot the particle trajectories below. Note that the particles stay on their initial depth levels, even though the sigma-layers slope down. Also note that particles released above the surface (where depth >0) or below the bathymetry are not advected (due to the `DeleteParticle` kernel)."
   ]
  },
  {
   "cell_type": "code",
   "execution_count": null,
   "metadata": {
    "tags": [
     "nbsphinx-thumbnail"
    ]
   },
   "outputs": [],
   "source": [
    "fig, ax = plt.subplots(1, 1, figsize=(6, 4))\n",
    "ds = xr.open_zarr(\"croco_particles3D.zarr\")\n",
    "\n",
    "ax.plot(ds.lon.T / 1e3, ds.z.T, \".-\")\n",
    "\n",
    "dsCROCO = xr.open_dataset(file)\n",
    "for z in dsCROCO.s_w.values:\n",
    "    ax.plot(fieldset.H.lon / 1e3, fieldset.H.data[0, 25, :] * z, \"k\", linewidth=0.5)\n",
    "ax.set_xlabel(\"X [km]\")\n",
    "ax.set_xlim(30, 170)\n",
    "ax.set_ylabel(\"Depth [m]\")\n",
    "ax.set_title(\"Particles in idealized CROCO velocity field using 3D advection\")\n",
    "plt.tight_layout()\n",
    "plt.show()"
   ]
  },
  {
   "cell_type": "markdown",
   "metadata": {},
   "source": [
    "### A CROCO simulation with no vertical velocities"
   ]
  },
  {
   "cell_type": "markdown",
   "metadata": {},
   "source": [
    "It may be insightful to compare this 3D run with the `AdvectionRK4_3D` kernel with a run where the vertical velocity (`W`) is set to zero. In that case, the particles will not stay on their initial depth levels but instead follow sigma-layers."
   ]
  },
  {
   "cell_type": "code",
   "execution_count": null,
   "metadata": {},
   "outputs": [],
   "source": [
    "import copy\n",
    "\n",
    "fieldset_noW = copy.copy(fieldset)\n",
    "fieldset_noW.W.data[:] = 0.0\n",
    "\n",
    "pset_noW = parcels.ParticleSet(\n",
    "    fieldset=fieldset_noW, pclass=parcels.Particle, lon=X, lat=Y, depth=Z\n",
    ")\n",
    "\n",
    "outputfile = pset.ParticleFile(name=\"croco_particles_noW.zarr\", outputdt=5000)\n",
    "\n",
    "pset_noW.execute(\n",
    "    [parcels.AdvectionRK4_3D, DeleteParticle],\n",
    "    runtime=5e4,\n",
    "    dt=100,\n",
    "    output_file=outputfile,\n",
    ")\n",
    "\n",
    "fig, ax = plt.subplots(1, 1, figsize=(6, 4))\n",
    "ds = xr.open_zarr(\"croco_particles_noW.zarr\")\n",
    "\n",
    "ax.plot(ds.lon.T / 1e3, ds.z.T, \".-\")\n",
    "\n",
    "dsCROCO = xr.open_dataset(file)\n",
    "for z in dsCROCO.s_w.values:\n",
    "    ax.plot(fieldset.H.lon / 1e3, fieldset.H.data[0, 25, :] * z, \"k\", linewidth=0.5)\n",
    "ax.set_xlabel(\"X [km]\")\n",
    "ax.set_xlim(30, 170)\n",
    "ax.set_ylabel(\"Depth [m]\")\n",
    "ax.set_title(\"Particles in idealized CROCO velocity field with W=0\")\n",
    "plt.tight_layout()\n",
    "plt.show()"
   ]
  },
  {
   "cell_type": "markdown",
   "metadata": {},
   "source": [
    "## The algorithms used"
   ]
  },
  {
   "cell_type": "markdown",
   "metadata": {},
   "source": [
    "When using `FieldSet.from_croco()`, Parcels knows that depth needs to be converted to sigma-coordinates, before doing any interpolation. This is done under the hood, using code for interpolation (in this case a `T` Field) like\n",
    "```python\n",
    "# First calculate local sigma level of the particle, by linearly interpolating the scaling function that maps sigma to depth (using local ocean depth H, sea-surface Zeta and stretching parameters Cs_w and hc). See also https://croco-ocean.gitlabpages.inria.fr/croco_doc/model/model.grid.html#vertical-grid-parameters\n",
    "h = fieldset.H[time, 0, particle.lat, particle.lon]\n",
    "zeta = fieldset.H[time, 0, particle.lat, particle.lon]\n",
    "sigma_levels = fieldset.U.grid.depth\n",
    "z0 = fieldset.hc * sigma_levels + (h - fieldset.hc) * fieldset.Cs_w\n",
    "zvec = z0 + zeta * (1 + (z0 / h))\n",
    "zinds = zvec <= z\n",
    "if z >= zvec[-1]:\n",
    "    zi = len(zvec) - 2\n",
    "else:\n",
    "    zi = zinds.argmin() - 1 if z >= zvec[0] else 0\n",
    "\n",
    "sigma = sigma_levels[zi] + (z - zvec[zi]) * (sigma_levels[zi + 1] - sigma_levels[zi]) / (zvec[zi + 1] - zvec[zi])\n",
    "\n",
    "# Now interpolate the field to the sigma level\n",
    "temp = fieldset.T[time, sigma, particle.lat, particle.lon]\n",
    "```"
   ]
  },
  {
   "cell_type": "markdown",
   "metadata": {},
   "source": [
    "For the `AdvectionRK4_3D` kernel, Parcels will replace the kernel with `AdvectionRK4_3D_CROCO`, which works slightly different from the normal 3D advection kernel because it converts the vertical velocity in sigma-units. The conversion from depth to sigma is done at every time step, using the code shows above.\n",
    "\n",
    "In particular, the following algorithm is used (note that the RK4 version is slightly more complex than this Euler-Forward version, but the idea is identical)\n",
    "\n",
    "```python\n",
    "(u, v, w) = fieldset.UVW[time, particle.depth, particle.lat, particle.lon, particle]  \n",
    "\n",
    "# scaling the w with the sigma level of the particle\n",
    "w_sigma = w * sigma / fieldset.H[time, particle.depth, particle.lat, particle.lon]\n",
    "\n",
    "lon_new = particle.lon + u*particle.dt\n",
    "lat_new = particle.lat + v*particle.dt\n",
    "\n",
    "# calculating new sigma level\n",
    "sigma_new = sigma + w_sigma*particle.dt \n",
    "\n",
    "# Converting back from sigma to depth, at _new_ location\n",
    "depth_new = sigma_new * fieldset.H[time, particle.depth, lat_new, lon_new]\n",
    "```"
   ]
  }
 ],
 "metadata": {
  "kernelspec": {
   "display_name": "parcels",
   "language": "python",
   "name": "python3"
  },
  "language_info": {
   "codemirror_mode": {
    "name": "ipython",
    "version": 3
   },
   "file_extension": ".py",
   "mimetype": "text/x-python",
   "name": "python",
   "nbconvert_exporter": "python",
   "pygments_lexer": "ipython3",
   "version": "3.12.3"
  }
 },
 "nbformat": 4,
 "nbformat_minor": 2
}
