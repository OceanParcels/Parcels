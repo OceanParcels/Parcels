{
 "cells": [
  {
   "attachments": {},
   "cell_type": "markdown",
   "metadata": {},
   "source": [
    "# Spherical grids and UnitConversion\n"
   ]
  },
  {
   "attachments": {},
   "cell_type": "markdown",
   "metadata": {},
   "source": [
    "In most applications, Parcels works with `spherical` meshes, where longitude and latitude are given in degrees, while depth is given in meters. But it is also possible to use `flat` meshes, where longitude and latitude are given in meters (note that the dimensions are then still called `longitude` and `latitude` for consistency reasons).\n",
    "\n",
    "In all cases, velocities are given in m/s. So Parcels seamlessly converts between meters and degrees, under the hood. For transparency, this tutorial explain how this works.\n"
   ]
  },
  {
   "attachments": {},
   "cell_type": "markdown",
   "metadata": {},
   "source": [
    "Let's first import the relevant modules, and create dictionaries for the `U`, `V` and `temp` data arrays, with the velocities 1 m/s and the temperature 20C.\n"
   ]
  },
  {
   "cell_type": "code",
   "execution_count": null,
   "metadata": {},
   "outputs": [],
   "source": [
    "import matplotlib.pyplot as plt\n",
    "import numpy as np\n",
    "\n",
    "import parcels"
   ]
  },
  {
   "cell_type": "code",
   "execution_count": null,
   "metadata": {},
   "outputs": [],
   "source": [
    "xdim, ydim = (10, 20)\n",
    "data = {\n",
    "    \"U\": np.ones((ydim, xdim), dtype=np.float32),\n",
    "    \"V\": np.ones((ydim, xdim), dtype=np.float32),\n",
    "    \"temp\": 20 * np.ones((ydim, xdim), dtype=np.float32),\n",
    "}\n",
    "dims = {\n",
    "    \"lon\": np.linspace(-15, 5, xdim, dtype=np.float32),\n",
    "    \"lat\": np.linspace(35, 60, ydim, dtype=np.float32),\n",
    "}"
   ]
  },
  {
   "attachments": {},
   "cell_type": "markdown",
   "metadata": {},
   "source": [
    "We can convert these data and dims to a FieldSet object using `FieldSet.from_data`. We add the argument `mesh='spherical'` (this is the default option) to signal that all longitudes and latitudes are in degrees.\n",
    "\n",
    "Plotting the `U` field indeed shows a uniform 1m/s eastward flow.\n"
   ]
  },
  {
   "cell_type": "code",
   "execution_count": null,
   "metadata": {},
   "outputs": [],
   "source": [
    "fieldset = parcels.FieldSet.from_data(data, dims, mesh=\"spherical\")\n",
    "plt.pcolormesh(fieldset.U.lon, fieldset.U.lat, fieldset.U.data[0, :, :], vmin=0, vmax=1)\n",
    "plt.colorbar()\n",
    "plt.show()"
   ]
  },
  {
   "attachments": {},
   "cell_type": "markdown",
   "metadata": {},
   "source": [
    "However, printing the velocites directly shows something perhaps surprising. Here, we use the square-bracket field-interpolation notation to print the field value at (5W, 40N, 0m depth) at time 0. _Note that sampling a velocity in Parcels is done by calling the `fieldset.UV` VectorField; see the [Field Sampling tutorial](https://docs.oceanparcels.org/en/latest/examples/tutorial_sampling.html#Sampling-velocity-fields) for more information._\n"
   ]
  },
  {
   "cell_type": "code",
   "execution_count": null,
   "metadata": {},
   "outputs": [],
   "source": [
    "print(fieldset.UV[0, 0, 40, -5])\n",
    "print(fieldset.temp[0, 0, 40, -5])"
   ]
  },
  {
   "attachments": {},
   "cell_type": "markdown",
   "metadata": {},
   "source": [
    "While the temperature field indeed is 20C, as we defined, these printed velocities are much smaller.\n",
    "\n",
    "This is because Parcels converts under the hood from m/s to degrees/s. This conversion is done with a `UnitConverter` object, which is stored in the `.units` attribute of each Field. Below, we print these\n"
   ]
  },
  {
   "cell_type": "code",
   "execution_count": null,
   "metadata": {},
   "outputs": [],
   "source": [
    "for fld in [fieldset.U, fieldset.V, fieldset.temp]:\n",
    "    print(f\"{fld.name}: {fld.units}\")"
   ]
  },
  {
   "attachments": {},
   "cell_type": "markdown",
   "metadata": {},
   "source": [
    "So the U field has a `GeographicPolar` UnitConverter object, the V field has a `Geographic` Unitconverter and the `temp` field has a `UnitConverter` object.\n",
    "\n",
    "Indeed, if we multiply the value of the V field with 1852 \\* 60 (the number of meters in 1 degree of latitude), we get the expected 1 m/s.\n"
   ]
  },
  {
   "cell_type": "code",
   "execution_count": null,
   "metadata": {},
   "outputs": [],
   "source": [
    "u, v = fieldset.UV[0, 0, 40, -5]\n",
    "print(v * 1852 * 60)"
   ]
  },
  {
   "attachments": {},
   "cell_type": "markdown",
   "metadata": {},
   "source": [
    "Note that you can also interpolate the Field without a unit conversion, by using the `eval()` method and setting `applyConversion=False`, as below\n"
   ]
  },
  {
   "cell_type": "code",
   "execution_count": null,
   "metadata": {},
   "outputs": [],
   "source": [
    "print(fieldset.UV.eval(0, 0, 40, -5, applyConversion=False))"
   ]
  },
  {
   "attachments": {},
   "cell_type": "markdown",
   "metadata": {},
   "source": [
    "## UnitConverters for `mesh='flat'`\n"
   ]
  },
  {
   "attachments": {},
   "cell_type": "markdown",
   "metadata": {},
   "source": [
    "If longitudes and latitudes are given in meters, rather than degrees, simply add `mesh='flat'` when creating the FieldSet object.\n"
   ]
  },
  {
   "cell_type": "code",
   "execution_count": null,
   "metadata": {},
   "outputs": [],
   "source": [
    "fieldset_flat = parcels.FieldSet.from_data(data, dims, mesh=\"flat\")\n",
    "\n",
    "plt.pcolormesh(\n",
    "    fieldset_flat.U.lon,\n",
    "    fieldset_flat.U.lat,\n",
    "    fieldset_flat.U.data[0, :, :],\n",
    "    vmin=0,\n",
    "    vmax=1,\n",
    ")\n",
    "plt.colorbar()\n",
    "plt.show()\n",
    "\n",
    "print(\"Velocities:\", fieldset_flat.UV[0, 0, 40, -5])\n",
    "for fld in [fieldset_flat.U, fieldset_flat.V, fieldset_flat.temp]:\n",
    "    print(f\"{fld.name}: {fld.units}\")"
   ]
  },
  {
   "attachments": {},
   "cell_type": "markdown",
   "metadata": {},
   "source": [
    "Indeed, in this case all Fields have the same default `UnitConverter` object.\n"
   ]
  },
  {
   "attachments": {},
   "cell_type": "markdown",
   "metadata": {},
   "source": [
    "## UnitConverters for Diffusion fields\n"
   ]
  },
  {
   "attachments": {},
   "cell_type": "markdown",
   "metadata": {},
   "source": [
    "The units for Brownian diffusion are in $m^2/s$. If (and only if!) the diffusion fields are called \"Kh_zonal\" and \"Kh_meridional\", Parcels will automatically assign the correct Unitconverter objects to these fields.\n"
   ]
  },
  {
   "cell_type": "code",
   "execution_count": null,
   "metadata": {},
   "outputs": [],
   "source": [
    "kh_zonal = 100  # in m^2/s\n",
    "kh_meridional = 100  # in m^2/s\n",
    "\n",
    "fieldset.add_field(\n",
    "    parcels.Field(\n",
    "        \"Kh_zonal\",\n",
    "        kh_zonal * np.ones((ydim, xdim), dtype=np.float32),\n",
    "        grid=fieldset.U.grid,\n",
    "    )\n",
    ")\n",
    "fieldset.add_field(\n",
    "    parcels.Field(\n",
    "        \"Kh_meridional\",\n",
    "        kh_meridional * np.ones((ydim, xdim), dtype=np.float32),\n",
    "        grid=fieldset.U.grid,\n",
    "    )\n",
    ")\n",
    "\n",
    "for fld in [fieldset.Kh_zonal, fieldset.Kh_meridional]:\n",
    "    print(f\"{fld.name}: {fld[0, 0, 40, -5]:e} {fld.units}\")"
   ]
  },
  {
   "attachments": {},
   "cell_type": "markdown",
   "metadata": {},
   "source": [
    "Here, the unitconverters are `GeographicPolarSquare` and `GeographicSquare`, respectively.\n",
    "\n",
    "Indeed, multiplying with $(1852\\cdot60)^2$ returns the original value\n"
   ]
  },
  {
   "cell_type": "code",
   "execution_count": null,
   "metadata": {},
   "outputs": [],
   "source": [
    "deg_to_m = 1852 * 60\n",
    "print(fieldset.Kh_meridional[0, 0, 40, -5] * deg_to_m**2)"
   ]
  },
  {
   "attachments": {},
   "cell_type": "markdown",
   "metadata": {},
   "source": [
    "## Adding a UnitConverter object to a Field\n"
   ]
  },
  {
   "attachments": {},
   "cell_type": "markdown",
   "metadata": {},
   "source": [
    "So, to summarise, here is a table with all the conversions\n",
    "\n",
    "| Field name       | Converter object        | Conversion for `mesh='spherical'`                         | Conversion for `mesh='flat'` |\n",
    "| ---------------- | ----------------------- | --------------------------------------------------------- | ---------------------------- |\n",
    "| 'U'              | `GeographicPolar`       | $1852 \\cdot 60 \\cdot \\cos(lat \\cdot \\frac{\\pi}{180})$     | 1                            |\n",
    "| 'V'              | `Geographic`            | $1852 \\cdot 60$                                           | 1                            |\n",
    "| 'Kh_zonal'       | `GeographicPolarSquare` | $(1852 \\cdot 60 \\cdot \\cos(lat \\cdot \\frac{\\pi}{180}))^2$ | 1                            |\n",
    "| 'Kh_meridional'  | `GeographicSquare`      | $(1852 \\cdot 60)^2$                                       | 1                            |\n",
    "| All other fields | `UnitConverter`         | 1                                                         | 1                            |\n",
    "\n",
    "Only four Field names are recognised and assigned an automatic UnitConverter object. This means that things might go very wrong when e.g. a velocity field is not called `U` or `V`.\n",
    "\n",
    "Fortunately, you can always add a UnitConverter later, as explained below:\n"
   ]
  },
  {
   "cell_type": "code",
   "execution_count": null,
   "metadata": {},
   "outputs": [],
   "source": [
    "fieldset.add_field(\n",
    "    parcels.Field(\n",
    "        \"Ustokes\", np.ones((ydim, xdim), dtype=np.float32), grid=fieldset.U.grid\n",
    "    )\n",
    ")\n",
    "print(fieldset.Ustokes[0, 0, 40, -5])"
   ]
  },
  {
   "attachments": {},
   "cell_type": "markdown",
   "metadata": {},
   "source": [
    "This value for `Ustokes` of course is not as expected, since the mesh is spherical and hence this would mean 1 degree/s velocity. Assigning the correct `GeographicPolar` Unitconverter gives\n"
   ]
  },
  {
   "cell_type": "code",
   "execution_count": null,
   "metadata": {},
   "outputs": [],
   "source": [
    "from parcels.tools.converters import GeographicPolar\n",
    "\n",
    "fieldset.Ustokes.units = GeographicPolar()\n",
    "print(fieldset.Ustokes[0, 0, 40, -5])\n",
    "print(fieldset.Ustokes[0, 0, 40, -5] * 1852 * 60 * np.cos(40 * np.pi / 180))"
   ]
  }
 ],
 "metadata": {
  "kernelspec": {
   "display_name": "Python 3",
   "language": "python",
   "name": "python3"
  },
  "language_info": {
   "codemirror_mode": {
    "name": "ipython",
    "version": 3
   },
   "file_extension": ".py",
   "mimetype": "text/x-python",
   "name": "python",
   "nbconvert_exporter": "python",
   "pygments_lexer": "ipython3",
   "version": "3.11.6"
  }
 },
 "nbformat": 4,
 "nbformat_minor": 2
}
