{
 "cells": [
  {
   "attachments": {},
   "cell_type": "markdown",
   "metadata": {},
   "source": [
    "# Working with Parcels output\n"
   ]
  },
  {
   "attachments": {},
   "cell_type": "markdown",
   "metadata": {},
   "source": [
    "This tutorial covers the format of the trajectory output exported by Parcels. **Parcels does not include advanced analysis or plotting functionality**, which users are suggested to write themselves to suit their research goals. Here we provide some starting points to explore the parcels output files yourself.\n",
    "\n",
    "- [**Reading the output file**](#Reading-the-output-file)\n",
    "- [**Trajectory data structure**](#Trajectory-data-structure)\n",
    "- [**Analysis**](#Analysis)\n",
    "- [**Plotting**](#Plotting)\n",
    "- [**Animations**](#Animations)\n",
    "\n",
    "First we need to create some parcels output to analyze. We simulate a set of particles using the setup described in the [Delay start tutorial](https://docs.oceanparcels.org/en/latest/examples/tutorial_delaystart.html). We will also add some user defined metadata to the output file.\n"
   ]
  },
  {
   "cell_type": "code",
   "execution_count": null,
   "metadata": {},
   "outputs": [],
   "source": [
    "from datetime import datetime, timedelta\n",
    "\n",
    "import numpy as np\n",
    "\n",
    "import parcels"
   ]
  },
  {
   "cell_type": "code",
   "execution_count": null,
   "metadata": {},
   "outputs": [],
   "source": [
    "example_dataset_folder = parcels.download_example_dataset(\"Peninsula_data\")\n",
    "fieldset = parcels.FieldSet.from_parcels(\n",
    "    f\"{example_dataset_folder}/peninsula\", allow_time_extrapolation=True\n",
    ")\n",
    "\n",
    "npart = 10  # number of particles to be released\n",
    "lon = 3e3 * np.ones(npart)\n",
    "lat = np.linspace(3e3, 45e3, npart, dtype=np.float32)\n",
    "\n",
    "# release every particle two hours later\n",
    "time = np.arange(npart) * timedelta(hours=2).total_seconds()\n",
    "\n",
    "pset = parcels.ParticleSet(\n",
    "    fieldset=fieldset, pclass=parcels.Particle, lon=lon, lat=lat, time=time\n",
    ")\n",
    "\n",
    "output_file = pset.ParticleFile(name=\"Output.zarr\", outputdt=timedelta(hours=2))"
   ]
  },
  {
   "cell_type": "markdown",
   "metadata": {},
   "source": [
    "Parcels saves some metadata in the output file with every simulation (Parcels version, CF convention information, etc.). This metadata is just a dictionary which is propogated to `xr.Dataset(attrs=...)` and is stored in the `.metadata` attribute. The user is free to manipulate this dictionary to add any custom, xarray-compatible metadata relevant to their simulation. Here we add a custom metadata field `date_created` to the output file."
   ]
  },
  {
   "cell_type": "code",
   "execution_count": null,
   "metadata": {},
   "outputs": [],
   "source": [
    "output_file.metadata[\"date_created\"] = datetime.now().isoformat()"
   ]
  },
  {
   "cell_type": "code",
   "execution_count": null,
   "metadata": {},
   "outputs": [],
   "source": [
    "pset.execute(\n",
    "    parcels.AdvectionRK4,\n",
    "    runtime=timedelta(hours=24),\n",
    "    dt=timedelta(minutes=5),\n",
    "    output_file=output_file,\n",
    ")"
   ]
  },
  {
   "attachments": {},
   "cell_type": "markdown",
   "metadata": {},
   "source": [
    "## Reading the output file\n",
    "\n",
    "Parcels exports output trajectories in `zarr` [format](https://zarr.readthedocs.io/en/stable/). Files in `zarr` are typically _much_ smaller in size than netcdf, although may be slightly more challenging to handle (but `xarray` has a fairly seamless `open_zarr()` method). Note when when we display the dataset we cam see our custom metadata field `date_created`.\n"
   ]
  },
  {
   "cell_type": "code",
   "execution_count": null,
   "metadata": {},
   "outputs": [],
   "source": [
    "import xarray as xr\n",
    "\n",
    "data_xarray = xr.open_zarr(\"Output.zarr\")\n",
    "print(data_xarray)"
   ]
  },
  {
   "cell_type": "code",
   "execution_count": null,
   "metadata": {},
   "outputs": [],
   "source": [
    "print(data_xarray[\"trajectory\"])"
   ]
  },
  {
   "attachments": {},
   "cell_type": "markdown",
   "metadata": {},
   "source": [
    "Note that if you are running Parcels on multiple processors with `mpirun`, you will need to concatenate the files of each processor, see also the [MPI documentation](https://docs.oceanparcels.org/en/latest/examples/documentation_MPI.html#Reading-in-the-ParticleFile-data-in-zarr-format).\n",
    "\n",
    "Also, once you have loaded the data as an `xarray` DataSet using `xr.open_zarr()`, you can always save the file to NetCDF if you prefer with the `.to_netcdf()` method.\n"
   ]
  },
  {
   "attachments": {},
   "cell_type": "markdown",
   "metadata": {},
   "source": [
    "## Trajectory data structure\n",
    "\n",
    "The data zarr file are organised according to the [CF-convention for trajectories data](http://cfconventions.org/cf-conventions/v1.6.0/cf-conventions.html#_multidimensional_array_representation_of_trajectories) implemented with the [NCEI trajectory template](https://www.ncei.noaa.gov/data/oceans/ncei/formats/netcdf/v2.0/trajectoryIncomplete.cdl). The data is stored in a **two-dimensional array** with the dimensions `traj` and `obs`. Each particle trajectory is essentially stored as a time series where the coordinate data (`lon`, `lat`, `time`) are a function of the observation (`obs`).\n",
    "\n",
    "The output dataset used here contains **10 particles** and **13 observations**. Not every particle has 13 observations however; since we released particles at different times some particle trajectories are shorter than others.\n"
   ]
  },
  {
   "cell_type": "code",
   "execution_count": null,
   "metadata": {},
   "outputs": [],
   "source": [
    "np.set_printoptions(linewidth=160)\n",
    "one_hour = np.timedelta64(1, \"h\")  # Define timedelta object to help with conversion\n",
    "\n",
    "print(\n",
    "    data_xarray[\"time\"].data.compute() / one_hour\n",
    ")  # timedelta / timedelta -> float number of hours"
   ]
  },
  {
   "attachments": {},
   "cell_type": "markdown",
   "metadata": {},
   "source": [
    "Note how the first observation occurs at a different time for each trajectory. So remember that `obs != time`\n"
   ]
  },
  {
   "attachments": {},
   "cell_type": "markdown",
   "metadata": {},
   "source": [
    "## Analysis\n",
    "\n",
    "Sometimes, trajectories are analyzed as they are stored: as individual time series. If we want to study the distance travelled as a function of time, the time we are interested in is the time relative to the start of the each particular trajectory: the array operations are simple since each trajectory is analyzed as a function of `obs`. The time variable is only needed to express the results in the correct units.\n"
   ]
  },
  {
   "cell_type": "code",
   "execution_count": null,
   "metadata": {},
   "outputs": [],
   "source": [
    "import matplotlib.pyplot as plt\n",
    "\n",
    "x = data_xarray[\"lon\"].values\n",
    "y = data_xarray[\"lat\"].values\n",
    "distance = np.cumsum(\n",
    "    np.sqrt(np.square(np.diff(x)) + np.square(np.diff(y))), axis=1\n",
    ")  # d = (dx^2 + dy^2)^(1/2)\n",
    "\n",
    "real_time = data_xarray[\"time\"] / one_hour  # convert time to hours\n",
    "time_since_release = (\n",
    "    real_time.values.transpose() - real_time.values[:, 0]\n",
    ")  # substract the initial time from each timeseries"
   ]
  },
  {
   "cell_type": "code",
   "execution_count": null,
   "metadata": {},
   "outputs": [],
   "source": [
    "fig, (ax1, ax2) = plt.subplots(1, 2, figsize=(10, 4), constrained_layout=True)\n",
    "\n",
    "ax1.set_ylabel(\"Distance travelled [m]\")\n",
    "ax1.set_xlabel(\"observation\", weight=\"bold\")\n",
    "d_plot = ax1.plot(distance.transpose())\n",
    "\n",
    "ax2.set_ylabel(\"Distance travelled [m]\")\n",
    "ax2.set_xlabel(\"time since release [hours]\", weight=\"bold\")\n",
    "d_plot_t = ax2.plot(time_since_release[1:], distance.transpose())\n",
    "plt.show()"
   ]
  },
  {
   "attachments": {},
   "cell_type": "markdown",
   "metadata": {},
   "source": [
    "The two figures above show the same graph. Time is not needed to create the first figure. The time variable minus the first value of each trajectory gives the x-axis the correct units in the second figure.\n",
    "\n",
    "We can also plot the distance travelled as a function of the absolute time easily, since the `time` variable matches up with the data for each individual trajectory.\n"
   ]
  },
  {
   "cell_type": "code",
   "execution_count": null,
   "metadata": {},
   "outputs": [],
   "source": [
    "plt.figure()\n",
    "ax = plt.axes()\n",
    "ax.set_ylabel(\"Distance travelled [m]\")\n",
    "ax.set_xlabel(\"time [hours]\", weight=\"bold\")\n",
    "d_plot_t = ax.plot(real_time.T[1:], distance.transpose())"
   ]
  },
  {
   "attachments": {},
   "cell_type": "markdown",
   "metadata": {},
   "source": [
    "### Conditional selection\n",
    "\n",
    "In other cases, the processing of the data itself however depends on the absolute time at which the observations are made, e.g. studying seasonal phenomena. In that case the array structure is not as simple: the data must be selected by their `time` value. Here we show how the mean location of the particles evolves through time. This also requires the trajectory data to be aligned in time. The data are selected using `xr.DataArray.where()` which compares the time variable to a specific time. This type of selecting data with a condition (`data_xarray['time']==time`) is a powerful tool to analyze trajectory data.\n"
   ]
  },
  {
   "cell_type": "code",
   "execution_count": null,
   "metadata": {},
   "outputs": [],
   "source": [
    "# Using xarray\n",
    "mean_lon_x = []\n",
    "mean_lat_x = []\n",
    "\n",
    "timerange = np.arange(\n",
    "    np.nanmin(data_xarray[\"time\"].values),\n",
    "    np.nanmax(data_xarray[\"time\"].values) + np.timedelta64(timedelta(hours=2)),\n",
    "    timedelta(hours=2),\n",
    ")  # timerange in nanoseconds\n",
    "\n",
    "for time in timerange:\n",
    "    # if all trajectories share an observation at time\n",
    "    if np.all(np.any(data_xarray[\"time\"] == time, axis=1)):\n",
    "        # find the data that share the time\n",
    "        mean_lon_x += [\n",
    "            np.nanmean(data_xarray[\"lon\"].where(data_xarray[\"time\"] == time).values)\n",
    "        ]\n",
    "        mean_lat_x += [\n",
    "            np.nanmean(data_xarray[\"lat\"].where(data_xarray[\"time\"] == time).values)\n",
    "        ]"
   ]
  },
  {
   "cell_type": "code",
   "execution_count": null,
   "metadata": {},
   "outputs": [],
   "source": [
    "plt.figure()\n",
    "ax = plt.axes()\n",
    "ax.set_ylabel(\"Meridional distance [m]\")\n",
    "ax.set_xlabel(\"Zonal distance [m]\")\n",
    "ax.grid()\n",
    "ax.scatter(mean_lon_x, mean_lat_x, marker=\"^\", s=80)\n",
    "plt.show()"
   ]
  },
  {
   "attachments": {},
   "cell_type": "markdown",
   "metadata": {},
   "source": [
    "## Plotting\n",
    "\n",
    "Parcels output consists of particle trajectories through time and space. An important way to explore patterns in this information is to draw the trajectories in space. The [**trajan**](https://opendrift.github.io/trajan/index.html) package can be used to quickly plot parcels results, but users are encouraged to create their own figures, for example by using the comprehensive [**matplotlib**](https://matplotlib.org/) library. Here we show a basic setup on how to process the parcels output into trajectory plots and animations.\n",
    "\n",
    "Some other packages to help you make beautiful figures are:\n",
    "\n",
    "- [**cartopy**](https://scitools.org.uk/cartopy/docs/latest/), a map-drawing tool especially compatible with matplotlib\n",
    "- [**trajan**](https://opendrift.github.io/trajan/index.html), a package to quickly plot trajectories\n",
    "- [**cmocean**](https://matplotlib.org/cmocean/), a set of ocean-relevant colormaps\n"
   ]
  },
  {
   "attachments": {},
   "cell_type": "markdown",
   "metadata": {},
   "source": [
    "To draw the trajectory data in space usually it is informative to draw points at the observed coordinates to see the resolution of the output and draw a line through them to separate the different trajectories. The coordinates to draw are in `lon` and `lat` and can be passed to either `matplotlib.pyplot.plot` or `matplotlib.pyplot.scatter`. Note however, that the default way matplotlib plots 2D arrays is to plot a separate set for each column. In the parcels 2D output, the columns correspond to the `obs` dimension, so to separate the different trajectories we need to transpose the 2D array using `.T`.\n"
   ]
  },
  {
   "cell_type": "code",
   "execution_count": null,
   "metadata": {},
   "outputs": [],
   "source": [
    "fig, (ax1, ax2, ax3, ax4) = plt.subplots(\n",
    "    1, 4, figsize=(16, 3.5), constrained_layout=True\n",
    ")\n",
    "\n",
    "###-Points-###\n",
    "ax1.set_title(\"Points\")\n",
    "ax1.scatter(data_xarray[\"lon\"].T, data_xarray[\"lat\"].T)\n",
    "###-Lines-###\n",
    "ax2.set_title(\"Lines\")\n",
    "ax2.plot(data_xarray[\"lon\"].T, data_xarray[\"lat\"].T)\n",
    "###-Points + Lines-###\n",
    "ax3.set_title(\"Points + Lines\")\n",
    "ax3.plot(data_xarray[\"lon\"].T, data_xarray[\"lat\"].T, marker=\"o\")\n",
    "###-Not Transposed-###\n",
    "ax4.set_title(\"Not transposed\")\n",
    "ax4.plot(data_xarray[\"lon\"], data_xarray[\"lat\"], marker=\"o\")\n",
    "\n",
    "plt.show()"
   ]
  },
  {
   "attachments": {},
   "cell_type": "markdown",
   "metadata": {},
   "source": [
    "### Animations\n"
   ]
  },
  {
   "attachments": {},
   "cell_type": "markdown",
   "metadata": {},
   "source": [
    "Trajectory plots like the ones above can become very cluttered for large sets of particles. To better see patterns, it's a good idea to create an animation in time and space. To do this, matplotlib offers an [animation package](https://matplotlib.org/stable/api/animation_api.html). Here we show how to use the [**FuncAnimation**](https://matplotlib.org/3.3.2/api/_as_gen/matplotlib.animation.FuncAnimation.html#matplotlib.animation.FuncAnimation) class to animate parcels trajectory data.\n",
    "\n",
    "To correctly reveal the patterns in time we must remember that the `obs` dimension does not necessarily correspond to the `time` variable ([see the section of Trajectory data structure above](#Trajectory-data-structure)). In the animation of the particles, we usually want to draw the points at each consecutive moment in time, not necessarily at each moment since the start of the trajectory. To do this we must [select the correct data](#Conditional-selection) in each rendering.\n"
   ]
  },
  {
   "cell_type": "code",
   "execution_count": null,
   "metadata": {},
   "outputs": [],
   "source": [
    "from IPython.display import HTML\n",
    "from matplotlib.animation import FuncAnimation\n",
    "\n",
    "outputdt = timedelta(hours=2)\n",
    "\n",
    "# timerange in nanoseconds\n",
    "timerange = np.arange(\n",
    "    np.nanmin(data_xarray[\"time\"].values),\n",
    "    np.nanmax(data_xarray[\"time\"].values) + np.timedelta64(outputdt),\n",
    "    outputdt,\n",
    ")"
   ]
  },
  {
   "cell_type": "code",
   "execution_count": null,
   "metadata": {},
   "outputs": [],
   "source": [
    "%%capture\n",
    "fig = plt.figure(figsize=(5, 5), constrained_layout=True)\n",
    "ax = fig.add_subplot()\n",
    "\n",
    "ax.set_ylabel(\"Meridional distance [m]\")\n",
    "ax.set_xlabel(\"Zonal distance [m]\")\n",
    "ax.set_xlim(0, 90000)\n",
    "ax.set_ylim(0, 50000)\n",
    "plt.xticks(rotation=45)\n",
    "\n",
    "# Indices of the data where time = 0\n",
    "time_id = np.where(data_xarray[\"time\"] == timerange[0])\n",
    "\n",
    "scatter = ax.scatter(\n",
    "    data_xarray[\"lon\"].values[time_id], data_xarray[\"lat\"].values[time_id]\n",
    ")\n",
    "\n",
    "t = str(timerange[0].astype(\"timedelta64[h]\"))\n",
    "title = ax.set_title(\"Particles at t = \" + t)\n",
    "\n",
    "\n",
    "def animate(i):\n",
    "    t = str(timerange[i].astype(\"timedelta64[h]\"))\n",
    "    title.set_text(\"Particles at t = \" + t)\n",
    "\n",
    "    time_id = np.where(data_xarray[\"time\"] == timerange[i])\n",
    "    scatter.set_offsets(\n",
    "        np.c_[data_xarray[\"lon\"].values[time_id], data_xarray[\"lat\"].values[time_id]]\n",
    "    )\n",
    "\n",
    "\n",
    "anim = FuncAnimation(fig, animate, frames=len(timerange), interval=100)"
   ]
  },
  {
   "cell_type": "code",
   "execution_count": null,
   "metadata": {},
   "outputs": [],
   "source": [
    "HTML(anim.to_jshtml())"
   ]
  }
 ],
 "metadata": {
  "celltoolbar": "Metagegevens bewerken",
  "kernelspec": {
   "display_name": "parcels",
   "language": "python",
   "name": "python3"
  },
  "language_info": {
   "codemirror_mode": {
    "name": "ipython",
    "version": 3
   },
   "file_extension": ".py",
   "mimetype": "text/x-python",
   "name": "python",
   "nbconvert_exporter": "python",
   "pygments_lexer": "ipython3",
   "version": "3.12.3"
  }
 },
 "nbformat": 4,
 "nbformat_minor": 4
}
