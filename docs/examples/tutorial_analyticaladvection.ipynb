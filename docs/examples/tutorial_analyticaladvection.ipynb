{
 "cells": [
  {
   "attachments": {},
   "cell_type": "markdown",
   "metadata": {},
   "source": [
    "# Analytical advection\n"
   ]
  },
  {
   "attachments": {},
   "cell_type": "markdown",
   "metadata": {},
   "source": [
    "While [Lagrangian Ocean Analysis](https://www.sciencedirect.com/science/article/pii/S1463500317301853) has been around since at least the 1980s, the [Blanke and Raynaud (1997)](https://journals.ametsoc.org/doi/full/10.1175/1520-0485%281997%29027%3C1038%3AKOTPEU%3E2.0.CO%3B2) paper has really spurred the use of Lagrangian particles for large-scale simulations. In their 1997 paper, Blanke and Raynaud introduce the so-called _Analytical Advection_ scheme for pathway integration. This scheme has been the base for the [Ariane](https://ariane-code.cnrs.fr/whatsariane.html) and [TRACMASS](http://www.tracmass.org/) tools. We have also implemented it in Parcels, particularly to facilitate comparison with for example the Runge-Kutta integration scheme.\n",
    "\n",
    "In this tutorial, we will briefly explain what the scheme is and how it can be used in Parcels. For more information, see for example [Döös et al (2017)](https://www.geosci-model-dev.net/10/1733/2017/).\n"
   ]
  },
  {
   "attachments": {},
   "cell_type": "markdown",
   "metadata": {},
   "source": [
    "Note that the Analytical scheme works with a few limitations:\n",
    "\n",
    "1. The velocity field should be defined on a C-grid (see also the [Parcels NEMO tutorial](https://docs.oceanparcels.org/en/latest/examples/tutorial_nemo_3D.html)).\n",
    "\n",
    "And specifically for the implementation in Parcels \n",
    "\n",
    "2. The `AdvectionAnalytical` kernel only works for `Scipy Particles`. \n",
    "3. Since Analytical Advection does not use timestepping, the `dt` parameter in `pset.execute()` should be set to `np.inf`. For backward-in-time simulations, it should be set to `-np.inf`. \n",
    "4. For time-varying fields, only the 'intermediate timesteps' scheme ([section 2.3 of Döös et al 2017](https://www.geosci-model-dev.net/10/1733/2017/gmd-10-1733-2017.pdf)) is implemented. While there is also a way to also analytically solve the time-evolving fields ([section 2.4 of Döös et al 2017](https://www.geosci-model-dev.net/10/1733/2017/gmd-10-1733-2017.pdf)), this is not yet implemented in Parcels.\n",
    "\n",
    "We welcome contributions to the further development of this algorithm and in particular the analytical time-varying case. See [here](https://github.com/OceanParcels/parcels/blob/main/parcels/application_kernels/advection.py) for the code of the `AdvectionAnalytical` kernel.\n"
   ]
  },
  {
   "attachments": {},
   "cell_type": "markdown",
   "metadata": {},
   "source": [
    "Below, we will show how this `AdvectionAnalytical` kernel performs on one idealised time-constant flow and two idealised time-varying flows: a radial rotation, the time-varying double-gyre as implemented in e.g. [Froyland and Padberg (2009)](https://www.sciencedirect.com/science/article/abs/pii/S0167278909000803) and the Bickley Jet as implemented in e.g. [Hadjighasem et al (2017)](https://aip.scitation.org/doi/10.1063/1.4982720).\n",
    "\n",
    "First import the relevant modules.\n"
   ]
  },
  {
   "cell_type": "code",
   "execution_count": null,
   "metadata": {},
   "outputs": [],
   "source": [
    "from datetime import timedelta\n",
    "\n",
    "import matplotlib.pyplot as plt\n",
    "import numpy as np\n",
    "import xarray as xr\n",
    "from IPython.display import HTML\n",
    "from matplotlib.animation import FuncAnimation\n",
    "\n",
    "import parcels"
   ]
  },
  {
   "attachments": {},
   "cell_type": "markdown",
   "metadata": {},
   "source": [
    "## Radial rotation example\n",
    "\n",
    "As in [Figure 4a of Lange and Van Sebille (2017)](https://doi.org/10.5194/gmd-10-4175-2017), we define a circular flow with period 24 hours, on a C-grid\n"
   ]
  },
  {
   "cell_type": "code",
   "execution_count": null,
   "metadata": {},
   "outputs": [],
   "source": [
    "def radialrotation_fieldset(xdim=201, ydim=201):\n",
    "    # Coordinates of the test fieldset (on C-grid in m)\n",
    "    a = b = 20000  # domain size\n",
    "    lon = np.linspace(-a / 2, a / 2, xdim, dtype=np.float32)\n",
    "    lat = np.linspace(-b / 2, b / 2, ydim, dtype=np.float32)\n",
    "    dx, dy = lon[2] - lon[1], lat[2] - lat[1]\n",
    "\n",
    "    # Define arrays R (radius), U (zonal velocity) and V (meridional velocity)\n",
    "    U = np.zeros((lat.size, lon.size), dtype=np.float32)\n",
    "    V = np.zeros((lat.size, lon.size), dtype=np.float32)\n",
    "    R = np.zeros((lat.size, lon.size), dtype=np.float32)\n",
    "\n",
    "    def calc_r_phi(ln, lt):\n",
    "        return np.sqrt(ln**2 + lt**2), np.arctan2(ln, lt)\n",
    "\n",
    "    omega = 2 * np.pi / timedelta(days=1).total_seconds()\n",
    "    for i in range(lon.size):\n",
    "        for j in range(lat.size):\n",
    "            r, phi = calc_r_phi(lon[i], lat[j])\n",
    "            R[j, i] = r\n",
    "            r, phi = calc_r_phi(lon[i] - dx / 2, lat[j])\n",
    "            V[j, i] = -omega * r * np.sin(phi)\n",
    "            r, phi = calc_r_phi(lon[i], lat[j] - dy / 2)\n",
    "            U[j, i] = omega * r * np.cos(phi)\n",
    "\n",
    "    data = {\"U\": U, \"V\": V, \"R\": R}\n",
    "    dimensions = {\"lon\": lon, \"lat\": lat}\n",
    "    fieldset = parcels.FieldSet.from_data(data, dimensions, mesh=\"flat\")\n",
    "    fieldset.U.interp_method = \"cgrid_velocity\"\n",
    "    fieldset.V.interp_method = \"cgrid_velocity\"\n",
    "    return fieldset\n",
    "\n",
    "\n",
    "fieldsetRR = radialrotation_fieldset()"
   ]
  },
  {
   "attachments": {},
   "cell_type": "markdown",
   "metadata": {},
   "source": [
    "Now simulate a set of particles on this fieldset, using the `AdvectionAnalytical` kernel. Keep track of how the radius of the Particle trajectory changes during the run.\n"
   ]
  },
  {
   "cell_type": "code",
   "execution_count": null,
   "metadata": {},
   "outputs": [],
   "source": [
    "def UpdateR(particle, fieldset, time):\n",
    "    if time == 0:\n",
    "        particle.radius_start = fieldset.R[\n",
    "            time, particle.depth, particle.lat, particle.lon\n",
    "        ]\n",
    "    particle.radius = fieldset.R[time, particle.depth, particle.lat, particle.lon]\n",
    "\n",
    "\n",
    "MyParticle = parcels.Particle.add_variables(\n",
    "    [\n",
    "        parcels.Variable(\"radius\", dtype=np.float32, initial=0.0),\n",
    "        parcels.Variable(\"radius_start\", dtype=np.float32, initial=0.0),\n",
    "    ]\n",
    ")\n",
    "\n",
    "\n",
    "pset = parcels.ParticleSet(fieldsetRR, pclass=MyParticle, lon=0, lat=4e3, time=0)\n",
    "\n",
    "output = pset.ParticleFile(name=\"radialAnalytical.zarr\", outputdt=timedelta(hours=1))\n",
    "\n",
    "pset.execute(\n",
    "    pset.Kernel(UpdateR) + parcels.AdvectionAnalytical,\n",
    "    runtime=timedelta(hours=25),\n",
    "    dt=timedelta(hours=1),  # needs to be the same as outputdt for Analytical Advection\n",
    "    output_file=output,\n",
    ")"
   ]
  },
  {
   "attachments": {},
   "cell_type": "markdown",
   "metadata": {},
   "source": [
    "Now plot the trajectory and calculate how much the radius has changed during the run.\n"
   ]
  },
  {
   "cell_type": "code",
   "execution_count": null,
   "metadata": {},
   "outputs": [],
   "source": [
    "ds = xr.open_zarr(\"radialAnalytical.zarr\")\n",
    "plt.plot(ds.lon.T, ds.lat.T, \".-\")\n",
    "\n",
    "print(f\"Particle radius at start of run {pset.radius_start[0]}\")\n",
    "print(f\"Particle radius at end of run {pset.radius[0]}\")\n",
    "print(f\"Change in Particle radius {pset.radius[0] - pset.radius_start[0]}\")"
   ]
  },
  {
   "attachments": {},
   "cell_type": "markdown",
   "metadata": {},
   "source": [
    "## Double-gyre example\n",
    "\n",
    "Define a double gyre fieldset that varies in time\n"
   ]
  },
  {
   "cell_type": "code",
   "execution_count": null,
   "metadata": {},
   "outputs": [],
   "source": [
    "def doublegyre_fieldset(times, xdim=51, ydim=51):\n",
    "    \"\"\"Implemented following Froyland and Padberg (2009)\n",
    "    10.1016/j.physd.2009.03.002\"\"\"\n",
    "    A = 0.25\n",
    "    delta = 0.25\n",
    "    omega = 2 * np.pi\n",
    "\n",
    "    a, b = 2, 1  # domain size\n",
    "    lon = np.linspace(0, a, xdim, dtype=np.float32)\n",
    "    lat = np.linspace(0, b, ydim, dtype=np.float32)\n",
    "    dx, dy = lon[2] - lon[1], lat[2] - lat[1]\n",
    "\n",
    "    U = np.zeros((times.size, lat.size, lon.size), dtype=np.float32)\n",
    "    V = np.zeros((times.size, lat.size, lon.size), dtype=np.float32)\n",
    "\n",
    "    for i in range(lon.size):\n",
    "        for j in range(lat.size):\n",
    "            x1 = lon[i] - dx / 2\n",
    "            x2 = lat[j] - dy / 2\n",
    "            for t in range(len(times)):\n",
    "                time = times[t]\n",
    "                f = (\n",
    "                    delta * np.sin(omega * time) * x1**2\n",
    "                    + (1 - 2 * delta * np.sin(omega * time)) * x1\n",
    "                )\n",
    "                U[t, j, i] = -np.pi * A * np.sin(np.pi * f) * np.cos(np.pi * x2)\n",
    "                V[t, j, i] = (\n",
    "                    np.pi\n",
    "                    * A\n",
    "                    * np.cos(np.pi * f)\n",
    "                    * np.sin(np.pi * x2)\n",
    "                    * (\n",
    "                        2 * delta * np.sin(omega * time) * x1\n",
    "                        + 1\n",
    "                        - 2 * delta * np.sin(omega * time)\n",
    "                    )\n",
    "                )\n",
    "\n",
    "    data = {\"U\": U, \"V\": V}\n",
    "    dimensions = {\"lon\": lon, \"lat\": lat, \"time\": times}\n",
    "    allow_time_extrapolation = True if len(times) == 1 else False\n",
    "    fieldset = parcels.FieldSet.from_data(\n",
    "        data, dimensions, mesh=\"flat\", allow_time_extrapolation=allow_time_extrapolation\n",
    "    )\n",
    "    fieldset.U.interp_method = \"cgrid_velocity\"\n",
    "    fieldset.V.interp_method = \"cgrid_velocity\"\n",
    "    return fieldset\n",
    "\n",
    "\n",
    "fieldsetDG = doublegyre_fieldset(times=np.arange(0, 3.1, 0.1))"
   ]
  },
  {
   "attachments": {},
   "cell_type": "markdown",
   "metadata": {},
   "source": [
    "Now simulate a set of particles on this fieldset, using the `AdvectionAnalytical` kernel\n"
   ]
  },
  {
   "cell_type": "code",
   "execution_count": null,
   "metadata": {},
   "outputs": [],
   "source": [
    "X, Y = np.meshgrid(np.arange(0.15, 1.85, 0.1), np.arange(0.15, 0.85, 0.1))\n",
    "\n",
    "psetAA = parcels.ParticleSet(fieldsetDG, pclass=parcels.Particle, lon=X, lat=Y)\n",
    "\n",
    "output = psetAA.ParticleFile(name=\"doublegyreAA.zarr\", outputdt=0.1)\n",
    "\n",
    "psetAA.execute(\n",
    "    parcels.AdvectionAnalytical,\n",
    "    dt=0.1,  # needs to be the same as outputdt for Analytical Advection\n",
    "    runtime=3,\n",
    "    output_file=output,\n",
    ")"
   ]
  },
  {
   "attachments": {},
   "cell_type": "markdown",
   "metadata": {},
   "source": [
    "And then show the particle trajectories in an animation\n"
   ]
  },
  {
   "cell_type": "code",
   "execution_count": null,
   "metadata": {},
   "outputs": [],
   "source": [
    "%%capture\n",
    "\n",
    "ds = xr.open_zarr(\"doublegyreAA.zarr\")\n",
    "\n",
    "fig = plt.figure(figsize=(7, 5), constrained_layout=True)\n",
    "ax = fig.add_subplot()\n",
    "\n",
    "ax.set_ylabel(\"Meridional distance [m]\")\n",
    "ax.set_xlabel(\"Zonal distance [m]\")\n",
    "ax.set_xlim(0, 2)\n",
    "ax.set_ylim(0, 1)\n",
    "\n",
    "timerange = np.unique(ds[\"time\"].values[np.isfinite(ds[\"time\"])])\n",
    "\n",
    "# Indices of the data where time = 0\n",
    "time_id = np.where(ds[\"time\"] == timerange[0])\n",
    "\n",
    "sc = ax.scatter(ds[\"lon\"].values[time_id], ds[\"lat\"].values[time_id], c=\"b\")\n",
    "\n",
    "t = str(timerange[0].astype(\"timedelta64[ms]\"))\n",
    "title = ax.set_title(f\"Particles at t = {t}\")\n",
    "\n",
    "\n",
    "def animate(i):\n",
    "    t = str(timerange[i].astype(\"timedelta64[ms]\"))\n",
    "    title.set_text(f\"Particles at t = {t}\")\n",
    "\n",
    "    time_id = np.where(ds[\"time\"] == timerange[i])\n",
    "    sc.set_offsets(np.c_[ds[\"lon\"].values[time_id], ds[\"lat\"].values[time_id]])\n",
    "\n",
    "\n",
    "anim = FuncAnimation(fig, animate, frames=len(timerange), interval=100)"
   ]
  },
  {
   "cell_type": "code",
   "execution_count": null,
   "metadata": {},
   "outputs": [],
   "source": [
    "HTML(anim.to_jshtml())"
   ]
  },
  {
   "attachments": {},
   "cell_type": "markdown",
   "metadata": {},
   "source": [
    "Now, we can also compute these trajectories with the `AdvectionRK4` kernel\n"
   ]
  },
  {
   "cell_type": "code",
   "execution_count": null,
   "metadata": {},
   "outputs": [],
   "source": [
    "psetRK4 = parcels.ParticleSet(fieldsetDG, pclass=parcels.Particle, lon=X, lat=Y)\n",
    "psetRK4.execute(parcels.AdvectionRK4, dt=0.01, runtime=3)"
   ]
  },
  {
   "attachments": {},
   "cell_type": "markdown",
   "metadata": {},
   "source": [
    "And we can then compare the final locations of the particles from the `AdvectionRK4` and `AdvectionAnalytical` simulations\n"
   ]
  },
  {
   "cell_type": "code",
   "execution_count": null,
   "metadata": {},
   "outputs": [],
   "source": [
    "plt.plot(psetRK4.lon, psetRK4.lat, \"r.\", label=\"RK4\")\n",
    "plt.plot(psetAA.lon, psetAA.lat, \"b.\", label=\"Analytical\")\n",
    "plt.legend()\n",
    "plt.show()"
   ]
  },
  {
   "attachments": {},
   "cell_type": "markdown",
   "metadata": {},
   "source": [
    "The final locations are similar, but not exactly the same. Because everything else is the same, the difference has to be due to the different kernels. Which one is more correct, however, can't be determined from this analysis alone.\n"
   ]
  },
  {
   "attachments": {},
   "cell_type": "markdown",
   "metadata": {},
   "source": [
    "## Bickley Jet example\n",
    "\n",
    "Let's as a second example, do a similar analysis for a Bickley Jet, as detailed in e.g. [Hadjighasem et al (2017)](https://aip.scitation.org/doi/10.1063/1.4982720).\n"
   ]
  },
  {
   "cell_type": "code",
   "execution_count": null,
   "metadata": {},
   "outputs": [],
   "source": [
    "def bickleyjet_fieldset(times, xdim=51, ydim=51):\n",
    "    \"\"\"Bickley Jet Field as implemented in Hadjighasem et al 2017,\n",
    "    10.1063/1.4982720\"\"\"\n",
    "    U0 = 0.06266\n",
    "    L = 1770.0\n",
    "    r0 = 6371.0\n",
    "    k1 = 2 * 1 / r0\n",
    "    k2 = 2 * 2 / r0\n",
    "    k3 = 2 * 3 / r0\n",
    "    eps1 = 0.075\n",
    "    eps2 = 0.4\n",
    "    eps3 = 0.3\n",
    "    c3 = 0.461 * U0\n",
    "    c2 = 0.205 * U0\n",
    "    c1 = c3 + ((np.sqrt(5) - 1) / 2.0) * (k2 / k1) * (c2 - c3)\n",
    "\n",
    "    a, b = np.pi * r0, 7000.0  # domain size\n",
    "    lon = np.linspace(0, a, xdim, dtype=np.float32)\n",
    "    lat = np.linspace(-b / 2, b / 2, ydim, dtype=np.float32)\n",
    "    dx, dy = lon[2] - lon[1], lat[2] - lat[1]\n",
    "\n",
    "    U = np.zeros((times.size, lat.size, lon.size), dtype=np.float32)\n",
    "    V = np.zeros((times.size, lat.size, lon.size), dtype=np.float32)\n",
    "\n",
    "    for i in range(lon.size):\n",
    "        for j in range(lat.size):\n",
    "            x1 = lon[i] - dx / 2\n",
    "            x2 = lat[j] - dy / 2\n",
    "            for t in range(len(times)):\n",
    "                time = times[t]\n",
    "\n",
    "                f1 = eps1 * np.exp(-1j * k1 * c1 * time)\n",
    "                f2 = eps2 * np.exp(-1j * k2 * c2 * time)\n",
    "                f3 = eps3 * np.exp(-1j * k3 * c3 * time)\n",
    "                F1 = f1 * np.exp(1j * k1 * x1)\n",
    "                F2 = f2 * np.exp(1j * k2 * x1)\n",
    "                F3 = f3 * np.exp(1j * k3 * x1)\n",
    "                G = np.real(np.sum([F1, F2, F3]))\n",
    "                G_x = np.real(np.sum([1j * k1 * F1, 1j * k2 * F2, 1j * k3 * F3]))\n",
    "                U[t, j, i] = (\n",
    "                    U0 / (np.cosh(x2 / L) ** 2)\n",
    "                    + 2 * U0 * np.sinh(x2 / L) / (np.cosh(x2 / L) ** 3) * G\n",
    "                )\n",
    "                V[t, j, i] = U0 * L * (1.0 / np.cosh(x2 / L)) ** 2 * G_x\n",
    "\n",
    "    data = {\"U\": U, \"V\": V}\n",
    "    dimensions = {\"lon\": lon, \"lat\": lat, \"time\": times}\n",
    "    allow_time_extrapolation = True if len(times) == 1 else False\n",
    "    fieldset = parcels.FieldSet.from_data(\n",
    "        data, dimensions, mesh=\"flat\", allow_time_extrapolation=allow_time_extrapolation\n",
    "    )\n",
    "    fieldset.U.interp_method = \"cgrid_velocity\"\n",
    "    fieldset.V.interp_method = \"cgrid_velocity\"\n",
    "    return fieldset\n",
    "\n",
    "\n",
    "fieldsetBJ = bickleyjet_fieldset(times=np.arange(0, 1.1, 0.1) * 86400)"
   ]
  },
  {
   "attachments": {},
   "cell_type": "markdown",
   "metadata": {},
   "source": [
    "Add a zonal halo for periodic boundary conditions in the zonal direction\n"
   ]
  },
  {
   "cell_type": "code",
   "execution_count": null,
   "metadata": {},
   "outputs": [],
   "source": [
    "fieldsetBJ.add_constant(\"halo_west\", fieldsetBJ.U.grid.lon[0])\n",
    "fieldsetBJ.add_constant(\"halo_east\", fieldsetBJ.U.grid.lon[-1])\n",
    "fieldsetBJ.add_periodic_halo(zonal=True)\n",
    "\n",
    "\n",
    "def ZonalBC(particle, fieldset, time):\n",
    "    if particle.lon < fieldset.halo_west:\n",
    "        particle_dlon += fieldset.halo_east - fieldset.halo_west\n",
    "    elif particle.lon > fieldset.halo_east:\n",
    "        particle_dlon -= fieldset.halo_east - fieldset.halo_west"
   ]
  },
  {
   "attachments": {},
   "cell_type": "markdown",
   "metadata": {},
   "source": [
    "And simulate a set of particles on this fieldset, using the `AdvectionAnalytical` kernel\n"
   ]
  },
  {
   "cell_type": "code",
   "execution_count": null,
   "metadata": {},
   "outputs": [],
   "source": [
    "X, Y = np.meshgrid(np.arange(0, 19900, 100), np.arange(-100, 100, 100))\n",
    "\n",
    "psetAA = parcels.ParticleSet(fieldsetBJ, pclass=parcels.Particle, lon=X, lat=Y, time=0)\n",
    "\n",
    "output = psetAA.ParticleFile(name=\"bickleyjetAA.zarr\", outputdt=timedelta(hours=1))\n",
    "\n",
    "psetAA.execute(\n",
    "    parcels.AdvectionAnalytical + psetAA.Kernel(ZonalBC),\n",
    "    dt=timedelta(hours=1),  # needs to be the same as outputdt for Analytical Advection\n",
    "    runtime=timedelta(days=1),\n",
    "    output_file=output,\n",
    ")"
   ]
  },
  {
   "attachments": {},
   "cell_type": "markdown",
   "metadata": {},
   "source": [
    "And then show the particle trajectories in an animation\n"
   ]
  },
  {
   "cell_type": "code",
   "execution_count": null,
   "metadata": {},
   "outputs": [],
   "source": [
    "%%capture\n",
    "\n",
    "ds = xr.open_zarr(\"bickleyjetAA.zarr\")\n",
    "\n",
    "fig = plt.figure(figsize=(7, 5), constrained_layout=True)\n",
    "ax = fig.add_subplot()\n",
    "\n",
    "ax.set_ylabel(\"Meridional distance [m]\")\n",
    "ax.set_xlabel(\"Zonal distance [m]\")\n",
    "ax.set_xlim(0, 2e4)\n",
    "ax.set_ylim(-2500, 2500)\n",
    "\n",
    "timerange = np.unique(ds[\"time\"].values[np.isfinite(ds[\"time\"])])\n",
    "\n",
    "# Indices of the data where time = 0\n",
    "time_id = np.where(ds[\"time\"] == timerange[0])\n",
    "\n",
    "sc = ax.scatter(ds[\"lon\"].values[time_id], ds[\"lat\"].values[time_id], c=\"b\")\n",
    "\n",
    "t = str(timerange[0].astype(\"timedelta64[h]\"))\n",
    "title = ax.set_title(f\"Particles at t = {t}\")\n",
    "\n",
    "\n",
    "def animate(i):\n",
    "    t = str(timerange[i].astype(\"timedelta64[h]\"))\n",
    "    title.set_text(f\"Particles at t = {t}\")\n",
    "\n",
    "    time_id = np.where(ds[\"time\"] == timerange[i])\n",
    "    sc.set_offsets(np.c_[ds[\"lon\"].values[time_id], ds[\"lat\"].values[time_id]])\n",
    "\n",
    "\n",
    "anim = FuncAnimation(fig, animate, frames=len(timerange), interval=100)"
   ]
  },
  {
   "cell_type": "code",
   "execution_count": null,
   "metadata": {},
   "outputs": [],
   "source": [
    "HTML(anim.to_jshtml())"
   ]
  },
  {
   "attachments": {},
   "cell_type": "markdown",
   "metadata": {},
   "source": [
    "Like with the double gyre above, we can also compute these trajectories with the `AdvectionRK4` kernel\n"
   ]
  },
  {
   "cell_type": "code",
   "execution_count": null,
   "metadata": {},
   "outputs": [],
   "source": [
    "psetRK4 = parcels.ParticleSet(fieldsetBJ, pclass=parcels.Particle, lon=X, lat=Y)\n",
    "\n",
    "psetRK4.execute(\n",
    "    [parcels.AdvectionRK4, ZonalBC], dt=timedelta(minutes=5), runtime=timedelta(days=1)\n",
    ")"
   ]
  },
  {
   "attachments": {},
   "cell_type": "markdown",
   "metadata": {},
   "source": [
    "And finally, we can again compare the end locations from the `AdvectionRK4` and `AdvectionAnalytical` simulations\n"
   ]
  },
  {
   "cell_type": "code",
   "execution_count": null,
   "metadata": {},
   "outputs": [],
   "source": [
    "plt.plot(psetRK4.lon, psetRK4.lat, \"r.\", label=\"RK4\")\n",
    "plt.plot(psetAA.lon, psetAA.lat, \"b.\", label=\"Analytical\")\n",
    "plt.legend()\n",
    "plt.show()"
   ]
  }
 ],
 "metadata": {
  "kernelspec": {
   "display_name": "parcels",
   "language": "python",
   "name": "python3"
  },
  "language_info": {
   "codemirror_mode": {
    "name": "ipython",
    "version": 3
   },
   "file_extension": ".py",
   "mimetype": "text/x-python",
   "name": "python",
   "nbconvert_exporter": "python",
   "pygments_lexer": "ipython3",
   "version": "3.12.3"
  }
 },
 "nbformat": 4,
 "nbformat_minor": 4
}
