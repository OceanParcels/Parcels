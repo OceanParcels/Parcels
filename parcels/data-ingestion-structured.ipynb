{
 "cells": [
  {
   "cell_type": "markdown",
   "metadata": {},
   "source": [
    "# Using Xarray for ingestion of example datasets\n",
    "\n",
    "In this notebook we look at all the example datasets provided in Parcels - seeing how we currently ingest them (ultimately using `Fieldset.from_netcdf()`), and how we can ingest them differently by first creating xarray objects.\n",
    "\n",
    "\n",
    "This is important to explore as it allows us to see the limitations of Xarray for representing these datasets, allowing us to explore the design of v4 how we can then pass those xarray datasets to Parcels."
   ]
  },
  {
   "cell_type": "markdown",
   "metadata": {},
   "source": [
    "Note:\n",
    "\n",
    "> For Arakawa B-and C-grids, Parcels requires the locations of the _corner_ points (f-points) of the grid cells for the `dimensions` dictionary of velocity `Fields`"
   ]
  },
  {
   "cell_type": "code",
   "execution_count": 1,
   "metadata": {},
   "outputs": [],
   "source": [
    "from glob import glob\n",
    "from pathlib import Path\n",
    "\n",
    "import xarray as xr\n",
    "\n",
    "import parcels"
   ]
  },
  {
   "cell_type": "markdown",
   "metadata": {},
   "source": [
    "# Accounting\n"
   ]
  },
  {
   "cell_type": "code",
   "execution_count": 2,
   "metadata": {},
   "outputs": [
    {
     "data": {
      "text/plain": [
       "{'GlobCurrent_example_data'}"
      ]
     },
     "execution_count": 2,
     "metadata": {},
     "output_type": "execute_result"
    }
   ],
   "source": [
    "accounted = [  # Key: ✅ ingestion example exists in this notebook, 📔 -> used in notebook\n",
    "    # A grid\n",
    "    \"OFAM_example_data\",  # ✅📔\n",
    "    \"GlobCurrent_example_d  ata\",  # ✅📔\n",
    "    \"Peninsula_data\",  # ✅📔\n",
    "    \"MovingEddies_data\",  # ✅📔 # idealised A grid data\n",
    "    # C grid\n",
    "    \"NemoCurvilinear_data\",  # ✅📔\n",
    "    \"NemoNorthSeaORCA025-N006_data\",  # ✅📔\n",
    "    \"MITgcm_example_data\",  # ✅ in example\n",
    "    # uncategorized\n",
    "    \"DecayingMovingEddy_data\",  # not used in codebase\n",
    "    \"POPSouthernOcean_data\",  # not used in codebase\n",
    "    \"SWASH_data\",  # 📔 # timevarying depth dimension\n",
    "    \"WOA_data\",  # not used in codebase\n",
    "    \"CROCOidealized_data\",  # 📔 # croco notebook (also timevarying depth dimension)\n",
    "]\n",
    "\n",
    "set(parcels.list_example_datasets()) - set(accounted)"
   ]
  },
  {
   "cell_type": "code",
   "execution_count": 3,
   "metadata": {},
   "outputs": [],
   "source": [
    "DATA_HOME = Path(\"data\")"
   ]
  },
  {
   "cell_type": "code",
   "execution_count": 4,
   "metadata": {},
   "outputs": [],
   "source": [
    "for name in parcels.list_example_datasets():\n",
    "    parcels.download_example_dataset(name, data_home=DATA_HOME)"
   ]
  },
  {
   "cell_type": "markdown",
   "metadata": {},
   "source": [
    "# A grid datasets\n",
    "## OFAM_example_data"
   ]
  },
  {
   "cell_type": "code",
   "execution_count": 5,
   "metadata": {},
   "outputs": [
    {
     "data": {
      "text/plain": [
       "<Field>\n",
       "    name            : 'V'\n",
       "    grid            : RectilinearZGrid(lon=array([ 100.00,  100.10,  100.20, ...,  299.80,  299.90,  300.00], dtype=float32), lat=array([-30.00, -29.90, -29.80, ...,  29.80,  29.90,  30.00], dtype=float32), time=array([ 0.00,  86400.00,  172800.00,  259200.00]), time_origin=1993-01-01T12:00:00.000000000, mesh='spherical')\n",
       "    extrapolate time: False\n",
       "    time_periodic   : False\n",
       "    gridindexingtype: 'nemo'\n",
       "    to_write        : False"
      ]
     },
     "execution_count": 5,
     "metadata": {},
     "output_type": "execute_result"
    }
   ],
   "source": [
    "ofam_data = DATA_HOME / \"OFAM_example_data\"\n",
    "\n",
    "\n",
    "# Prior usage\n",
    "filenames = {\n",
    "    \"U\": f\"{ofam_data}/OFAM_simple_U.nc\",\n",
    "    \"V\": f\"{ofam_data}/OFAM_simple_V.nc\",\n",
    "}\n",
    "variables = {\"U\": \"u\", \"V\": \"v\"}\n",
    "dimensions = {\n",
    "    \"lat\": \"yu_ocean\",\n",
    "    \"lon\": \"xu_ocean\",\n",
    "    \"depth\": \"st_ocean\",\n",
    "    \"time\": \"Time\",\n",
    "}\n",
    "\n",
    "fieldset = parcels.FieldSet.from_netcdf(\n",
    "    filenames,\n",
    "    variables,\n",
    "    dimensions,\n",
    "    allow_time_extrapolation=True,\n",
    ")\n",
    "\n",
    "\n",
    "# xarray equivalent\n",
    "ds_U = xr.open_dataset(f\"{ofam_data}/OFAM_simple_U.nc\").rename(\n",
    "    {\n",
    "        \"yu_ocean\": \"lat\",\n",
    "        \"xu_ocean\": \"lon\",\n",
    "        \"st_ocean\": \"depth\",\n",
    "        \"Time\": \"time\",\n",
    "        \"u\": \"U\",\n",
    "    }\n",
    ")\n",
    "\n",
    "ds_V = xr.open_dataset(f\"{ofam_data}/OFAM_simple_V.nc\").rename(\n",
    "    {\n",
    "        \"yu_ocean\": \"lat\",\n",
    "        \"xu_ocean\": \"lon\",\n",
    "        \"st_ocean\": \"depth\",\n",
    "        \"Time\": \"time\",\n",
    "        \"v\": \"V\",\n",
    "    }\n",
    ")\n",
    "\n",
    "dimensions_identity = {\"lon\": \"lon\", \"lat\": \"lat\", \"depth\": \"depth\", \"time\": \"time\"}\n",
    "\n",
    "parcels.Field.from_xarray(ds_U[\"U\"], name=\"U\", dimensions=dimensions_identity)\n",
    "parcels.Field.from_xarray(ds_V[\"V\"], name=\"V\", dimensions=dimensions_identity)"
   ]
  },
  {
   "cell_type": "markdown",
   "metadata": {},
   "source": [
    "## GlobCurrent_example_data"
   ]
  },
  {
   "cell_type": "code",
   "execution_count": 6,
   "metadata": {},
   "outputs": [
    {
     "data": {
      "text/plain": [
       "<Field>\n",
       "    name            : 'V'\n",
       "    grid            : RectilinearZGrid(lon=array([ 14.88,  15.12,  15.38, ...,  34.38,  34.62,  34.88], dtype=float32), lat=array([-40.12, -39.88, -39.62, ..., -30.62, -30.38, -30.12], dtype=float32), time=array([ 0.00,  86400.00,  172800.00, ...,  31363200.00,  31449600.00,  31536000.00]), time_origin=2002-01-01T00:00:00.000000000, mesh='spherical')\n",
       "    extrapolate time: False\n",
       "    time_periodic   : False\n",
       "    gridindexingtype: 'nemo'\n",
       "    to_write        : False"
      ]
     },
     "execution_count": 6,
     "metadata": {},
     "output_type": "execute_result"
    }
   ],
   "source": [
    "globcurrent_data = DATA_HOME / \"GlobCurrent_example_data\"\n",
    "\n",
    "filenames = {\n",
    "    \"U\": f\"{globcurrent_data}/20*.nc\",\n",
    "    \"V\": f\"{globcurrent_data}/20*.nc\",\n",
    "}\n",
    "variables = {\n",
    "    \"U\": \"eastward_eulerian_current_velocity\",\n",
    "    \"V\": \"northward_eulerian_current_velocity\",\n",
    "}\n",
    "dimensions = {\"lat\": \"lat\", \"lon\": \"lon\", \"time\": \"time\"}\n",
    "fieldset = parcels.FieldSet.from_netcdf(filenames, variables, dimensions)\n",
    "\n",
    "\n",
    "# xarray equivalent\n",
    "ds = xr.open_mfdataset(f\"{globcurrent_data}/20*.nc\").rename(\n",
    "    {\n",
    "        \"eastward_eulerian_current_velocity\": \"U\",\n",
    "        \"northward_eulerian_current_velocity\": \"V\",\n",
    "    }\n",
    ")\n",
    "\n",
    "dimensions_identity = {\"lat\": \"lat\", \"lon\": \"lon\", \"time\": \"time\"}\n",
    "\n",
    "parcels.Field.from_xarray(ds[\"U\"], name=\"U\", dimensions=dimensions_identity)\n",
    "parcels.Field.from_xarray(ds[\"V\"], name=\"V\", dimensions=dimensions_identity)"
   ]
  },
  {
   "cell_type": "markdown",
   "metadata": {},
   "source": [
    "## Peninsula_data"
   ]
  },
  {
   "cell_type": "code",
   "execution_count": 7,
   "metadata": {},
   "outputs": [
    {
     "data": {
      "text/plain": [
       "<Field>\n",
       "    name            : 'P'\n",
       "    grid            : CurvilinearZGrid(lon=array([[ 1000.00,  1989.90,  2979.80, ...,  97020.20,  98010.10,  99000.00],\n",
       "       [ 1000.00,  1989.90,  2979.80, ...,  97020.20,  98010.10,  99000.00],\n",
       "       [ 1000.00,  1989.90,  2979.80, ...,  97020.20,  98010.10,  99000.00],\n",
       "       ...,\n",
       "       [ 1000.00,  1989.90,  2979.80, ...,  97020.20,  98010.10,  99000.00],\n",
       "       [ 1000.00,  1989.90,  2979.80, ...,  97020.20,  98010.10,  99000.00],\n",
       "       [ 1000.00,  1989.90,  2979.80, ...,  97020.20,  98010.10,  99000.00]], dtype=float32), lat=array([[ 1000.00,  1000.00,  1000.00, ...,  1000.00,  1000.00,  1000.00],\n",
       "       [ 1979.59,  1979.59,  1979.59, ...,  1979.59,  1979.59,  1979.59],\n",
       "       [ 2959.18,  2959.18,  2959.18, ...,  2959.18,  2959.18,  2959.18],\n",
       "       ...,\n",
       "       [ 47040.82,  47040.82,  47040.82, ...,  47040.82,  47040.82,  47040.82],\n",
       "       [ 48020.41,  48020.41,  48020.41, ...,  48020.41,  48020.41,  48020.41],\n",
       "       [ 49000.00,  49000.00,  49000.00, ...,  49000.00,  49000.00,  49000.00]], dtype=float32), time=array([ 0.00]), time_origin=0.0, mesh='spherical')\n",
       "    extrapolate time: True\n",
       "    time_periodic   : False\n",
       "    gridindexingtype: 'nemo'\n",
       "    to_write        : False"
      ]
     },
     "execution_count": 7,
     "metadata": {},
     "output_type": "execute_result"
    }
   ],
   "source": [
    "peninsula_data = DATA_HOME / \"Peninsula_data\"\n",
    "\n",
    "example_dataset_folder = parcels.download_example_dataset(\"Peninsula_data\")\n",
    "filenames = {\n",
    "    \"U\": peninsula_data / \"peninsulaU.nc\",\n",
    "    \"V\": peninsula_data / \"peninsulaV.nc\",\n",
    "    \"P\": peninsula_data / \"peninsulaP.nc\",\n",
    "}\n",
    "variables = {\"U\": \"vozocrtx\", \"V\": \"vomecrty\", \"P\": \"P\"}\n",
    "dimensions = {\"lon\": \"nav_lon\", \"lat\": \"nav_lat\", \"time\": \"time_counter\"}\n",
    "fieldset = parcels.FieldSet.from_netcdf(filenames, variables, dimensions, allow_time_extrapolation=True)\n",
    "\n",
    "\n",
    "# xarray equivalent\n",
    "ds = xr.open_mfdataset(\n",
    "    [peninsula_data / \"peninsulaU.nc\", peninsula_data / \"peninsulaV.nc\", peninsula_data / \"peninsulaP.nc\"]\n",
    ").rename(\n",
    "    {\n",
    "        \"nav_lon\": \"lon\",\n",
    "        \"nav_lat\": \"lat\",\n",
    "        \"time_counter\": \"time\",\n",
    "        \"vozocrtx\": \"U\",\n",
    "        \"vomecrty\": \"V\",\n",
    "    }\n",
    ")\n",
    "\n",
    "dimensions_identity = {\"lat\": \"lat\", \"lon\": \"lon\", \"time\": \"time\"}\n",
    "\n",
    "parcels.Field.from_xarray(ds[\"U\"], name=\"U\", dimensions=dimensions_identity)\n",
    "parcels.Field.from_xarray(ds[\"V\"], name=\"V\", dimensions=dimensions_identity)\n",
    "parcels.Field.from_xarray(ds[\"P\"], name=\"P\", dimensions=dimensions_identity)"
   ]
  },
  {
   "cell_type": "markdown",
   "metadata": {},
   "source": [
    "## MovingEddies_data"
   ]
  },
  {
   "cell_type": "code",
   "execution_count": 8,
   "metadata": {},
   "outputs": [
    {
     "data": {
      "text/plain": [
       "<Field>\n",
       "    name            : 'V'\n",
       "    grid            : CurvilinearZGrid(lon=array([[ 0.00,  2010.05,  4020.10, ...,  395979.91,  397989.94,  400000.00],\n",
       "       [ 0.00,  2010.05,  4020.10, ...,  395979.91,  397989.94,  400000.00],\n",
       "       [ 0.00,  2010.05,  4020.10, ...,  395979.91,  397989.94,  400000.00],\n",
       "       ...,\n",
       "       [ 0.00,  2010.05,  4020.10, ...,  395979.91,  397989.94,  400000.00],\n",
       "       [ 0.00,  2010.05,  4020.10, ...,  395979.91,  397989.94,  400000.00],\n",
       "       [ 0.00,  2010.05,  4020.10, ...,  395979.91,  397989.94,  400000.00]], dtype=float32), lat=array([[ 0.00,  0.00,  0.00, ...,  0.00,  0.00,  0.00],\n",
       "       [ 2005.73,  2005.73,  2005.73, ...,  2005.73,  2005.73,  2005.73],\n",
       "       [ 4011.46,  4011.46,  4011.46, ...,  4011.46,  4011.46,  4011.46],\n",
       "       ...,\n",
       "       [ 695988.56,  695988.56,  695988.56, ...,  695988.56,  695988.56,  695988.56],\n",
       "       [ 697994.25,  697994.25,  697994.25, ...,  697994.25,  697994.25,  697994.25],\n",
       "       [ 700000.00,  700000.00,  700000.00, ...,  700000.00,  700000.00,  700000.00]], dtype=float32), time=array([ 0.00,  86400.00,  172800.00, ...,  432000.00,  518400.00,  604800.00]), time_origin=0.0, mesh='spherical')\n",
       "    extrapolate time: False\n",
       "    time_periodic   : False\n",
       "    gridindexingtype: 'nemo'\n",
       "    to_write        : False"
      ]
     },
     "execution_count": 8,
     "metadata": {},
     "output_type": "execute_result"
    }
   ],
   "source": [
    "movingeddies_data = DATA_HOME / \"MovingEddies_data\"\n",
    "\n",
    "example_dataset_folder = parcels.download_example_dataset(\"MovingEddies_data\")\n",
    "\n",
    "filenames = {\n",
    "    \"U\": movingeddies_data / \"moving_eddiesU.nc\",\n",
    "    \"V\": movingeddies_data / \"moving_eddiesV.nc\",\n",
    "}\n",
    "variables = {\"U\": \"vozocrtx\", \"V\": \"vomecrty\"}\n",
    "dimensions = {\"lon\": \"nav_lon\", \"lat\": \"nav_lat\", \"time\": \"time_counter\"}\n",
    "fieldset = parcels.FieldSet.from_netcdf(filenames, variables, dimensions)\n",
    "\n",
    "# xarray equivalent\n",
    "ds = xr.open_mfdataset([movingeddies_data / \"moving_eddiesU.nc\", movingeddies_data / \"moving_eddiesV.nc\"]).rename(\n",
    "    {\n",
    "        \"nav_lon\": \"lon\",\n",
    "        \"nav_lat\": \"lat\",\n",
    "        \"time_counter\": \"time\",\n",
    "        \"vozocrtx\": \"U\",\n",
    "        \"vomecrty\": \"V\",\n",
    "    }\n",
    ")\n",
    "\n",
    "dimensions_identity = {\"lat\": \"lat\", \"lon\": \"lon\", \"time\": \"time\"}\n",
    "\n",
    "parcels.Field.from_xarray(ds[\"U\"], name=\"U\", dimensions=dimensions_identity)\n",
    "parcels.Field.from_xarray(ds[\"V\"], name=\"V\", dimensions=dimensions_identity)"
   ]
  },
  {
   "cell_type": "markdown",
   "metadata": {},
   "source": [
    "# C-grid\n",
    "## NemoCurvilinear_data\n"
   ]
  },
  {
   "cell_type": "code",
   "execution_count": 9,
   "metadata": {},
   "outputs": [
    {
     "data": {
      "text/plain": [
       "<Field>\n",
       "    name            : 'V'\n",
       "    grid            : CurvilinearZGrid(lon=array([[ 72.88,  73.12,  73.38, ...,  72.62,  72.88,  73.12],\n",
       "       [ 72.88,  73.12,  73.38, ...,  72.62,  72.88,  73.12],\n",
       "       [ 72.88,  73.12,  73.38, ...,  72.62,  72.88,  73.12],\n",
       "       ...,\n",
       "       [ 73.00,  73.00,  73.00, ...,  73.00,  73.00,  73.00],\n",
       "       [ 73.00,  73.00,  73.00, ...,  73.00,  73.00,  73.00],\n",
       "       [ 73.00,  73.00,  73.00, ...,  73.00,  73.00,  73.00]], dtype=float32), lat=array([[-76.98, -76.98, -76.98, ..., -76.98, -76.98, -76.98],\n",
       "       [-76.93, -76.93, -76.93, ..., -76.93, -76.93, -76.93],\n",
       "       [-76.87, -76.87, -76.87, ..., -76.87, -76.87, -76.87],\n",
       "       ...,\n",
       "       [ 50.00,  50.00,  50.01, ...,  50.01,  50.00,  50.00],\n",
       "       [ 50.00,  50.00,  50.01, ...,  50.01,  50.00,  50.00],\n",
       "       [ 49.99,  49.99,  50.00, ...,  50.00,  49.99,  49.99]], dtype=float32), time=array([ 0.00]), time_origin=3.0, mesh='spherical')\n",
       "    extrapolate time: True\n",
       "    time_periodic   : False\n",
       "    gridindexingtype: 'nemo'\n",
       "    to_write        : False"
      ]
     },
     "execution_count": 9,
     "metadata": {},
     "output_type": "execute_result"
    }
   ],
   "source": [
    "nemocurvilinear_data = DATA_HOME / \"NemoCurvilinear_data\"\n",
    "\n",
    "filenames = {\n",
    "    \"U\": {\n",
    "        \"lon\": nemocurvilinear_data / \"mesh_mask.nc4\",\n",
    "        \"lat\": nemocurvilinear_data / \"mesh_mask.nc4\",\n",
    "        \"data\": nemocurvilinear_data / \"U_purely_zonal-ORCA025_grid_U.nc4\",\n",
    "    },\n",
    "    \"V\": {\n",
    "        \"lon\": nemocurvilinear_data / \"mesh_mask.nc4\",\n",
    "        \"lat\": nemocurvilinear_data / \"mesh_mask.nc4\",\n",
    "        \"data\": nemocurvilinear_data / \"V_purely_zonal-ORCA025_grid_V.nc4\",\n",
    "    },\n",
    "}\n",
    "variables = {\"U\": \"U\", \"V\": \"V\"}\n",
    "\n",
    "dimensions = {\"lon\": \"glamf\", \"lat\": \"gphif\", \"time\": \"time_counter\"}\n",
    "\n",
    "fieldset = parcels.FieldSet.from_nemo(filenames, variables, dimensions, allow_time_extrapolation=True)\n",
    "\n",
    "# xarray equivalent\n",
    "ds = (\n",
    "    xr.open_mfdataset(\n",
    "        [\n",
    "            nemocurvilinear_data / \"mesh_mask.nc4\",\n",
    "            nemocurvilinear_data / \"U_purely_zonal-ORCA025_grid_U.nc4\",\n",
    "            nemocurvilinear_data / \"V_purely_zonal-ORCA025_grid_V.nc4\",\n",
    "        ]\n",
    "    )\n",
    "    .drop_vars(\"time\")  # use `time_counter` as the time dimension instead, as in other implementation\n",
    "    .rename(\n",
    "        {\n",
    "            \"glamf\": \"lon\",\n",
    "            \"gphif\": \"lat\",\n",
    "            \"time_counter\": \"time\",\n",
    "        }\n",
    "    )\n",
    "    .set_coords([\"lon\", \"lat\"])  # otherwise its not brought along on the DataArray object\n",
    "    .isel(z=0, z_a=0)  # Extract the depth dimension. Its size 1 anyway.\n",
    ")\n",
    "\n",
    "dimensions_identity = {\"lat\": \"lat\", \"lon\": \"lon\", \"time\": \"time\"}\n",
    "\n",
    "parcels.Field.from_xarray(ds[\"U\"], name=\"U\", dimensions=dimensions_identity, gridindexingtype=\"nemo\")\n",
    "parcels.Field.from_xarray(ds[\"V\"], name=\"V\", dimensions=dimensions_identity, gridindexingtype=\"nemo\")"
   ]
  },
  {
   "cell_type": "markdown",
   "metadata": {},
   "source": [
    "## NemoNorthSeaORCA025-N006_data"
   ]
  },
  {
   "cell_type": "code",
   "execution_count": 10,
   "metadata": {},
   "outputs": [
    {
     "name": "stderr",
     "output_type": "stream",
     "text": [
      "/Users/Hodgs004/coding/repos/parcels/parcels/field.py:648: FileWarning: File data/NemoNorthSeaORCA025-N006_data/coordinates.nc could not be decoded properly by xarray (version 2024.11.0). It will be opened with no decoding. Filling values might be wrongly parsed.\n",
      "  with _grid_fb_class(\n",
      "/Users/Hodgs004/coding/repos/parcels/parcels/field.py:648: FileWarning: File data/NemoNorthSeaORCA025-N006_data/coordinates.nc could not be decoded properly by xarray (version 2024.11.0). It will be opened with no decoding. Filling values might be wrongly parsed.\n",
      "  with _grid_fb_class(\n",
      "/Users/Hodgs004/coding/repos/parcels/parcels/field.py:648: FileWarning: File data/NemoNorthSeaORCA025-N006_data/coordinates.nc could not be decoded properly by xarray (version 2024.11.0). It will be opened with no decoding. Filling values might be wrongly parsed.\n",
      "  with _grid_fb_class(\n"
     ]
    },
    {
     "data": {
      "text/plain": [
       "<Field>\n",
       "    name            : 'W'\n",
       "    grid            : CurvilinearZGrid(lon=array([[-24.56, -24.30, -24.05, ...,  13.01,  13.26,  13.51],\n",
       "       [-24.56, -24.30, -24.04, ...,  13.03,  13.28,  13.53],\n",
       "       [-24.55, -24.30, -24.04, ...,  13.05,  13.30,  13.55],\n",
       "       ...,\n",
       "       [-24.48, -24.01, -23.54, ...,  31.76,  32.01,  32.25],\n",
       "       [-24.50, -24.02, -23.55, ...,  31.99,  32.24,  32.48],\n",
       "       [-24.52, -24.04, -23.56, ...,  32.23,  32.47,  32.72]], dtype=float32), lat=array([[ 45.37,  45.37,  45.37, ...,  44.05,  44.03,  44.02],\n",
       "       [ 45.56,  45.56,  45.56, ...,  44.21,  44.19,  44.18],\n",
       "       [ 45.74,  45.74,  45.74, ...,  44.37,  44.35,  44.34],\n",
       "       ...,\n",
       "       [ 75.57,  75.57,  75.58, ...,  68.63,  68.54,  68.46],\n",
       "       [ 75.70,  75.71,  75.71, ...,  68.72,  68.64,  68.55],\n",
       "       [ 75.84,  75.84,  75.84, ...,  68.81,  68.73,  68.64]], dtype=float32), time=array([ 0.00,  432000.00,  864000.00,  1296000.00,  1728000.00,  2160000.00]), time_origin=2000-01-02T12:00:00.000000000, mesh='spherical')\n",
       "    extrapolate time: False\n",
       "    time_periodic   : False\n",
       "    gridindexingtype: 'nemo'\n",
       "    to_write        : False"
      ]
     },
     "execution_count": 10,
     "metadata": {},
     "output_type": "execute_result"
    }
   ],
   "source": [
    "nemonorthseaorca025_n006_data = DATA_HOME / \"NemoNorthSeaORCA025-N006_data\"\n",
    "\n",
    "\n",
    "ufiles = sorted(glob(f\"{nemonorthseaorca025_n006_data}/ORCA*U.nc\"))\n",
    "vfiles = sorted(glob(f\"{nemonorthseaorca025_n006_data}/ORCA*V.nc\"))\n",
    "wfiles = sorted(glob(f\"{nemonorthseaorca025_n006_data}/ORCA*W.nc\"))\n",
    "mesh_mask = f\"{nemonorthseaorca025_n006_data}/coordinates.nc\"\n",
    "\n",
    "coords = xr.open_dataset(mesh_mask, decode_times=False)\n",
    "\n",
    "filenames = {\n",
    "    \"U\": {\"lon\": mesh_mask, \"lat\": mesh_mask, \"depth\": wfiles[0], \"data\": ufiles},\n",
    "    \"V\": {\"lon\": mesh_mask, \"lat\": mesh_mask, \"depth\": wfiles[0], \"data\": vfiles},\n",
    "    \"W\": {\"lon\": mesh_mask, \"lat\": mesh_mask, \"depth\": wfiles[0], \"data\": wfiles},\n",
    "}\n",
    "\n",
    "variables = {\"U\": \"uo\", \"V\": \"vo\", \"W\": \"wo\"}\n",
    "dimensions = {\n",
    "    \"U\": {\"lon\": \"glamf\", \"lat\": \"gphif\", \"depth\": \"depthw\", \"time\": \"time_counter\"},\n",
    "    \"V\": {\"lon\": \"glamf\", \"lat\": \"gphif\", \"depth\": \"depthw\", \"time\": \"time_counter\"},\n",
    "    \"W\": {\"lon\": \"glamf\", \"lat\": \"gphif\", \"depth\": \"depthw\", \"time\": \"time_counter\"},\n",
    "}\n",
    "fieldset = parcels.FieldSet.from_nemo(filenames, variables, dimensions)\n",
    "\n",
    "\n",
    "# xarray equivalent\n",
    "mesh_mask = (\n",
    "    xr.open_mfdataset(f\"{nemonorthseaorca025_n006_data}/coordinates.nc\", decode_times=False)\n",
    "    .isel(time=0)\n",
    "    .drop_vars(\"time\")[[\"glamf\", \"gphif\"]]  # Static mesh\n",
    "    .rename({\"glamf\": \"lon\", \"gphif\": \"lat\"})\n",
    "    .drop_attrs(deep=False)  # prevent collision with other dataset level attributes when merging\n",
    ")\n",
    "\n",
    "ds_U = (\n",
    "    xr.open_mfdataset(f\"{nemonorthseaorca025_n006_data}/ORCA*U.nc\")\n",
    "    .rename({\"uo\": \"U\", \"time_counter\": \"time\", \"depthu\": \"depth\"})[[\"U\"]]\n",
    "    .drop_vars([\"nav_lon\", \"nav_lat\", \"depth\"])  # using lat and lon from mesh, and depth from W\n",
    "    .drop_attrs(deep=False)  # prevent collision with other dataset level attributes when merging\n",
    ")\n",
    "\n",
    "ds_V = (\n",
    "    xr.open_mfdataset(f\"{nemonorthseaorca025_n006_data}/ORCA*V.nc\")\n",
    "    .rename({\"vo\": \"V\", \"time_counter\": \"time\", \"depthv\": \"depth\"})[[\"V\"]]\n",
    "    .drop_vars([\"nav_lon\", \"nav_lat\", \"depth\"])  # using lat and lon from mesh, and depth from W\n",
    "    .drop_attrs(deep=False)  # prevent collision with other dataset level attributes when merging\n",
    ")\n",
    "\n",
    "ds_W = (\n",
    "    xr.open_mfdataset(f\"{nemonorthseaorca025_n006_data}/ORCA*W.nc\")\n",
    "    .rename({\"wo\": \"W\", \"time_counter\": \"time\", \"depthw\": \"depth\"})[[\"W\"]]\n",
    "    .drop_vars([\"nav_lon\", \"nav_lat\"])\n",
    "    .drop_attrs(deep=False)  # prevent collision with other dataset level attributes when merging\n",
    ")\n",
    "\n",
    "ds = xr.combine_by_coords([mesh_mask, ds_U, ds_V, ds_W]).set_coords([\"lon\", \"lat\"])\n",
    "\n",
    "\n",
    "dimensions_identity = {\"lat\": \"lat\", \"lon\": \"lon\", \"time\": \"time\", \"depth\": \"depth\"}\n",
    "\n",
    "parcels.Field.from_xarray(ds[\"U\"], name=\"U\", dimensions=dimensions_identity, gridindexingtype=\"nemo\")\n",
    "parcels.Field.from_xarray(ds[\"V\"], name=\"V\", dimensions=dimensions_identity, gridindexingtype=\"nemo\")\n",
    "parcels.Field.from_xarray(ds[\"W\"], name=\"W\", dimensions=dimensions_identity, gridindexingtype=\"nemo\")"
   ]
  },
  {
   "cell_type": "markdown",
   "metadata": {},
   "source": [
    "## MITgcm_example_data\n"
   ]
  },
  {
   "cell_type": "code",
   "execution_count": 11,
   "metadata": {},
   "outputs": [],
   "source": [
    "mitgcm_example_data = DATA_HOME / \"MITgcm_example_data\"\n",
    "\n",
    "filenames = {\n",
    "    \"U\": f\"{mitgcm_example_data}/mitgcm_UV_surface_zonally_reentrant.nc\",\n",
    "    \"V\": f\"{mitgcm_example_data}/mitgcm_UV_surface_zonally_reentrant.nc\",\n",
    "}\n",
    "variables = {\"U\": \"UVEL\", \"V\": \"VVEL\"}\n",
    "dimensions = {\n",
    "    \"U\": {\"lon\": \"XG\", \"lat\": \"YG\", \"time\": \"time\"},\n",
    "    \"V\": {\"lon\": \"XG\", \"lat\": \"YG\", \"time\": \"time\"},\n",
    "}\n",
    "fieldset = parcels.FieldSet.from_mitgcm(filenames, variables, dimensions, mesh=\"flat\")"
   ]
  },
  {
   "cell_type": "code",
   "execution_count": 12,
   "metadata": {},
   "outputs": [
    {
     "data": {
      "text/plain": [
       "<Field>\n",
       "    name            : 'V'\n",
       "    grid            : RectilinearZGrid(lon=array([ 0.00,  5000.00,  10000.00, ...,  985000.00,  990000.00,  995000.00], dtype=float32), lat=array([ 0.00,  5000.00,  10000.00, ...,  1985000.00,  1990000.00,  1995000.00], dtype=float32), time=array([ 0.00,  86400.00,  172800.00, ...,  604800.00,  691200.00,  777600.00]), time_origin=2000-01-02 00:00:00, mesh='spherical')\n",
       "    extrapolate time: False\n",
       "    time_periodic   : False\n",
       "    gridindexingtype: 'mitgcm'\n",
       "    to_write        : False"
      ]
     },
     "execution_count": 12,
     "metadata": {},
     "output_type": "execute_result"
    }
   ],
   "source": [
    "# xarray equivalent\n",
    "def update_to_fpoints(ds: xr.Dataset) -> xr.Dataset:\n",
    "    \"\"\"Parcels assumes that data is provided on the f-points, so we need to swap the dimensions.\"\"\"\n",
    "    ds[\"UVEL\"] = ds[\"UVEL\"].swap_dims({\"YC\": \"YG\"})\n",
    "    ds[\"VVEL\"] = ds[\"VVEL\"].swap_dims({\"XC\": \"XG\"})\n",
    "    return ds\n",
    "\n",
    "\n",
    "ds = (\n",
    "    xr.open_dataset(mitgcm_example_data / \"mitgcm_UV_surface_zonally_reentrant.nc\")\n",
    "    .pipe(update_to_fpoints)\n",
    "    .rename({\"XG\": \"lon\", \"YG\": \"lat\", \"time\": \"time\", \"UVEL\": \"U\", \"VVEL\": \"V\"})\n",
    ")\n",
    "\n",
    "dimensions_identity = {\"lat\": \"lat\", \"lon\": \"lon\", \"time\": \"time\"}\n",
    "\n",
    "parcels.Field.from_xarray(ds[\"U\"], name=\"U\", dimensions=dimensions_identity, gridindexingtype=\"mitgcm\")\n",
    "parcels.Field.from_xarray(ds[\"V\"], name=\"V\", dimensions=dimensions_identity, gridindexingtype=\"mitgcm\")"
   ]
  },
  {
   "cell_type": "markdown",
   "metadata": {},
   "source": [
    "## Additional Notes"
   ]
  },
  {
   "cell_type": "code",
   "execution_count": null,
   "metadata": {},
   "outputs": [],
   "source": []
  },
  {
   "cell_type": "code",
   "execution_count": null,
   "metadata": {},
   "outputs": [],
   "source": []
  }
 ],
 "metadata": {
  "kernelspec": {
   "display_name": "parcels-dev",
   "language": "python",
   "name": "python3"
  },
  "language_info": {
   "codemirror_mode": {
    "name": "ipython",
    "version": 3
   },
   "file_extension": ".py",
   "mimetype": "text/x-python",
   "name": "python",
   "nbconvert_exporter": "python",
   "pygments_lexer": "ipython3",
   "version": "3.10.15"
  }
 },
 "nbformat": 4,
 "nbformat_minor": 2
}
